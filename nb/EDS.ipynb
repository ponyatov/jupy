{
 "cells": [
  {
   "cell_type": "markdown",
   "metadata": {},
   "source": [
    "# метод EDS: Executable Data Structures\n",
    "## вычисления на объектных графах в Python\n",
    "#### краткое описание метода использованного в *meteo.kit*"
   ]
  },
  {
   "cell_type": "markdown",
   "metadata": {},
   "source": [
    "(c) Dmitry Ponyatov <<dponyatov@gmail.com>>"
   ]
  },
  {
   "cell_type": "markdown",
   "metadata": {},
   "source": [
    "## Объектный граф"
   ]
  },
  {
   "cell_type": "markdown",
   "metadata": {},
   "source": [
    "[Объектный граф](https://en.wikipedia.org/wiki/Object_graph) -- структура данных, состоящая из объектов, связанных между собой направленными связями (ссылками). Каждый узел графа может иметь \n",
    "* `val` одиночное значение: имя объекта, значение числа/строки\n",
    "* `nest[]` набор *упорядоченных* ссылок на другие узлы, и \n",
    "* `slot{}` набор *атрибутов* адресуемых по их именам\n",
    "* `sid` уникальный идентификатор объекта, уникальный для хранилища или глобально (**s**torage id)"
   ]
  },
  {
   "cell_type": "markdown",
   "metadata": {},
   "source": [
    "Направленный объектный граф формируется в памяти через ссылки между объектами. При сериализации в хранинилищах данных (Redis, DBMS,..) или передаче в распределенных системах возникает необходимость использовать уникальные идентификаторы для каждого объекта, так как необходимо универсальное представление ссылок, переносимое между любыми форматами."
   ]
  },
  {
   "cell_type": "markdown",
   "metadata": {},
   "source": [
    "### Универсальная структура представления знаний"
   ]
  },
  {
   "cell_type": "markdown",
   "metadata": {},
   "source": [
    "Структуры данных, составленные из групп объектов, *отнаследованных* от базового класса `Object`, являются формой *универсального* **представления знаний** ([KR&R](https://en.wikipedia.org/wiki/Knowledge_representation_and_reasoning)). В виде графа могут быть не только данные, но и программы для их обработки, поэтому такая форма *исполняемых данных* позволяет использовать мощную технику *метапрограммирования*, когда программы могут создавать и изменять другие программы."
   ]
  },
  {
   "cell_type": "markdown",
   "metadata": {},
   "source": [
    "* [Атрибутные транслирующие грамматики](https://neerc.ifmo.ru/wiki/index.php?title=%D0%90%D1%82%D1%80%D0%B8%D0%B1%D1%83%D1%82%D0%BD%D1%8B%D0%B5_%D1%82%D1%80%D0%B0%D0%BD%D1%81%D0%BB%D0%B8%D1%80%D1%83%D1%8E%D1%89%D0%B8%D0%B5_%D0%B3%D1%80%D0%B0%D0%BC%D0%BC%D0%B0%D1%82%D0%B8%D0%BA%D0%B8)\n",
    "* Метапрограммирование\n",
    "  * https://habr.com/ru/post/137446/"
   ]
  },
  {
   "cell_type": "markdown",
   "metadata": {},
   "source": [
    "Данные не только могут хранить информацию, и обрабатываться внешними программами. Если написать **интерпретатор данных**, и включить в состав хранимых типов классы для описания алгоритмов, процедур и потоков обработки, возможно реализовать мощные вычислительные системы на уровне базы данных (знаний)."
   ]
  },
  {
   "cell_type": "markdown",
   "metadata": {},
   "source": [
    "## Базовый класс узлов объектного графа"
   ]
  },
  {
   "cell_type": "code",
   "execution_count": 1,
   "metadata": {},
   "outputs": [],
   "source": [
    "# базовый класс узлов объектного графа\n",
    "class Object:\n",
    "\n",
    "    def __init__(self, V, sid=None):\n",
    "        # № метка типа/класса\n",
    "        self.type = self.__class__.__name__.lower()\n",
    "        # № скалярное значение узла (имя, строка, число)\n",
    "        self.val = V\n",
    "        # № атрибуты = ассоциативный массив\n",
    "        self.slot = {}\n",
    "        # упорядоченный набор ссылок = вектор = стек\n",
    "        self.nest = []\n",
    "        # уникальный идентификатор объекта (глобальный или в пределах хранилища)\n",
    "        if not sid:\n",
    "            self.sid = id(self)\n",
    "        else:\n",
    "            self.sid = sid"
   ]
  },
  {
   "cell_type": "markdown",
   "metadata": {},
   "source": [
    "### Визуализация графа"
   ]
  },
  {
   "cell_type": "markdown",
   "metadata": {},
   "source": [
    "#### Текстовый дамп"
   ]
  },
  {
   "cell_type": "markdown",
   "metadata": {},
   "source": [
    "Для работы с графом или отдельными объектами необходимы средства просмотра его содержимого в человеко-читаемом виде. В простейшем случае это может быть текстовое представление:"
   ]
  },
  {
   "cell_type": "code",
   "execution_count": 2,
   "metadata": {},
   "outputs": [
    {
     "name": "stdout",
     "output_type": "stream",
     "text": [
      "<__main__.Object object at 0x7fd925178da0>\n"
     ]
    }
   ],
   "source": [
    "print(Object(\"Hello\"))"
   ]
  },
  {
   "cell_type": "code",
   "execution_count": 3,
   "metadata": {},
   "outputs": [],
   "source": [
    "class Object(Object):  # наследование от самого себя - способ расширения класса в Jupyter\n",
    "\n",
    "    # служебный метод вызывается из `print()`\n",
    "    def __repr__(self):\n",
    "        return self.dump()\n",
    "\n",
    "    # вывод дампа в виде текстового дерева\n",
    "    def dump(self, depth=0, prefix=''):\n",
    "        # заголовок\n",
    "        tree = self.pad(depth) + self.head(prefix)\n",
    "        # останов бесконечной рекурсии на циклических ссылках\n",
    "        if not depth:\n",
    "            Object._dumped = []\n",
    "        if self in Object._dumped:\n",
    "            return tree + ' _/'\n",
    "        else:\n",
    "            Object._dumped.append(self)\n",
    "        # slot{}ы\n",
    "        for i in self.slot:\n",
    "            tree += self.slot[i].dump(depth + 1, prefix='%s = ' % i)\n",
    "        # nest[]ы\n",
    "        idx = 0\n",
    "        for j in self.nest:\n",
    "            tree += j.dump(depth + 1, prefix='%s = ' % idx)\n",
    "            idx += 1\n",
    "        # дамп подграфа\n",
    "        return tree\n",
    "\n",
    "    # короткий дамп: только <T:V> заголовок\n",
    "    def head(self, prefix=''):\n",
    "        return '%s<%s:%s> @%s' % (prefix, self.type, self._val(), self.sid)\n",
    "\n",
    "    # отбивка пробелами в зависимости от уровня вложенности\n",
    "    def pad(self, depth):\n",
    "        return '\\n' + '\\t' * depth\n",
    "    # метод форматирует поле .val специально для дампа\n",
    "\n",
    "    def _val(self):\n",
    "        return '%s' % self.val"
   ]
  },
  {
   "cell_type": "code",
   "execution_count": 4,
   "metadata": {},
   "outputs": [
    {
     "name": "stdout",
     "output_type": "stream",
     "text": [
      "\n",
      "<object:Hello> @140570597918480\n"
     ]
    }
   ],
   "source": [
    "print( Object(\"Hello\") )"
   ]
  },
  {
   "cell_type": "markdown",
   "metadata": {},
   "source": [
    "#### Графическое представление / graphviz /"
   ]
  },
  {
   "cell_type": "code",
   "execution_count": 5,
   "metadata": {},
   "outputs": [],
   "source": [
    "from graphviz import Digraph"
   ]
  },
  {
   "cell_type": "markdown",
   "metadata": {},
   "source": [
    "* http://diginal.ru/python/narisovat-graf-s-graphviz-v-jupyter-notebook/"
   ]
  },
  {
   "cell_type": "code",
   "execution_count": 6,
   "metadata": {},
   "outputs": [],
   "source": [
    "class Object(Object):\n",
    "\n",
    "    # визуализация графа через библиотеку graphviz\n",
    "    def plot(self, plot=None, parent=None, label='', color='black'):\n",
    "        # инициализация или ветвь рекурсии\n",
    "        if not plot:\n",
    "            plot = Digraph(comment=self.head())\n",
    "            plot.graph_attr.update(size=\"9,9\")\n",
    "            Object.plotted = []\n",
    "        # остановка рекурсии на циклических графах\n",
    "        if self in Object.plotted:\n",
    "            return plot\n",
    "        else:\n",
    "            Object.plotted.append(self)\n",
    "        # вывод узла графа\n",
    "        plot.node('%s' % self.sid, '%s:%s' % (self.type, self._val()))\n",
    "        # вывод ребра графа с меткой\n",
    "        if parent:\n",
    "            plot.edge('%s' % parent.sid, '%s' % self.sid, label=label, color=color)\n",
    "        # рекурсия по slot{}\n",
    "        for i in self.slot:\n",
    "            plot = self.slot[i].plot(plot, parent=self, label='%s' % i, color='blue')\n",
    "        # рекурсия по nest[]\n",
    "        idx = 0\n",
    "        for j in self.nest:\n",
    "            plot = j.plot(plot, parent=self, label='/%s' % idx, color='red')\n",
    "            idx += 1\n",
    "        # возврат подграфа из рекурсии\n",
    "        return plot"
   ]
  },
  {
   "cell_type": "markdown",
   "metadata": {},
   "source": [
    "### Операторы для построения структуры графа"
   ]
  },
  {
   "cell_type": "code",
   "execution_count": 7,
   "metadata": {},
   "outputs": [],
   "source": [
    "class Object(Object):\n",
    "\n",
    "    # A[key] получить подграф из слота по имени\n",
    "    def __getitem__(self, key):\n",
    "        return self.slot[key]\n",
    "\n",
    "    # A[key] = B присвоить подграф слотупо имени\n",
    "    def __setitem__(self, key, that):\n",
    "        self.slot[key] = that\n",
    "        return self\n",
    "\n",
    "    # A << B -> A[B.type] = B присвоить слот по имени типа B\n",
    "    def __lshift__(self, that):\n",
    "        return self.__setitem__(that.type, that)\n",
    "\n",
    "    # A >> B -> A[B.val] = B присвоить слот по значению B\n",
    "    def __rshift__(self, that):\n",
    "        return self.__setitem__(that.val, that)\n",
    "\n",
    "    # A // B -> A.push(B) втолкнуть B как в стек\n",
    "    def __floordiv__(self, that):\n",
    "        self.nest.append(that)\n",
    "        return self"
   ]
  },
  {
   "cell_type": "code",
   "execution_count": 8,
   "metadata": {},
   "outputs": [
    {
     "data": {
      "text/plain": [
       "\n",
       "<object:Hello> @140570597619528\n",
       "\t0 = <object:World> @140570597619024"
      ]
     },
     "execution_count": 8,
     "metadata": {},
     "output_type": "execute_result"
    }
   ],
   "source": [
    "hello = Object('Hello') // Object('World') ; hello"
   ]
  },
  {
   "cell_type": "code",
   "execution_count": 9,
   "metadata": {},
   "outputs": [
    {
     "data": {
      "text/plain": [
       "\n",
       "<object:Hello> @140570597619528\n",
       "\tsome = <object:slot> @140570597620368\n",
       "\t0 = <object:World> @140570597619024"
      ]
     },
     "execution_count": 9,
     "metadata": {},
     "output_type": "execute_result"
    }
   ],
   "source": [
    "hello['some'] = Object('slot') ; hello"
   ]
  },
  {
   "cell_type": "code",
   "execution_count": 10,
   "metadata": {},
   "outputs": [
    {
     "data": {
      "text/plain": [
       "\n",
       "<object:Hello> @140570597619528\n",
       "\tsome = <object:slot> @140570597620368\n",
       "\tobject = <object:left> @140570597155728\n",
       "\tright = <object:right> @140570597155672\n",
       "\t0 = <object:World> @140570597619024"
      ]
     },
     "execution_count": 10,
     "metadata": {},
     "output_type": "execute_result"
    }
   ],
   "source": [
    "hello << Object('left')\n",
    "hello >> Object('right')\n",
    "hello"
   ]
  },
  {
   "cell_type": "code",
   "execution_count": 11,
   "metadata": {},
   "outputs": [
    {
     "data": {
      "image/svg+xml": [
       "<?xml version=\"1.0\" encoding=\"UTF-8\" standalone=\"no\"?>\n",
       "<!DOCTYPE svg PUBLIC \"-//W3C//DTD SVG 1.1//EN\"\n",
       " \"http://www.w3.org/Graphics/SVG/1.1/DTD/svg11.dtd\">\n",
       "<!-- Generated by graphviz version 2.40.1 (20161225.0304)\n",
       " -->\n",
       "<!-- Title: %3 Pages: 1 -->\n",
       "<svg width=\"467pt\" height=\"131pt\"\n",
       " viewBox=\"0.00 0.00 467.29 131.00\" xmlns=\"http://www.w3.org/2000/svg\" xmlns:xlink=\"http://www.w3.org/1999/xlink\">\n",
       "<g id=\"graph0\" class=\"graph\" transform=\"scale(1 1) rotate(0) translate(4 127)\">\n",
       "<title>%3</title>\n",
       "<polygon fill=\"#ffffff\" stroke=\"transparent\" points=\"-4,4 -4,-127 463.2907,-127 463.2907,4 -4,4\"/>\n",
       "<!-- 140570597619528 -->\n",
       "<g id=\"node1\" class=\"node\">\n",
       "<title>140570597619528</title>\n",
       "<ellipse fill=\"none\" stroke=\"#000000\" cx=\"216.4458\" cy=\"-105\" rx=\"53.8905\" ry=\"18\"/>\n",
       "<text text-anchor=\"middle\" x=\"216.4458\" y=\"-101.3\" font-family=\"Times,serif\" font-size=\"14.00\" fill=\"#000000\">object:Hello</text>\n",
       "</g>\n",
       "<!-- 140570597620368 -->\n",
       "<g id=\"node2\" class=\"node\">\n",
       "<title>140570597620368</title>\n",
       "<ellipse fill=\"none\" stroke=\"#000000\" cx=\"47.4458\" cy=\"-18\" rx=\"47.3916\" ry=\"18\"/>\n",
       "<text text-anchor=\"middle\" x=\"47.4458\" y=\"-14.3\" font-family=\"Times,serif\" font-size=\"14.00\" fill=\"#000000\">object:slot</text>\n",
       "</g>\n",
       "<!-- 140570597619528&#45;&gt;140570597620368 -->\n",
       "<g id=\"edge1\" class=\"edge\">\n",
       "<title>140570597619528&#45;&gt;140570597620368</title>\n",
       "<path fill=\"none\" stroke=\"#0000ff\" d=\"M187.0082,-89.8458C158.6403,-75.2422 115.6076,-53.0892 84.8309,-37.2456\"/>\n",
       "<polygon fill=\"#0000ff\" stroke=\"#0000ff\" points=\"86.1959,-34.0118 75.7028,-32.5465 82.9919,-40.2355 86.1959,-34.0118\"/>\n",
       "<text text-anchor=\"middle\" x=\"157.4458\" y=\"-57.8\" font-family=\"Times,serif\" font-size=\"14.00\" fill=\"#000000\">some</text>\n",
       "</g>\n",
       "<!-- 140570597155728 -->\n",
       "<g id=\"node3\" class=\"node\">\n",
       "<title>140570597155728</title>\n",
       "<ellipse fill=\"none\" stroke=\"#000000\" cx=\"159.4458\" cy=\"-18\" rx=\"46.2923\" ry=\"18\"/>\n",
       "<text text-anchor=\"middle\" x=\"159.4458\" y=\"-14.3\" font-family=\"Times,serif\" font-size=\"14.00\" fill=\"#000000\">object:left</text>\n",
       "</g>\n",
       "<!-- 140570597619528&#45;&gt;140570597155728 -->\n",
       "<g id=\"edge2\" class=\"edge\">\n",
       "<title>140570597619528&#45;&gt;140570597155728</title>\n",
       "<path fill=\"none\" stroke=\"#0000ff\" d=\"M204.911,-87.3943C196.7987,-75.0124 185.8032,-58.2297 176.6575,-44.2704\"/>\n",
       "<polygon fill=\"#0000ff\" stroke=\"#0000ff\" points=\"179.3714,-42.0261 170.9634,-35.5796 173.5161,-45.8623 179.3714,-42.0261\"/>\n",
       "<text text-anchor=\"middle\" x=\"208.4458\" y=\"-57.8\" font-family=\"Times,serif\" font-size=\"14.00\" fill=\"#000000\">object</text>\n",
       "</g>\n",
       "<!-- 140570597155672 -->\n",
       "<g id=\"node4\" class=\"node\">\n",
       "<title>140570597155672</title>\n",
       "<ellipse fill=\"none\" stroke=\"#000000\" cx=\"274.4458\" cy=\"-18\" rx=\"51.1914\" ry=\"18\"/>\n",
       "<text text-anchor=\"middle\" x=\"274.4458\" y=\"-14.3\" font-family=\"Times,serif\" font-size=\"14.00\" fill=\"#000000\">object:right</text>\n",
       "</g>\n",
       "<!-- 140570597619528&#45;&gt;140570597155672 -->\n",
       "<g id=\"edge3\" class=\"edge\">\n",
       "<title>140570597619528&#45;&gt;140570597155672</title>\n",
       "<path fill=\"none\" stroke=\"#0000ff\" d=\"M228.183,-87.3943C236.4375,-75.0124 247.626,-58.2297 256.9322,-44.2704\"/>\n",
       "<polygon fill=\"#0000ff\" stroke=\"#0000ff\" points=\"260.0912,-45.8415 262.7261,-35.5796 254.2669,-41.9586 260.0912,-45.8415\"/>\n",
       "<text text-anchor=\"middle\" x=\"262.4458\" y=\"-57.8\" font-family=\"Times,serif\" font-size=\"14.00\" fill=\"#000000\">right</text>\n",
       "</g>\n",
       "<!-- 140570597619024 -->\n",
       "<g id=\"node5\" class=\"node\">\n",
       "<title>140570597619024</title>\n",
       "<ellipse fill=\"none\" stroke=\"#000000\" cx=\"401.4458\" cy=\"-18\" rx=\"57.6901\" ry=\"18\"/>\n",
       "<text text-anchor=\"middle\" x=\"401.4458\" y=\"-14.3\" font-family=\"Times,serif\" font-size=\"14.00\" fill=\"#000000\">object:World</text>\n",
       "</g>\n",
       "<!-- 140570597619528&#45;&gt;140570597619024 -->\n",
       "<g id=\"edge4\" class=\"edge\">\n",
       "<title>140570597619528&#45;&gt;140570597619024</title>\n",
       "<path fill=\"none\" stroke=\"#ff0000\" d=\"M247.8285,-90.2416C278.7357,-75.7069 326.1206,-53.4232 360.0875,-37.4496\"/>\n",
       "<polygon fill=\"#ff0000\" stroke=\"#ff0000\" points=\"361.7275,-40.5461 369.2873,-33.1232 358.7485,-34.2116 361.7275,-40.5461\"/>\n",
       "<text text-anchor=\"middle\" x=\"325.9458\" y=\"-57.8\" font-family=\"Times,serif\" font-size=\"14.00\" fill=\"#000000\">/0</text>\n",
       "</g>\n",
       "</g>\n",
       "</svg>\n"
      ],
      "text/plain": [
       "<graphviz.dot.Digraph at 0x7fd924826438>"
      ]
     },
     "execution_count": 11,
     "metadata": {},
     "output_type": "execute_result"
    }
   ],
   "source": [
    "hello.plot()"
   ]
  },
  {
   "cell_type": "markdown",
   "metadata": {},
   "source": [
    "### Стековые операции"
   ]
  },
  {
   "cell_type": "markdown",
   "metadata": {},
   "source": [
    "При реализации языков программирования очень широко используется такой подход как [стековая виртуальная машина](https://tech.badoo.com/ru/article/579/interpretatory-bajt-kodov-svoimi-rukami/). Несмотря на то, что почти все современные процессоры являются регистровыми машинами, при реализации интерпреторов наоборот в основном используется стековая архитектура. Как пример, JVM и .NET являются стековыми машинами."
   ]
  },
  {
   "cell_type": "code",
   "execution_count": 12,
   "metadata": {},
   "outputs": [],
   "source": [
    "class Object(Object):\n",
    "    # ( 1 2 3 -- 1 2 4 ) -> 3\n",
    "    def top(self): return self.nest[-1]\n",
    "    # ( 1 2 3 -- 1 2 3 ) -> 2\n",
    "    def tip(self): return self.nest[-2]\n",
    "    # ( 1 2 3 -- 1 2 ) -> 3\n",
    "    def pop(self): return self.nest.pop(-1)\n",
    "    # ( 1 2 3 -- 1 3 ) -> 2\n",
    "    def pip(self): return self.nest.pop(-2)\n",
    "    # ( 1 2 3 -- )\n",
    "    def dropall(self): self.nest = [] ; return self\n",
    "    # ( 1 2 3 -- 1 2 3 3 )\n",
    "    def dup(self): return self // self.top()\n",
    "    # ( 1 2 3 -- 1 2 )\n",
    "    def drop(self): self.pop() ; return self\n",
    "    # ( 1 2 3 -- 1 3 2 )\n",
    "    def swap(self): return self // self.pip()\n",
    "    # ( 1 2 3 -- 1 2 3 2 )\n",
    "    def over(self): return self // self.nest[-2]\n",
    "    # ( 1 2 3 -- 1 3 )\n",
    "    def press(self): self.pip() ; return self"
   ]
  },
  {
   "cell_type": "markdown",
   "metadata": {},
   "source": [
    "Выше приведен код, для описания которого в комментариях применялась *стековая нотация*:\n",
    "* стек растет слева направо, вершина стека самый правый элемент\n",
    "* запись `--` разделяет состояния стека до и после операции\n",
    "* скобки используются т.к. в языке Форт они выделяют inline-комментарии в коде\n",
    "* `->` показывает что возвращается из Python-метода"
   ]
  },
  {
   "cell_type": "code",
   "execution_count": 13,
   "metadata": {},
   "outputs": [],
   "source": [
    "def stack123(): return Object('stack') // Object(1) // Object(2) // Object(3)"
   ]
  },
  {
   "cell_type": "markdown",
   "metadata": {},
   "source": [
    "Стековые операции изменяют состояние объекта, а не возвращают новый измененный объект, как это происходит в функциональных языках. Для примеров пришлось завести служебную функцию `stack123()`."
   ]
  },
  {
   "cell_type": "code",
   "execution_count": 14,
   "metadata": {},
   "outputs": [
    {
     "data": {
      "text/plain": [
       "\n",
       "<object:stack> @140570597606120\n",
       "\t0 = <object:1> @140570597606232\n",
       "\t1 = <object:2> @140570597606344\n",
       "\t2 = <object:3> @140570597606456"
      ]
     },
     "execution_count": 14,
     "metadata": {},
     "output_type": "execute_result"
    }
   ],
   "source": [
    "stack = stack123() ; stack"
   ]
  },
  {
   "cell_type": "markdown",
   "metadata": {},
   "source": [
    "Поле объектов `nest[]` работает и как стек, на дампе вершина стека находится внизу, с максимальным целочисленным индексом."
   ]
  },
  {
   "cell_type": "code",
   "execution_count": 15,
   "metadata": {},
   "outputs": [
    {
     "name": "stdout",
     "output_type": "stream",
     "text": [
      "top \n",
      "<object:3> @140570597606456\n",
      "tip \n",
      "<object:2> @140570597606344\n"
     ]
    }
   ],
   "source": [
    "print('top',stack.top()) ; print('tip',stack.tip())"
   ]
  },
  {
   "cell_type": "code",
   "execution_count": 16,
   "metadata": {},
   "outputs": [
    {
     "name": "stdout",
     "output_type": "stream",
     "text": [
      "pop \n",
      "<object:3> @140570597606456 \n",
      "<object:stack> @140570597606120\n",
      "\t0 = <object:1> @140570597606232\n",
      "\t1 = <object:2> @140570597606344\n"
     ]
    }
   ],
   "source": [
    "print('pop',stack.pop(),stack)"
   ]
  },
  {
   "cell_type": "code",
   "execution_count": 17,
   "metadata": {},
   "outputs": [
    {
     "name": "stdout",
     "output_type": "stream",
     "text": [
      "pip \n",
      "<object:1> @140570597606232 \n",
      "<object:stack> @140570597606120\n",
      "\t0 = <object:2> @140570597606344\n"
     ]
    }
   ],
   "source": [
    "print('pip',stack.pip(),stack)"
   ]
  },
  {
   "cell_type": "markdown",
   "metadata": {},
   "source": [
    "## Примитивы"
   ]
  },
  {
   "cell_type": "code",
   "execution_count": 18,
   "metadata": {},
   "outputs": [],
   "source": [
    "class Primitive(Object): pass\n",
    "class Symbol(Primitive): pass\n",
    "class String(Primitive): pass"
   ]
  },
  {
   "cell_type": "code",
   "execution_count": 19,
   "metadata": {},
   "outputs": [],
   "source": [
    "class Number(Primitive):\n",
    "    def __init__(self,V): Primitive.__init__(self,float(V))"
   ]
  },
  {
   "cell_type": "code",
   "execution_count": 20,
   "metadata": {},
   "outputs": [],
   "source": [
    "class Integer(Number):\n",
    "    def __init__(self,V): Primitive.__init__(self,int(V,0x0A))"
   ]
  },
  {
   "cell_type": "code",
   "execution_count": 21,
   "metadata": {},
   "outputs": [],
   "source": [
    "class Hex(Integer):\n",
    "    def __init__(self,V): Primitive.__init__(self,int(V[2:],0x10))\n",
    "    def _val(self): return hex(self.val) # '0x{0:x}'.format(self.val)"
   ]
  },
  {
   "cell_type": "code",
   "execution_count": 22,
   "metadata": {},
   "outputs": [],
   "source": [
    "class Bin(Integer):\n",
    "    def __init__(self,V): Primitive.__init__(self,int(V[2:],0x02))\n",
    "    def _val(self): return bin(self.val) # '0b{0:b}'.format(self.val)"
   ]
  },
  {
   "cell_type": "markdown",
   "metadata": {},
   "source": [
    "## Контейнеры"
   ]
  },
  {
   "cell_type": "code",
   "execution_count": 23,
   "metadata": {},
   "outputs": [],
   "source": [
    "class Container(Object): pass\n",
    "class Vector(Container): pass\n",
    "class Array(Container): pass\n",
    "class Dict(Container): pass\n",
    "class Stack(Container): pass\n",
    "class Queue(Container): pass"
   ]
  },
  {
   "cell_type": "markdown",
   "metadata": {},
   "source": [
    "## Реализация примитивного ЯП\n",
    "### на базе графовой машины"
   ]
  },
  {
   "cell_type": "markdown",
   "metadata": {},
   "source": [
    "Вырожденным случаем языка программирования является [язык Форт](http://www.nncron.ru/book/sf/) /[.pdf](http://www.nncron.ru/download/sf.pdf)/, который имеет самый минимально возможный синтаксис и реализацию интерпретатора:\n",
    "* **любая непробельная группа символов** является командой, или (числовой) константой\n",
    "* все команды получают параметры и возвращают результат на **стеке**\n",
    "* привязка значений к именам (команды) выполняется через **словарь**"
   ]
  },
  {
   "cell_type": "code",
   "execution_count": 24,
   "metadata": {},
   "outputs": [],
   "source": [
    "# использяемые данные\n",
    "class Active(Object): pass"
   ]
  },
  {
   "cell_type": "code",
   "execution_count": 25,
   "metadata": {},
   "outputs": [
    {
     "name": "stdout",
     "output_type": "stream",
     "text": [
      "\n",
      "<vm:FORTH> @140570606902408\n"
     ]
    }
   ],
   "source": [
    "# виртуальная (форт-)машина\n",
    "class VM(Active): pass\n",
    "vm = VM('FORTH') ; print(vm)"
   ]
  },
  {
   "cell_type": "markdown",
   "metadata": {},
   "source": [
    "#### Регистрируем функции как команды форт-машины"
   ]
  },
  {
   "cell_type": "markdown",
   "metadata": {},
   "source": [
    "Отдельный класс-обертка для функций вида `def cmd(context) -> context` , которые принимают в качестве параметра **контекст вычисления**, и возвращают измененный контекст. Для микроФорта единственный контекст -- это общий глобальный объект `vm` который содержит:\n",
    "* **стек** данных\n",
    "* ассоциативный список, хранящий привязки имен переменных к из значениям (**environment**, для Форта то же самое что и **словарь**)\n",
    "\n",
    "Также в контекст могут входить:\n",
    "* память виртуальной машины: классический Форт адресует память напрямую целочисленными адресами, наш вариант будет работать только через словарь, и использовать символы в качестве адреса)\n",
    "* любые другие ресурсы, которые должны быть освобождены при завершении текущего вычисления (открытые файлы, сетевые соединения, окна GUI,..)"
   ]
  },
  {
   "cell_type": "code",
   "execution_count": 26,
   "metadata": {},
   "outputs": [],
   "source": [
    "# команда ВМ (обертка для функций написанных на Python)\n",
    "class Command(Active):\n",
    "    def __init__(self, F):\n",
    "        Active.__init__(self, F.__name__)\n",
    "        self.fn = F  # функция хранится как дополнительное поле объекта\n",
    "    def eval(self, env):\n",
    "        return self.fn(env)"
   ]
  },
  {
   "cell_type": "code",
   "execution_count": 27,
   "metadata": {},
   "outputs": [
    {
     "data": {
      "text/plain": [
       "\n",
       "<vm:FORTH> @140570606902408\n",
       "\tBYE = <command:BYE> @140570597302624"
      ]
     },
     "execution_count": 27,
     "metadata": {},
     "output_type": "execute_result"
    }
   ],
   "source": [
    "def BYE(ctx): exit(0)\n",
    "vm >> Command(BYE)"
   ]
  },
  {
   "cell_type": "markdown",
   "metadata": {},
   "source": [
    "#### команды стековых операций"
   ]
  },
  {
   "cell_type": "markdown",
   "metadata": {},
   "source": [
    "Команды вызывают соответствующие методы объекта `Object`, описанные выше. Для примера пара команд определена через `lambda:`. Команды заданные в виде именованных функций, дают более читаемый дамп"
   ]
  },
  {
   "cell_type": "code",
   "execution_count": 28,
   "metadata": {},
   "outputs": [
    {
     "data": {
      "text/plain": [
       "\n",
       "<vm:FORTH> @140570606902408\n",
       "\tBYE = <command:BYE> @140570597302624\n",
       "\tDUP = <command:<lambda>> @140570597320744\n",
       "\tDROP = <command:<lambda>> @140570597320688\n",
       "\tSWAP = <command:SWAP> @140570597320968\n",
       "\tOVER = <command:OVER> @140570597321136\n",
       "\tPRESS = <command:PRESS> @140570597321248"
      ]
     },
     "execution_count": 28,
     "metadata": {},
     "output_type": "execute_result"
    }
   ],
   "source": [
    "# ( n -- n n )\n",
    "vm['DUP'] = Command(lambda ctx:ctx.dup())\n",
    "# ( n1 n2 -- n1 )\n",
    "vm['DROP'] = Command(lambda ctx:ctx.drop())\n",
    "# ( n1 n2 -- n2 n1 )\n",
    "def SWAP(ctx): return ctx.swap()\n",
    "vm >> Command(SWAP)\n",
    "# ( n1 n2 -- n1 n2 n1 )\n",
    "def OVER(ctx): return ctx.over()\n",
    "vm >> Command(OVER)\n",
    "# ( n1 n2 -- n2 )\n",
    "def PRESS(ctx): return ctx.press()\n",
    "vm >> Command(PRESS)"
   ]
  },
  {
   "cell_type": "code",
   "execution_count": 29,
   "metadata": {},
   "outputs": [
    {
     "data": {
      "text/plain": [
       "\n",
       "<vm:FORTH> @140570606902408\n",
       "\tBYE = <command:BYE> @140570597302624\n",
       "\tDUP = <command:<lambda>> @140570597320744\n",
       "\tDROP = <command:<lambda>> @140570597320688\n",
       "\tSWAP = <command:SWAP> @140570597320968\n",
       "\tOVER = <command:OVER> @140570597321136\n",
       "\tPRESS = <command:PRESS> @140570597321248\n",
       "\t0 = <object:1> @140570597321472\n",
       "\t1 = <object:2> @140570597318784\n",
       "\t2 = <object:3> @140570597318952"
      ]
     },
     "execution_count": 29,
     "metadata": {},
     "output_type": "execute_result"
    }
   ],
   "source": [
    "vm // Object(1) // Object(2) // Object(3)"
   ]
  },
  {
   "cell_type": "code",
   "execution_count": 30,
   "metadata": {},
   "outputs": [
    {
     "data": {
      "text/plain": [
       "\n",
       "<vm:FORTH> @140570606902408\n",
       "\tBYE = <command:BYE> @140570597302624\n",
       "\tDUP = <command:<lambda>> @140570597320744\n",
       "\tDROP = <command:<lambda>> @140570597320688\n",
       "\tSWAP = <command:SWAP> @140570597320968\n",
       "\tOVER = <command:OVER> @140570597321136\n",
       "\tPRESS = <command:PRESS> @140570597321248\n",
       "\t0 = <object:1> @140570597321472\n",
       "\t1 = <object:2> @140570597318784\n",
       "\t2 = <object:3> @140570597318952\n",
       "\t3 = <object:3> @140570597318952 _/"
      ]
     },
     "execution_count": 30,
     "metadata": {},
     "output_type": "execute_result"
    }
   ],
   "source": [
    "vm['DUP'].eval(vm)"
   ]
  },
  {
   "cell_type": "code",
   "execution_count": 31,
   "metadata": {},
   "outputs": [
    {
     "data": {
      "text/plain": [
       "\n",
       "<vm:FORTH> @140570606902408\n",
       "\tBYE = <command:BYE> @140570597302624\n",
       "\tDUP = <command:<lambda>> @140570597320744\n",
       "\tDROP = <command:<lambda>> @140570597320688\n",
       "\tSWAP = <command:SWAP> @140570597320968\n",
       "\tOVER = <command:OVER> @140570597321136\n",
       "\tPRESS = <command:PRESS> @140570597321248\n",
       "\t0 = <object:1> @140570597321472\n",
       "\t1 = <object:2> @140570597318784\n",
       "\t2 = <object:3> @140570597318952"
      ]
     },
     "execution_count": 31,
     "metadata": {},
     "output_type": "execute_result"
    }
   ],
   "source": [
    "vm['DROP'].eval(vm)"
   ]
  },
  {
   "cell_type": "code",
   "execution_count": 32,
   "metadata": {},
   "outputs": [
    {
     "data": {
      "text/plain": [
       "\n",
       "<vm:FORTH> @140570606902408\n",
       "\tBYE = <command:BYE> @140570597302624\n",
       "\tDUP = <command:<lambda>> @140570597320744\n",
       "\tDROP = <command:<lambda>> @140570597320688\n",
       "\tSWAP = <command:SWAP> @140570597320968\n",
       "\tOVER = <command:OVER> @140570597321136\n",
       "\tPRESS = <command:PRESS> @140570597321248\n",
       "\t0 = <object:1> @140570597321472\n",
       "\t1 = <object:3> @140570597318952\n",
       "\t2 = <object:2> @140570597318784"
      ]
     },
     "execution_count": 32,
     "metadata": {},
     "output_type": "execute_result"
    }
   ],
   "source": [
    "vm['SWAP'].eval(vm)"
   ]
  },
  {
   "cell_type": "code",
   "execution_count": 33,
   "metadata": {},
   "outputs": [
    {
     "data": {
      "text/plain": [
       "\n",
       "<vm:FORTH> @140570606902408\n",
       "\tBYE = <command:BYE> @140570597302624\n",
       "\tDUP = <command:<lambda>> @140570597320744\n",
       "\tDROP = <command:<lambda>> @140570597320688\n",
       "\tSWAP = <command:SWAP> @140570597320968\n",
       "\tOVER = <command:OVER> @140570597321136\n",
       "\tPRESS = <command:PRESS> @140570597321248\n",
       "\t0 = <object:1> @140570597321472\n",
       "\t1 = <object:3> @140570597318952\n",
       "\t2 = <object:2> @140570597318784\n",
       "\t3 = <object:3> @140570597318952 _/"
      ]
     },
     "execution_count": 33,
     "metadata": {},
     "output_type": "execute_result"
    }
   ],
   "source": [
    "vm['OVER'].eval(vm)"
   ]
  },
  {
   "cell_type": "code",
   "execution_count": 34,
   "metadata": {},
   "outputs": [
    {
     "data": {
      "text/plain": [
       "\n",
       "<vm:FORTH> @140570606902408\n",
       "\tBYE = <command:BYE> @140570597302624\n",
       "\tDUP = <command:<lambda>> @140570597320744\n",
       "\tDROP = <command:<lambda>> @140570597320688\n",
       "\tSWAP = <command:SWAP> @140570597320968\n",
       "\tOVER = <command:OVER> @140570597321136\n",
       "\tPRESS = <command:PRESS> @140570597321248\n",
       "\t0 = <object:1> @140570597321472\n",
       "\t1 = <object:3> @140570597318952\n",
       "\t2 = <object:3> @140570597318952 _/"
      ]
     },
     "execution_count": 34,
     "metadata": {},
     "output_type": "execute_result"
    }
   ],
   "source": [
    "vm['PRESS'].eval(vm)"
   ]
  },
  {
   "cell_type": "markdown",
   "metadata": {},
   "source": [
    "### Парсер"
   ]
  },
  {
   "cell_type": "code",
   "execution_count": 35,
   "metadata": {},
   "outputs": [],
   "source": [
    "class Meta(Object): pass\n",
    "class Syntax(Meta): pass"
   ]
  },
  {
   "cell_type": "markdown",
   "metadata": {},
   "source": [
    "Для написания парсеров текстовых форматов удобно использовать [библиотеку PLY](https://www.dabeaz.com/ply/ply.html)."
   ]
  },
  {
   "cell_type": "code",
   "execution_count": 36,
   "metadata": {},
   "outputs": [
    {
     "name": "stdout",
     "output_type": "stream",
     "text": [
      "\n",
      "<lexer:FORTH> @140570597305424\n"
     ]
    }
   ],
   "source": [
    "import ply.lex as lex\n",
    "__file__ = 'EDS.ipynb' # спец.фикс для Jupyter Notebook\n",
    "\n",
    "class Lexer(Syntax):\n",
    "\n",
    "    tokens = ['symbol','number','integer','hex','bin']\n",
    "\n",
    "    t_ignore = ' \\t\\r\\n+'\n",
    "    t_ignore_comment = r'[\\#\\\\].*'\n",
    "\n",
    "    def t_number_exp(self, t):\n",
    "        r'[+\\-]?[0-9]+[eE][+\\-]?[0-9]+'\n",
    "        return Number(t.value)\n",
    "\n",
    "    def t_number_dot(self, t):\n",
    "        r'[+\\-]?[0-9]+\\.[0-9]*'\n",
    "        return Number(t.value)\n",
    "\n",
    "    def t_hex(self, t):\n",
    "        r'0x[0-9A-Fa-f]+'\n",
    "        return Hex(t.value)\n",
    "\n",
    "    def t_bin(self, t):\n",
    "        r'0b[01]+'\n",
    "        return Bin(t.value)\n",
    "    \n",
    "    def t_number(self, t):\n",
    "        r'[+\\-]?[0-9]+'\n",
    "        return Integer(t.value)\n",
    "\n",
    "    def t_symbol(self, t):\n",
    "        r'[^ \\t\\r\\n\\#\\\\]+'\n",
    "        return Symbol(t.value)\n",
    "\n",
    "    def t_error(self, t): raise SyntaxError(t)\n",
    "\n",
    "    def __init__(self, V):\n",
    "        Syntax.__init__(self, V)\n",
    "        self.lexer = lex.lex(module=self)\n",
    "        \n",
    "    def input(self, source): self.lexer.input(source)\n",
    "    def token(self): return self.lexer.token()\n",
    "\n",
    "lexer = Lexer('FORTH') ; print(lexer)"
   ]
  },
  {
   "cell_type": "markdown",
   "metadata": {},
   "source": [
    "Для языка Форт достаточно только лексера, так как в нем не используются никакие вложенные рекурсивные конструкции."
   ]
  },
  {
   "cell_type": "code",
   "execution_count": 37,
   "metadata": {},
   "outputs": [],
   "source": [
    "# ( -- token )\n",
    "def WORD(ctx):\n",
    "    token = lexer.token() ; ctx // token\n",
    "    # возвращается отпарсенный токен (Object) или None при конце исходного кода\n",
    "    return token"
   ]
  },
  {
   "cell_type": "code",
   "execution_count": 38,
   "metadata": {},
   "outputs": [
    {
     "name": "stdout",
     "output_type": "stream",
     "text": [
      "\n",
      "<symbol:Hello> @140570597380504\n",
      "\n",
      "<symbol:World> @140570597380840\n",
      "\n",
      "<integer:-1> @140570597380672\n",
      "\n",
      "<number:2.3> @140570597380560\n",
      "\n",
      "<number:-400000.0> @140570597380784\n",
      "\n",
      "<hex:0xdeadbeef> @140570597380448\n",
      "\n",
      "<bin:0b1101> @140570597380392\n"
     ]
    }
   ],
   "source": [
    "def FORTH(SRC):\n",
    "    lexer.input(SRC)\n",
    "    while WORD(vm): print(vm.pop())\n",
    "        \n",
    "FORTH('Hello World -1 +2.3 -4e+5 0xDeadBeef 0b1101')"
   ]
  },
  {
   "cell_type": "markdown",
   "metadata": {},
   "source": [
    "## Представление программ"
   ]
  },
  {
   "cell_type": "markdown",
   "metadata": {},
   "source": [
    "Рассмотрим примитивную программу на Си, и построим ее аналог в виде графа:\n",
    "```\n",
    "#include <stdio.h>\n",
    "\n",
    "int main(int argc, char *argv[]) {\n",
    "    printf(\"Hello World\");\n",
    "    return 0;\n",
    "}\n",
    "```"
   ]
  },
  {
   "cell_type": "code",
   "execution_count": 39,
   "metadata": {},
   "outputs": [],
   "source": [
    "class Fn(Meta): pass"
   ]
  },
  {
   "cell_type": "code",
   "execution_count": 40,
   "metadata": {},
   "outputs": [],
   "source": [
    "class Type(Meta): pass\n",
    "\n",
    "class VarArgs(Type):\n",
    "    def __init__(self,V='...'):\n",
    "        Type.__init__(self,V)\n",
    "\n",
    "class Ptr(Type):\n",
    "    def __init__(self, V):\n",
    "        Type.__init__(self, '')\n",
    "        self // V\n",
    "\n",
    "class Int(Type): pass\n",
    "class Char(Type): pass\n",
    "\n",
    "i32 = Type('i32')"
   ]
  },
  {
   "cell_type": "markdown",
   "metadata": {},
   "source": [
    "Строим функцию `main()`:"
   ]
  },
  {
   "cell_type": "code",
   "execution_count": 41,
   "metadata": {},
   "outputs": [
    {
     "name": "stdout",
     "output_type": "stream",
     "text": [
      "\n",
      "<fn:main> @140570597138728\n",
      "\tret = <type:i32> @140570597113640\n"
     ]
    },
    {
     "data": {
      "image/svg+xml": [
       "<?xml version=\"1.0\" encoding=\"UTF-8\" standalone=\"no\"?>\n",
       "<!DOCTYPE svg PUBLIC \"-//W3C//DTD SVG 1.1//EN\"\n",
       " \"http://www.w3.org/Graphics/SVG/1.1/DTD/svg11.dtd\">\n",
       "<!-- Generated by graphviz version 2.40.1 (20161225.0304)\n",
       " -->\n",
       "<!-- Title: %3 Pages: 1 -->\n",
       "<svg width=\"87pt\" height=\"131pt\"\n",
       " viewBox=\"0.00 0.00 87.29 131.00\" xmlns=\"http://www.w3.org/2000/svg\" xmlns:xlink=\"http://www.w3.org/1999/xlink\">\n",
       "<g id=\"graph0\" class=\"graph\" transform=\"scale(1 1) rotate(0) translate(4 127)\">\n",
       "<title>%3</title>\n",
       "<polygon fill=\"#ffffff\" stroke=\"transparent\" points=\"-4,4 -4,-127 83.293,-127 83.293,4 -4,4\"/>\n",
       "<!-- 140570597138728 -->\n",
       "<g id=\"node1\" class=\"node\">\n",
       "<title>140570597138728</title>\n",
       "<ellipse fill=\"none\" stroke=\"#000000\" cx=\"39.6465\" cy=\"-105\" rx=\"38.1938\" ry=\"18\"/>\n",
       "<text text-anchor=\"middle\" x=\"39.6465\" y=\"-101.3\" font-family=\"Times,serif\" font-size=\"14.00\" fill=\"#000000\">fn:main</text>\n",
       "</g>\n",
       "<!-- 140570597113640 -->\n",
       "<g id=\"node2\" class=\"node\">\n",
       "<title>140570597113640</title>\n",
       "<ellipse fill=\"none\" stroke=\"#000000\" cx=\"39.6465\" cy=\"-18\" rx=\"39.7935\" ry=\"18\"/>\n",
       "<text text-anchor=\"middle\" x=\"39.6465\" y=\"-14.3\" font-family=\"Times,serif\" font-size=\"14.00\" fill=\"#000000\">type:i32</text>\n",
       "</g>\n",
       "<!-- 140570597138728&#45;&gt;140570597113640 -->\n",
       "<g id=\"edge1\" class=\"edge\">\n",
       "<title>140570597138728&#45;&gt;140570597113640</title>\n",
       "<path fill=\"none\" stroke=\"#0000ff\" d=\"M39.6465,-86.9735C39.6465,-75.1918 39.6465,-59.5607 39.6465,-46.1581\"/>\n",
       "<polygon fill=\"#0000ff\" stroke=\"#0000ff\" points=\"43.1466,-46.0033 39.6465,-36.0034 36.1466,-46.0034 43.1466,-46.0033\"/>\n",
       "<text text-anchor=\"middle\" x=\"47.1465\" y=\"-57.8\" font-family=\"Times,serif\" font-size=\"14.00\" fill=\"#000000\">ret</text>\n",
       "</g>\n",
       "</g>\n",
       "</svg>\n"
      ],
      "text/plain": [
       "<graphviz.dot.Digraph at 0x7fd9248220b8>"
      ]
     },
     "execution_count": 41,
     "metadata": {},
     "output_type": "execute_result"
    }
   ],
   "source": [
    "main = Fn('main') ; main['ret'] = i32\n",
    "print(main) ; main.plot()"
   ]
  },
  {
   "cell_type": "markdown",
   "metadata": {},
   "source": [
    "Задаем набор параметров функции:"
   ]
  },
  {
   "cell_type": "code",
   "execution_count": 42,
   "metadata": {},
   "outputs": [
    {
     "name": "stdout",
     "output_type": "stream",
     "text": [
      "\n",
      "<int:argc> @140570597141640\n",
      "\n",
      "<array:argv> @140570597141752\n",
      "\t0 = <ptr:> @140570597142144\n",
      "\t\t0 = <type:char> @140570597142032\n",
      "\n",
      "<fn:main> @140570597138728\n",
      "\tret = <type:i32> @140570597113640\n",
      "\targs = <vector:> @140570597142256\n",
      "\t\t0 = <int:argc> @140570597141640\n",
      "\t\t1 = <array:argv> @140570597141752\n",
      "\t\t\t0 = <ptr:> @140570597142144\n",
      "\t\t\t\t0 = <type:char> @140570597142032\n"
     ]
    },
    {
     "data": {
      "image/svg+xml": [
       "<?xml version=\"1.0\" encoding=\"UTF-8\" standalone=\"no\"?>\n",
       "<!DOCTYPE svg PUBLIC \"-//W3C//DTD SVG 1.1//EN\"\n",
       " \"http://www.w3.org/Graphics/SVG/1.1/DTD/svg11.dtd\">\n",
       "<!-- Generated by graphviz version 2.40.1 (20161225.0304)\n",
       " -->\n",
       "<!-- Title: %3 Pages: 1 -->\n",
       "<svg width=\"255pt\" height=\"392pt\"\n",
       " viewBox=\"0.00 0.00 255.44 392.00\" xmlns=\"http://www.w3.org/2000/svg\" xmlns:xlink=\"http://www.w3.org/1999/xlink\">\n",
       "<g id=\"graph0\" class=\"graph\" transform=\"scale(1 1) rotate(0) translate(4 388)\">\n",
       "<title>%3</title>\n",
       "<polygon fill=\"#ffffff\" stroke=\"transparent\" points=\"-4,4 -4,-388 251.4423,-388 251.4423,4 -4,4\"/>\n",
       "<!-- 140570597138728 -->\n",
       "<g id=\"node1\" class=\"node\">\n",
       "<title>140570597138728</title>\n",
       "<ellipse fill=\"none\" stroke=\"#000000\" cx=\"58.6465\" cy=\"-366\" rx=\"38.1938\" ry=\"18\"/>\n",
       "<text text-anchor=\"middle\" x=\"58.6465\" y=\"-362.3\" font-family=\"Times,serif\" font-size=\"14.00\" fill=\"#000000\">fn:main</text>\n",
       "</g>\n",
       "<!-- 140570597113640 -->\n",
       "<g id=\"node2\" class=\"node\">\n",
       "<title>140570597113640</title>\n",
       "<ellipse fill=\"none\" stroke=\"#000000\" cx=\"39.6465\" cy=\"-279\" rx=\"39.7935\" ry=\"18\"/>\n",
       "<text text-anchor=\"middle\" x=\"39.6465\" y=\"-275.3\" font-family=\"Times,serif\" font-size=\"14.00\" fill=\"#000000\">type:i32</text>\n",
       "</g>\n",
       "<!-- 140570597138728&#45;&gt;140570597113640 -->\n",
       "<g id=\"edge1\" class=\"edge\">\n",
       "<title>140570597138728&#45;&gt;140570597113640</title>\n",
       "<path fill=\"none\" stroke=\"#0000ff\" d=\"M54.7097,-347.9735C52.1366,-336.1918 48.7229,-320.5607 45.7959,-307.1581\"/>\n",
       "<polygon fill=\"#0000ff\" stroke=\"#0000ff\" points=\"49.1314,-306.0263 43.5783,-297.0034 42.2925,-307.5199 49.1314,-306.0263\"/>\n",
       "<text text-anchor=\"middle\" x=\"58.1465\" y=\"-318.8\" font-family=\"Times,serif\" font-size=\"14.00\" fill=\"#000000\">ret</text>\n",
       "</g>\n",
       "<!-- 140570597142256 -->\n",
       "<g id=\"node3\" class=\"node\">\n",
       "<title>140570597142256</title>\n",
       "<ellipse fill=\"none\" stroke=\"#000000\" cx=\"132.6465\" cy=\"-279\" rx=\"35.194\" ry=\"18\"/>\n",
       "<text text-anchor=\"middle\" x=\"132.6465\" y=\"-275.3\" font-family=\"Times,serif\" font-size=\"14.00\" fill=\"#000000\">vector:</text>\n",
       "</g>\n",
       "<!-- 140570597138728&#45;&gt;140570597142256 -->\n",
       "<g id=\"edge2\" class=\"edge\">\n",
       "<title>140570597138728&#45;&gt;140570597142256</title>\n",
       "<path fill=\"none\" stroke=\"#0000ff\" d=\"M72.9144,-349.2255C83.9707,-336.2269 99.4484,-318.0302 111.878,-303.417\"/>\n",
       "<polygon fill=\"#0000ff\" stroke=\"#0000ff\" points=\"114.6093,-305.6079 118.4223,-295.723 109.2772,-301.0726 114.6093,-305.6079\"/>\n",
       "<text text-anchor=\"middle\" x=\"112.1465\" y=\"-318.8\" font-family=\"Times,serif\" font-size=\"14.00\" fill=\"#000000\">args</text>\n",
       "</g>\n",
       "<!-- 140570597141640 -->\n",
       "<g id=\"node4\" class=\"node\">\n",
       "<title>140570597141640</title>\n",
       "<ellipse fill=\"none\" stroke=\"#000000\" cx=\"98.6465\" cy=\"-192\" rx=\"37.8943\" ry=\"18\"/>\n",
       "<text text-anchor=\"middle\" x=\"98.6465\" y=\"-188.3\" font-family=\"Times,serif\" font-size=\"14.00\" fill=\"#000000\">int:argc</text>\n",
       "</g>\n",
       "<!-- 140570597142256&#45;&gt;140570597141640 -->\n",
       "<g id=\"edge3\" class=\"edge\">\n",
       "<title>140570597142256&#45;&gt;140570597141640</title>\n",
       "<path fill=\"none\" stroke=\"#ff0000\" d=\"M125.6017,-260.9735C120.8748,-248.8784 114.5625,-232.7263 109.2347,-219.0934\"/>\n",
       "<polygon fill=\"#ff0000\" stroke=\"#ff0000\" points=\"112.4659,-217.7457 105.5659,-209.7057 105.9461,-220.2937 112.4659,-217.7457\"/>\n",
       "<text text-anchor=\"middle\" x=\"124.1465\" y=\"-231.8\" font-family=\"Times,serif\" font-size=\"14.00\" fill=\"#000000\">/0</text>\n",
       "</g>\n",
       "<!-- 140570597141752 -->\n",
       "<g id=\"node5\" class=\"node\">\n",
       "<title>140570597141752</title>\n",
       "<ellipse fill=\"none\" stroke=\"#000000\" cx=\"200.6465\" cy=\"-192\" rx=\"46.5926\" ry=\"18\"/>\n",
       "<text text-anchor=\"middle\" x=\"200.6465\" y=\"-188.3\" font-family=\"Times,serif\" font-size=\"14.00\" fill=\"#000000\">array:argv</text>\n",
       "</g>\n",
       "<!-- 140570597142256&#45;&gt;140570597141752 -->\n",
       "<g id=\"edge4\" class=\"edge\">\n",
       "<title>140570597142256&#45;&gt;140570597141752</title>\n",
       "<path fill=\"none\" stroke=\"#ff0000\" d=\"M145.7576,-262.2255C155.6943,-249.5124 169.5174,-231.8269 180.8055,-217.3848\"/>\n",
       "<polygon fill=\"#ff0000\" stroke=\"#ff0000\" points=\"183.7096,-219.3527 187.1102,-209.3185 178.1944,-215.042 183.7096,-219.3527\"/>\n",
       "<text text-anchor=\"middle\" x=\"176.1465\" y=\"-231.8\" font-family=\"Times,serif\" font-size=\"14.00\" fill=\"#000000\">/1</text>\n",
       "</g>\n",
       "<!-- 140570597142144 -->\n",
       "<g id=\"node6\" class=\"node\">\n",
       "<title>140570597142144</title>\n",
       "<ellipse fill=\"none\" stroke=\"#000000\" cx=\"200.6465\" cy=\"-105\" rx=\"27\" ry=\"18\"/>\n",
       "<text text-anchor=\"middle\" x=\"200.6465\" y=\"-101.3\" font-family=\"Times,serif\" font-size=\"14.00\" fill=\"#000000\">ptr:</text>\n",
       "</g>\n",
       "<!-- 140570597141752&#45;&gt;140570597142144 -->\n",
       "<g id=\"edge5\" class=\"edge\">\n",
       "<title>140570597141752&#45;&gt;140570597142144</title>\n",
       "<path fill=\"none\" stroke=\"#ff0000\" d=\"M200.6465,-173.9735C200.6465,-162.1918 200.6465,-146.5607 200.6465,-133.1581\"/>\n",
       "<polygon fill=\"#ff0000\" stroke=\"#ff0000\" points=\"204.1466,-133.0033 200.6465,-123.0034 197.1466,-133.0034 204.1466,-133.0033\"/>\n",
       "<text text-anchor=\"middle\" x=\"206.1465\" y=\"-144.8\" font-family=\"Times,serif\" font-size=\"14.00\" fill=\"#000000\">/0</text>\n",
       "</g>\n",
       "<!-- 140570597142032 -->\n",
       "<g id=\"node7\" class=\"node\">\n",
       "<title>140570597142032</title>\n",
       "<ellipse fill=\"none\" stroke=\"#000000\" cx=\"200.6465\" cy=\"-18\" rx=\"43.5923\" ry=\"18\"/>\n",
       "<text text-anchor=\"middle\" x=\"200.6465\" y=\"-14.3\" font-family=\"Times,serif\" font-size=\"14.00\" fill=\"#000000\">type:char</text>\n",
       "</g>\n",
       "<!-- 140570597142144&#45;&gt;140570597142032 -->\n",
       "<g id=\"edge6\" class=\"edge\">\n",
       "<title>140570597142144&#45;&gt;140570597142032</title>\n",
       "<path fill=\"none\" stroke=\"#ff0000\" d=\"M200.6465,-86.9735C200.6465,-75.1918 200.6465,-59.5607 200.6465,-46.1581\"/>\n",
       "<polygon fill=\"#ff0000\" stroke=\"#ff0000\" points=\"204.1466,-46.0033 200.6465,-36.0034 197.1466,-46.0034 204.1466,-46.0033\"/>\n",
       "<text text-anchor=\"middle\" x=\"206.1465\" y=\"-57.8\" font-family=\"Times,serif\" font-size=\"14.00\" fill=\"#000000\">/0</text>\n",
       "</g>\n",
       "</g>\n",
       "</svg>\n"
      ],
      "text/plain": [
       "<graphviz.dot.Digraph at 0x7fd924822f60>"
      ]
     },
     "execution_count": 42,
     "metadata": {},
     "output_type": "execute_result"
    }
   ],
   "source": [
    "argc = Int('argc') ; print(argc)\n",
    "argv = Array('argv') // Ptr(Type('char')) ; print(argv)\n",
    "main['args'] = Vector('') // argc // argv\n",
    "print(main) ; main.plot()"
   ]
  },
  {
   "cell_type": "markdown",
   "metadata": {},
   "source": [
    "Вызов внешней функции:"
   ]
  },
  {
   "cell_type": "code",
   "execution_count": 43,
   "metadata": {},
   "outputs": [
    {
     "name": "stdout",
     "output_type": "stream",
     "text": [
      "\n",
      "<include:stdlib.h> @140570597141248\n"
     ]
    }
   ],
   "source": [
    "class Include(Meta): pass\n",
    "stdlib = Include('stdlib.h') ; print(stdlib)"
   ]
  },
  {
   "cell_type": "code",
   "execution_count": 44,
   "metadata": {},
   "outputs": [
    {
     "name": "stdout",
     "output_type": "stream",
     "text": [
      "\n",
      "<include:stdlib.h> @140570597141248\n",
      "\tprintf = <fn:printf> @140570596649280\n",
      "\t\tret = <type:i32> @140570597113640\n",
      "\t\targs = <vector:> @140570596649392\n",
      "\t\t\t0 = <ptr:> @140570596649560\n",
      "\t\t\t\t0 = <char:format> @140570596649224\n",
      "\t\t\t1 = <varargs:...> @140570596649728\n"
     ]
    }
   ],
   "source": [
    "printf = Fn('printf') ; stdlib >> printf\n",
    "printf['ret'] = i32\n",
    "format = Ptr(Char('format'))\n",
    "printf['args'] = Vector('') // format // VarArgs()\n",
    "print(stdlib)"
   ]
  },
  {
   "cell_type": "markdown",
   "metadata": {},
   "source": [
    "Добавляем вызов `printf()`:"
   ]
  },
  {
   "cell_type": "code",
   "execution_count": 45,
   "metadata": {},
   "outputs": [
    {
     "data": {
      "text/plain": [
       "\n",
       "<fn:main> @140570597138728\n",
       "\tret = <type:i32> @140570597113640\n",
       "\targs = <vector:> @140570597142256\n",
       "\t\t0 = <int:argc> @140570597141640\n",
       "\t\t1 = <array:argv> @140570597141752\n",
       "\t\t\t0 = <ptr:> @140570597142144\n",
       "\t\t\t\t0 = <type:char> @140570597142032\n",
       "\t0 = <call:printf> @140570596648944\n",
       "\t\t0 = <fn:printf> @140570596649280\n",
       "\t\t\tret = <type:i32> @140570597113640 _/\n",
       "\t\t\targs = <vector:> @140570596649392\n",
       "\t\t\t\t0 = <ptr:> @140570596649560\n",
       "\t\t\t\t\t0 = <char:format> @140570596649224\n",
       "\t\t\t\t1 = <varargs:...> @140570596649728"
      ]
     },
     "execution_count": 45,
     "metadata": {},
     "output_type": "execute_result"
    }
   ],
   "source": [
    "class Call(Meta):\n",
    "    def __init__(self,F):\n",
    "        Meta.__init__(self,F.val) ; self // F\n",
    "\n",
    "main // Call(printf)"
   ]
  },
  {
   "cell_type": "code",
   "execution_count": 46,
   "metadata": {},
   "outputs": [
    {
     "name": "stdout",
     "output_type": "stream",
     "text": [
      "\n",
      "<fn:main> @140570597138728\n",
      "\tret = <type:i32> @140570597113640\n",
      "\targs = <vector:> @140570597142256\n",
      "\t\t0 = <int:argc> @140570597141640\n",
      "\t\t1 = <array:argv> @140570597141752\n",
      "\t\t\t0 = <ptr:> @140570597142144\n",
      "\t\t\t\t0 = <type:char> @140570597142032\n",
      "\t0 = <call:printf> @140570596648944\n",
      "\t\t0 = <fn:printf> @140570596649280\n",
      "\t\t\tret = <type:i32> @140570597113640 _/\n",
      "\t\t\targs = <vector:> @140570596649392\n",
      "\t\t\t\t0 = <ptr:> @140570596649560\n",
      "\t\t\t\t\t0 = <char:format> @140570596649224\n",
      "\t\t\t\t1 = <varargs:...> @140570596649728\n",
      "\t1 = <return:0> @140570597339488\n",
      "\t\t0 = <int:0> @140570597341168\n"
     ]
    },
    {
     "data": {
      "image/svg+xml": [
       "<?xml version=\"1.0\" encoding=\"UTF-8\" standalone=\"no\"?>\n",
       "<!DOCTYPE svg PUBLIC \"-//W3C//DTD SVG 1.1//EN\"\n",
       " \"http://www.w3.org/Graphics/SVG/1.1/DTD/svg11.dtd\">\n",
       "<!-- Generated by graphviz version 2.40.1 (20161225.0304)\n",
       " -->\n",
       "<!-- Title: %3 Pages: 1 -->\n",
       "<svg width=\"387pt\" height=\"479pt\"\n",
       " viewBox=\"0.00 0.00 387.04 479.00\" xmlns=\"http://www.w3.org/2000/svg\" xmlns:xlink=\"http://www.w3.org/1999/xlink\">\n",
       "<g id=\"graph0\" class=\"graph\" transform=\"scale(1 1) rotate(0) translate(4 475)\">\n",
       "<title>%3</title>\n",
       "<polygon fill=\"#ffffff\" stroke=\"transparent\" points=\"-4,4 -4,-475 383.0433,-475 383.0433,4 -4,4\"/>\n",
       "<!-- 140570597138728 -->\n",
       "<g id=\"node1\" class=\"node\">\n",
       "<title>140570597138728</title>\n",
       "<ellipse fill=\"none\" stroke=\"#000000\" cx=\"175.6967\" cy=\"-453\" rx=\"38.1938\" ry=\"18\"/>\n",
       "<text text-anchor=\"middle\" x=\"175.6967\" y=\"-449.3\" font-family=\"Times,serif\" font-size=\"14.00\" fill=\"#000000\">fn:main</text>\n",
       "</g>\n",
       "<!-- 140570597113640 -->\n",
       "<g id=\"node2\" class=\"node\">\n",
       "<title>140570597113640</title>\n",
       "<ellipse fill=\"none\" stroke=\"#000000\" cx=\"46.6967\" cy=\"-366\" rx=\"39.7935\" ry=\"18\"/>\n",
       "<text text-anchor=\"middle\" x=\"46.6967\" y=\"-362.3\" font-family=\"Times,serif\" font-size=\"14.00\" fill=\"#000000\">type:i32</text>\n",
       "</g>\n",
       "<!-- 140570597138728&#45;&gt;140570597113640 -->\n",
       "<g id=\"edge1\" class=\"edge\">\n",
       "<title>140570597138728&#45;&gt;140570597113640</title>\n",
       "<path fill=\"none\" stroke=\"#0000ff\" d=\"M153.5208,-438.0442C132.5692,-423.9141 100.9503,-402.5897 77.5441,-386.8041\"/>\n",
       "<polygon fill=\"#0000ff\" stroke=\"#0000ff\" points=\"79.2626,-383.7415 69.0149,-381.0518 75.3486,-389.545 79.2626,-383.7415\"/>\n",
       "<text text-anchor=\"middle\" x=\"127.1967\" y=\"-405.8\" font-family=\"Times,serif\" font-size=\"14.00\" fill=\"#000000\">ret</text>\n",
       "</g>\n",
       "<!-- 140570597142256 -->\n",
       "<g id=\"node3\" class=\"node\">\n",
       "<title>140570597142256</title>\n",
       "<ellipse fill=\"none\" stroke=\"#000000\" cx=\"139.6967\" cy=\"-366\" rx=\"35.194\" ry=\"18\"/>\n",
       "<text text-anchor=\"middle\" x=\"139.6967\" y=\"-362.3\" font-family=\"Times,serif\" font-size=\"14.00\" fill=\"#000000\">vector:</text>\n",
       "</g>\n",
       "<!-- 140570597138728&#45;&gt;140570597142256 -->\n",
       "<g id=\"edge2\" class=\"edge\">\n",
       "<title>140570597138728&#45;&gt;140570597142256</title>\n",
       "<path fill=\"none\" stroke=\"#0000ff\" d=\"M168.2374,-434.9735C163.2325,-422.8784 156.5489,-406.7263 150.9077,-393.0934\"/>\n",
       "<polygon fill=\"#0000ff\" stroke=\"#0000ff\" points=\"154.0808,-391.6076 147.0231,-383.7057 147.6127,-394.2841 154.0808,-391.6076\"/>\n",
       "<text text-anchor=\"middle\" x=\"172.1967\" y=\"-405.8\" font-family=\"Times,serif\" font-size=\"14.00\" fill=\"#000000\">args</text>\n",
       "</g>\n",
       "<!-- 140570596648944 -->\n",
       "<g id=\"node8\" class=\"node\">\n",
       "<title>140570596648944</title>\n",
       "<ellipse fill=\"none\" stroke=\"#000000\" cx=\"238.6967\" cy=\"-366\" rx=\"45.4919\" ry=\"18\"/>\n",
       "<text text-anchor=\"middle\" x=\"238.6967\" y=\"-362.3\" font-family=\"Times,serif\" font-size=\"14.00\" fill=\"#000000\">call:printf</text>\n",
       "</g>\n",
       "<!-- 140570597138728&#45;&gt;140570596648944 -->\n",
       "<g id=\"edge7\" class=\"edge\">\n",
       "<title>140570597138728&#45;&gt;140570596648944</title>\n",
       "<path fill=\"none\" stroke=\"#ff0000\" d=\"M188.1434,-435.8116C197.2305,-423.2628 209.7061,-406.0346 219.99,-391.833\"/>\n",
       "<polygon fill=\"#ff0000\" stroke=\"#ff0000\" points=\"223.0298,-393.6027 226.0601,-383.4505 217.3602,-389.4971 223.0298,-393.6027\"/>\n",
       "<text text-anchor=\"middle\" x=\"217.1967\" y=\"-405.8\" font-family=\"Times,serif\" font-size=\"14.00\" fill=\"#000000\">/0</text>\n",
       "</g>\n",
       "<!-- 140570597339488 -->\n",
       "<g id=\"node14\" class=\"node\">\n",
       "<title>140570597339488</title>\n",
       "<ellipse fill=\"none\" stroke=\"#000000\" cx=\"340.6967\" cy=\"-366\" rx=\"38.1938\" ry=\"18\"/>\n",
       "<text text-anchor=\"middle\" x=\"340.6967\" y=\"-362.3\" font-family=\"Times,serif\" font-size=\"14.00\" fill=\"#000000\">return:0</text>\n",
       "</g>\n",
       "<!-- 140570597138728&#45;&gt;140570597339488 -->\n",
       "<g id=\"edge13\" class=\"edge\">\n",
       "<title>140570597138728&#45;&gt;140570597339488</title>\n",
       "<path fill=\"none\" stroke=\"#ff0000\" d=\"M201.4779,-439.4063C229.5698,-424.5942 274.667,-400.8157 305.8871,-384.3541\"/>\n",
       "<polygon fill=\"#ff0000\" stroke=\"#ff0000\" points=\"307.8832,-387.2584 315.0964,-379.4983 304.6183,-381.0664 307.8832,-387.2584\"/>\n",
       "<text text-anchor=\"middle\" x=\"274.1967\" y=\"-405.8\" font-family=\"Times,serif\" font-size=\"14.00\" fill=\"#000000\">/1</text>\n",
       "</g>\n",
       "<!-- 140570597141640 -->\n",
       "<g id=\"node4\" class=\"node\">\n",
       "<title>140570597141640</title>\n",
       "<ellipse fill=\"none\" stroke=\"#000000\" cx=\"37.6967\" cy=\"-279\" rx=\"37.8943\" ry=\"18\"/>\n",
       "<text text-anchor=\"middle\" x=\"37.6967\" y=\"-275.3\" font-family=\"Times,serif\" font-size=\"14.00\" fill=\"#000000\">int:argc</text>\n",
       "</g>\n",
       "<!-- 140570597142256&#45;&gt;140570597141640 -->\n",
       "<g id=\"edge3\" class=\"edge\">\n",
       "<title>140570597142256&#45;&gt;140570597141640</title>\n",
       "<path fill=\"none\" stroke=\"#ff0000\" d=\"M121.4611,-350.4461C105.4603,-336.7984 81.9977,-316.7862 63.9716,-301.411\"/>\n",
       "<polygon fill=\"#ff0000\" stroke=\"#ff0000\" points=\"65.9979,-298.5391 56.1182,-294.7125 61.4553,-303.865 65.9979,-298.5391\"/>\n",
       "<text text-anchor=\"middle\" x=\"101.1967\" y=\"-318.8\" font-family=\"Times,serif\" font-size=\"14.00\" fill=\"#000000\">/0</text>\n",
       "</g>\n",
       "<!-- 140570597141752 -->\n",
       "<g id=\"node5\" class=\"node\">\n",
       "<title>140570597141752</title>\n",
       "<ellipse fill=\"none\" stroke=\"#000000\" cx=\"139.6967\" cy=\"-279\" rx=\"46.5926\" ry=\"18\"/>\n",
       "<text text-anchor=\"middle\" x=\"139.6967\" y=\"-275.3\" font-family=\"Times,serif\" font-size=\"14.00\" fill=\"#000000\">array:argv</text>\n",
       "</g>\n",
       "<!-- 140570597142256&#45;&gt;140570597141752 -->\n",
       "<g id=\"edge4\" class=\"edge\">\n",
       "<title>140570597142256&#45;&gt;140570597141752</title>\n",
       "<path fill=\"none\" stroke=\"#ff0000\" d=\"M139.6967,-347.9735C139.6967,-336.1918 139.6967,-320.5607 139.6967,-307.1581\"/>\n",
       "<polygon fill=\"#ff0000\" stroke=\"#ff0000\" points=\"143.1968,-307.0033 139.6967,-297.0034 136.1968,-307.0034 143.1968,-307.0033\"/>\n",
       "<text text-anchor=\"middle\" x=\"145.1967\" y=\"-318.8\" font-family=\"Times,serif\" font-size=\"14.00\" fill=\"#000000\">/1</text>\n",
       "</g>\n",
       "<!-- 140570597142144 -->\n",
       "<g id=\"node6\" class=\"node\">\n",
       "<title>140570597142144</title>\n",
       "<ellipse fill=\"none\" stroke=\"#000000\" cx=\"139.6967\" cy=\"-192\" rx=\"27\" ry=\"18\"/>\n",
       "<text text-anchor=\"middle\" x=\"139.6967\" y=\"-188.3\" font-family=\"Times,serif\" font-size=\"14.00\" fill=\"#000000\">ptr:</text>\n",
       "</g>\n",
       "<!-- 140570597141752&#45;&gt;140570597142144 -->\n",
       "<g id=\"edge5\" class=\"edge\">\n",
       "<title>140570597141752&#45;&gt;140570597142144</title>\n",
       "<path fill=\"none\" stroke=\"#ff0000\" d=\"M139.6967,-260.9735C139.6967,-249.1918 139.6967,-233.5607 139.6967,-220.1581\"/>\n",
       "<polygon fill=\"#ff0000\" stroke=\"#ff0000\" points=\"143.1968,-220.0033 139.6967,-210.0034 136.1968,-220.0034 143.1968,-220.0033\"/>\n",
       "<text text-anchor=\"middle\" x=\"145.1967\" y=\"-231.8\" font-family=\"Times,serif\" font-size=\"14.00\" fill=\"#000000\">/0</text>\n",
       "</g>\n",
       "<!-- 140570597142032 -->\n",
       "<g id=\"node7\" class=\"node\">\n",
       "<title>140570597142032</title>\n",
       "<ellipse fill=\"none\" stroke=\"#000000\" cx=\"139.6967\" cy=\"-105\" rx=\"43.5923\" ry=\"18\"/>\n",
       "<text text-anchor=\"middle\" x=\"139.6967\" y=\"-101.3\" font-family=\"Times,serif\" font-size=\"14.00\" fill=\"#000000\">type:char</text>\n",
       "</g>\n",
       "<!-- 140570597142144&#45;&gt;140570597142032 -->\n",
       "<g id=\"edge6\" class=\"edge\">\n",
       "<title>140570597142144&#45;&gt;140570597142032</title>\n",
       "<path fill=\"none\" stroke=\"#ff0000\" d=\"M139.6967,-173.9735C139.6967,-162.1918 139.6967,-146.5607 139.6967,-133.1581\"/>\n",
       "<polygon fill=\"#ff0000\" stroke=\"#ff0000\" points=\"143.1968,-133.0033 139.6967,-123.0034 136.1968,-133.0034 143.1968,-133.0033\"/>\n",
       "<text text-anchor=\"middle\" x=\"145.1967\" y=\"-144.8\" font-family=\"Times,serif\" font-size=\"14.00\" fill=\"#000000\">/0</text>\n",
       "</g>\n",
       "<!-- 140570596649280 -->\n",
       "<g id=\"node9\" class=\"node\">\n",
       "<title>140570596649280</title>\n",
       "<ellipse fill=\"none\" stroke=\"#000000\" cx=\"244.6967\" cy=\"-279\" rx=\"40.0939\" ry=\"18\"/>\n",
       "<text text-anchor=\"middle\" x=\"244.6967\" y=\"-275.3\" font-family=\"Times,serif\" font-size=\"14.00\" fill=\"#000000\">fn:printf</text>\n",
       "</g>\n",
       "<!-- 140570596648944&#45;&gt;140570596649280 -->\n",
       "<g id=\"edge8\" class=\"edge\">\n",
       "<title>140570596648944&#45;&gt;140570596649280</title>\n",
       "<path fill=\"none\" stroke=\"#ff0000\" d=\"M239.9399,-347.9735C240.7524,-336.1918 241.8304,-320.5607 242.7547,-307.1581\"/>\n",
       "<polygon fill=\"#ff0000\" stroke=\"#ff0000\" points=\"246.2586,-307.2205 243.455,-297.0034 239.2752,-306.7388 246.2586,-307.2205\"/>\n",
       "<text text-anchor=\"middle\" x=\"248.1967\" y=\"-318.8\" font-family=\"Times,serif\" font-size=\"14.00\" fill=\"#000000\">/0</text>\n",
       "</g>\n",
       "<!-- 140570596649392 -->\n",
       "<g id=\"node10\" class=\"node\">\n",
       "<title>140570596649392</title>\n",
       "<ellipse fill=\"none\" stroke=\"#000000\" cx=\"244.6967\" cy=\"-192\" rx=\"35.194\" ry=\"18\"/>\n",
       "<text text-anchor=\"middle\" x=\"244.6967\" y=\"-188.3\" font-family=\"Times,serif\" font-size=\"14.00\" fill=\"#000000\">vector:</text>\n",
       "</g>\n",
       "<!-- 140570596649280&#45;&gt;140570596649392 -->\n",
       "<g id=\"edge9\" class=\"edge\">\n",
       "<title>140570596649280&#45;&gt;140570596649392</title>\n",
       "<path fill=\"none\" stroke=\"#0000ff\" d=\"M244.6967,-260.9735C244.6967,-249.1918 244.6967,-233.5607 244.6967,-220.1581\"/>\n",
       "<polygon fill=\"#0000ff\" stroke=\"#0000ff\" points=\"248.1968,-220.0033 244.6967,-210.0034 241.1968,-220.0034 248.1968,-220.0033\"/>\n",
       "<text text-anchor=\"middle\" x=\"256.1967\" y=\"-231.8\" font-family=\"Times,serif\" font-size=\"14.00\" fill=\"#000000\">args</text>\n",
       "</g>\n",
       "<!-- 140570596649560 -->\n",
       "<g id=\"node11\" class=\"node\">\n",
       "<title>140570596649560</title>\n",
       "<ellipse fill=\"none\" stroke=\"#000000\" cx=\"236.6967\" cy=\"-105\" rx=\"27\" ry=\"18\"/>\n",
       "<text text-anchor=\"middle\" x=\"236.6967\" y=\"-101.3\" font-family=\"Times,serif\" font-size=\"14.00\" fill=\"#000000\">ptr:</text>\n",
       "</g>\n",
       "<!-- 140570596649392&#45;&gt;140570596649560 -->\n",
       "<g id=\"edge10\" class=\"edge\">\n",
       "<title>140570596649392&#45;&gt;140570596649560</title>\n",
       "<path fill=\"none\" stroke=\"#ff0000\" d=\"M243.039,-173.9735C241.9557,-162.1918 240.5183,-146.5607 239.2859,-133.1581\"/>\n",
       "<polygon fill=\"#ff0000\" stroke=\"#ff0000\" points=\"242.7532,-132.6408 238.3521,-123.0034 235.7826,-133.2819 242.7532,-132.6408\"/>\n",
       "<text text-anchor=\"middle\" x=\"247.1967\" y=\"-144.8\" font-family=\"Times,serif\" font-size=\"14.00\" fill=\"#000000\">/0</text>\n",
       "</g>\n",
       "<!-- 140570596649728 -->\n",
       "<g id=\"node13\" class=\"node\">\n",
       "<title>140570596649728</title>\n",
       "<ellipse fill=\"none\" stroke=\"#000000\" cx=\"327.6967\" cy=\"-105\" rx=\"46.2923\" ry=\"18\"/>\n",
       "<text text-anchor=\"middle\" x=\"327.6967\" y=\"-101.3\" font-family=\"Times,serif\" font-size=\"14.00\" fill=\"#000000\">varargs:...</text>\n",
       "</g>\n",
       "<!-- 140570596649392&#45;&gt;140570596649728 -->\n",
       "<g id=\"edge12\" class=\"edge\">\n",
       "<title>140570596649392&#45;&gt;140570596649728</title>\n",
       "<path fill=\"none\" stroke=\"#ff0000\" d=\"M260.3083,-175.636C272.7848,-162.5582 290.4589,-144.0323 304.5767,-129.2342\"/>\n",
       "<polygon fill=\"#ff0000\" stroke=\"#ff0000\" points=\"307.2185,-131.5355 311.5888,-121.8841 302.1536,-126.7036 307.2185,-131.5355\"/>\n",
       "<text text-anchor=\"middle\" x=\"297.1967\" y=\"-144.8\" font-family=\"Times,serif\" font-size=\"14.00\" fill=\"#000000\">/1</text>\n",
       "</g>\n",
       "<!-- 140570596649224 -->\n",
       "<g id=\"node12\" class=\"node\">\n",
       "<title>140570596649224</title>\n",
       "<ellipse fill=\"none\" stroke=\"#000000\" cx=\"236.6967\" cy=\"-18\" rx=\"51.9908\" ry=\"18\"/>\n",
       "<text text-anchor=\"middle\" x=\"236.6967\" y=\"-14.3\" font-family=\"Times,serif\" font-size=\"14.00\" fill=\"#000000\">char:format</text>\n",
       "</g>\n",
       "<!-- 140570596649560&#45;&gt;140570596649224 -->\n",
       "<g id=\"edge11\" class=\"edge\">\n",
       "<title>140570596649560&#45;&gt;140570596649224</title>\n",
       "<path fill=\"none\" stroke=\"#ff0000\" d=\"M236.6967,-86.9735C236.6967,-75.1918 236.6967,-59.5607 236.6967,-46.1581\"/>\n",
       "<polygon fill=\"#ff0000\" stroke=\"#ff0000\" points=\"240.1968,-46.0033 236.6967,-36.0034 233.1968,-46.0034 240.1968,-46.0033\"/>\n",
       "<text text-anchor=\"middle\" x=\"242.1967\" y=\"-57.8\" font-family=\"Times,serif\" font-size=\"14.00\" fill=\"#000000\">/0</text>\n",
       "</g>\n",
       "<!-- 140570597341168 -->\n",
       "<g id=\"node15\" class=\"node\">\n",
       "<title>140570597341168</title>\n",
       "<ellipse fill=\"none\" stroke=\"#000000\" cx=\"340.6967\" cy=\"-279\" rx=\"27\" ry=\"18\"/>\n",
       "<text text-anchor=\"middle\" x=\"340.6967\" y=\"-275.3\" font-family=\"Times,serif\" font-size=\"14.00\" fill=\"#000000\">int:0</text>\n",
       "</g>\n",
       "<!-- 140570597339488&#45;&gt;140570597341168 -->\n",
       "<g id=\"edge14\" class=\"edge\">\n",
       "<title>140570597339488&#45;&gt;140570597341168</title>\n",
       "<path fill=\"none\" stroke=\"#ff0000\" d=\"M340.6967,-347.9735C340.6967,-336.1918 340.6967,-320.5607 340.6967,-307.1581\"/>\n",
       "<polygon fill=\"#ff0000\" stroke=\"#ff0000\" points=\"344.1968,-307.0033 340.6967,-297.0034 337.1968,-307.0034 344.1968,-307.0033\"/>\n",
       "<text text-anchor=\"middle\" x=\"346.1967\" y=\"-318.8\" font-family=\"Times,serif\" font-size=\"14.00\" fill=\"#000000\">/0</text>\n",
       "</g>\n",
       "</g>\n",
       "</svg>\n"
      ],
      "text/plain": [
       "<graphviz.dot.Digraph at 0x7fd9248532e8>"
      ]
     },
     "execution_count": 46,
     "metadata": {},
     "output_type": "execute_result"
    }
   ],
   "source": [
    "class Return(Meta):\n",
    "    def __init__(self,Arg):\n",
    "        Meta.__init__(self,Arg.val) ; self // Arg\n",
    "\n",
    "main // Return(Int(0))\n",
    "print(main) ; main.plot()"
   ]
  },
  {
   "cell_type": "markdown",
   "metadata": {},
   "source": [
    "## Библиотека meteo.kit"
   ]
  },
  {
   "cell_type": "code",
   "execution_count": 47,
   "metadata": {},
   "outputs": [
    {
     "name": "stdout",
     "output_type": "stream",
     "text": [
      "-rw-r--r-- 1 ponyatov ponyatov    0 апр  9 17:39 meteo/__init__.py\r\n",
      "-rw-r--r-- 1 ponyatov ponyatov 1938 мар 28 15:33 meteo/.ipynb_checkpoints/kit-checkpoint.py\r\n",
      "-rw-r--r-- 1 ponyatov ponyatov 3750 апр  9 17:39 meteo/kit.py\r\n"
     ]
    }
   ],
   "source": [
    "! mkdir -p meteo\n",
    "! touch meteo/__init__.py meteo/kit.py\n",
    "! find meteo -type f -regex .+.py -exec ls -la {} +"
   ]
  },
  {
   "cell_type": "markdown",
   "metadata": {},
   "source": [
    "Для использования в пользовательских Jupyter-блокнотах реализация метода вычислений на графах вынесена во внешний Python-модуль. Для использования в вашем блоконоте ее нужно импортировать."
   ]
  },
  {
   "cell_type": "code",
   "execution_count": 48,
   "metadata": {},
   "outputs": [
    {
     "name": "stdout",
     "output_type": "stream",
     "text": [
      "<class '__main__.Object'>\n"
     ]
    }
   ],
   "source": [
    "print(Object)  # определение класса Object из блокнота"
   ]
  },
  {
   "cell_type": "code",
   "execution_count": 49,
   "metadata": {},
   "outputs": [
    {
     "name": "stdout",
     "output_type": "stream",
     "text": [
      "<class '__main__.Object'>\n"
     ]
    }
   ],
   "source": [
    "# from meteo.kit import *  # импорт модуля\n",
    "print(Object)  # после подгрузки модуля используются библиотечные классы"
   ]
  },
  {
   "cell_type": "markdown",
   "metadata": {},
   "source": [
    "## Низкоуровневый (кросс-)компилятор / LLVM /"
   ]
  },
  {
   "cell_type": "markdown",
   "metadata": {},
   "source": [
    "* обработка больших объемов данных, для которой недостаточно скорости Python\n",
    "* создание самостоятельных программ, не требующих для работы интерпретатора"
   ]
  },
  {
   "cell_type": "markdown",
   "metadata": {},
   "source": [
    "https://habr.com/ru/post/47878/"
   ]
  },
  {
   "cell_type": "markdown",
   "metadata": {},
   "source": [
    "В состав `meteo.kit` в качестве примера включен функционал очень ограниченного низкоуровневого компилятора, который использует библиотеку LLVM в качестве backendа. Он генерирует платформенно-независимый код в формате LLVM IR, который затем может быть скомпилирован в машинный код для любой из десятка+ поддерживаемых платформ:\n",
    "* `x86_64`, `i386`, win32/linux\n",
    "* `arm9/11`, Raspberry Pi, мобильные телефоны\n",
    "* `arm-none-eabi`, любые микроконтроллеры архитектуры Cortex-M (STM32, Миландр ВМ1986,..)\n",
    "* `mipsel32`, массово доступные дешевые SOHO-роутеры на SoC RT5350F\n",
    "* `avr8` поделки на Arduino для автоматизации"
   ]
  },
  {
   "cell_type": "code",
   "execution_count": 50,
   "metadata": {},
   "outputs": [],
   "source": [
    "class LLVM(Object): pass"
   ]
  },
  {
   "cell_type": "markdown",
   "metadata": {},
   "source": [
    "## Метациркулярная реализация"
   ]
  },
  {
   "cell_type": "markdown",
   "metadata": {},
   "source": [
    "**Метациркулярный интерпретатор** -- интерпретатор языка программирования, написанный на нём самом. Исходный текст реализации языка понятен программисту на этом же языке, и легко может быть изменен, что позволяет \n",
    "* делать отладку произвольной сложности вставляя свой отладочный код в интерпретатор, и \n",
    "* эксперименировать с языком (менять поведение, добавлять новые возможности).\n",
    "\n",
    "Так как для метаинтерпретатора используется готовая среда выполнения, не требуется писать полную реализацию языка с нуля, особенно его рантайм. Кроме того, обычно в виде МИ реализуют очень ограниченную версию языка, только те элементы, которые нужны в текущий момент, что очень упрощает код и его понимание. *Метациркулярная реализация* языка скорее относится к написанию компиляторов (на том же языке), и имеет название *bootstrapping*."
   ]
  },
  {
   "cell_type": "markdown",
   "metadata": {},
   "source": [
    "В `meteo.kit` *метациркулярное описание системы* включено максимально ограниченно, и только в целях самодокументирования. Это было сделано, чтобы избежать взрывного роста сложности, и превращения **метода метапрограммирования на Python** в самостоятельную систему программирования (графовый язык `metaL`). \n",
    "\n",
    "Если вы по собстенной инициативе продолжите расширять систему в этом направлении, добавляя методы генерации высокоуровневого кода (RPython, C++, Rust, Java,..), или компиляции ([LLVM](https://www.ozon.ru/context/detail/id/34342352/), [WASM](https://tproger.ru/translations/introduction-to-webassembly/), байткод), в итоге вы окажетесь один на один с эзотерической системой программирования, которую вам не позволят использовать ни в одном проекте -- никто кроме вас не сможет в дальнейшем заниматься поддержкой, а все косяки и шишки будут вашими. С другой стороны, для прототипирования такой вариант наоборот может быть выигрышным, при условии что прототип используется для уточнения идей и архитектуры, и не идет в production."
   ]
  },
  {
   "cell_type": "markdown",
   "metadata": {},
   "source": [
    "### типы узлов объектного графа"
   ]
  },
  {
   "cell_type": "markdown",
   "metadata": {},
   "source": [
    "#### базовый класс узла"
   ]
  },
  {
   "cell_type": "code",
   "execution_count": 51,
   "metadata": {},
   "outputs": [],
   "source": [
    "class Class(Meta): pass\n",
    "cObject = Class('Object')"
   ]
  },
  {
   "cell_type": "markdown",
   "metadata": {},
   "source": [
    "#### примитивы"
   ]
  },
  {
   "cell_type": "code",
   "execution_count": 52,
   "metadata": {},
   "outputs": [],
   "source": [
    "cPrimitive = Class('Primitive') ; cObject // cPrimitive\n",
    "cPrimitive // Class('Symbol') // Class('String')\n",
    "cPrimitive // ( Class('Number') // ( Class('Integer') // Class('Hex') // Class('Bin') ) ) ;"
   ]
  },
  {
   "cell_type": "markdown",
   "metadata": {},
   "source": [
    "#### контейнеры данных"
   ]
  },
  {
   "cell_type": "code",
   "execution_count": 53,
   "metadata": {},
   "outputs": [],
   "source": [
    "cContainer = Class('Container') ; cObject // cContainer\n",
    "cContainer // Class('Vector') // Class('Dict') // Class('Stack') // Class('Queue') ;"
   ]
  },
  {
   "cell_type": "markdown",
   "metadata": {},
   "source": [
    "#### активные (исполняемые) данные"
   ]
  },
  {
   "cell_type": "code",
   "execution_count": 54,
   "metadata": {},
   "outputs": [],
   "source": [
    "cObject // ( ( Class('Active') // Class('Command') // Class('VM') ) ) ;"
   ]
  },
  {
   "cell_type": "markdown",
   "metadata": {},
   "source": [
    "#### метапрограммирование (программные объекты)"
   ]
  },
  {
   "cell_type": "code",
   "execution_count": 55,
   "metadata": {},
   "outputs": [],
   "source": [
    "cMeta = Class('Meta') ; cObject // cMeta\n",
    "cMeta // ( Class('Syntax') // Class('Lexer') // Class('Parser') )\n",
    "cMeta // ( Class('Module') // Class('Lib') // Class('Exe') )\n",
    "cMeta // Class('Class') // ( Class('Fn') // Class('Method') ) ;"
   ]
  },
  {
   "cell_type": "markdown",
   "metadata": {},
   "source": [
    "#### ввод/вывод"
   ]
  },
  {
   "cell_type": "code",
   "execution_count": 56,
   "metadata": {},
   "outputs": [],
   "source": [
    "cIO = Class('IO') ; cObject // cIO\n",
    "cIO // Class('Dir') // Class('File')\n",
    "cNet = Class('Net') ; cIO // cNet\n",
    "cNet // Class('Socket') // Class('IP') // Class('Port') // Class('Web') ;"
   ]
  },
  {
   "cell_type": "markdown",
   "metadata": {},
   "source": [
    "#### результирующее дерево классов"
   ]
  },
  {
   "cell_type": "code",
   "execution_count": 57,
   "metadata": {},
   "outputs": [
    {
     "name": "stdout",
     "output_type": "stream",
     "text": [
      "\n",
      "<class:Object> @140570596657528\n",
      "\t0 = <class:Primitive> @140570596717960\n",
      "\t\t0 = <class:Symbol> @140570596718072\n",
      "\t\t1 = <class:String> @140570596718184\n",
      "\t\t2 = <class:Number> @140570596717904\n",
      "\t\t\t0 = <class:Integer> @140570596718408\n",
      "\t\t\t\t0 = <class:Hex> @140570596718520\n",
      "\t\t\t\t1 = <class:Bin> @140570596718632\n",
      "\t1 = <class:Container> @140570596719304\n",
      "\t\t0 = <class:Vector> @140570596719416\n",
      "\t\t1 = <class:Dict> @140570596719528\n",
      "\t\t2 = <class:Stack> @140570596719640\n",
      "\t\t3 = <class:Queue> @140570596719752\n",
      "\t2 = <class:Active> @140570596720368\n",
      "\t\t0 = <class:Command> @140570596720480\n",
      "\t\t1 = <class:VM> @140570596720592\n",
      "\t3 = <class:Meta> @140570597188720\n",
      "\t\t0 = <class:Syntax> @140570597191408\n",
      "\t\t\t0 = <class:Lexer> @140570597155056\n",
      "\t\t\t1 = <class:Parser> @140570597158584\n",
      "\t\t1 = <class:Module> @140570597191184\n",
      "\t\t\t0 = <class:Lib> @140570597155616\n",
      "\t\t\t1 = <class:Exe> @140570597608976\n",
      "\t\t2 = <class:Class> @140570597157296\n",
      "\t\t3 = <class:Fn> @140570597606456\n",
      "\t\t\t0 = <class:Method> @140570597451368\n",
      "\t4 = <class:IO> @140570596718296\n",
      "\t\t0 = <class:Dir> @140570596718744\n",
      "\t\t1 = <class:File> @140570596717120\n",
      "\t\t2 = <class:Net> @140570596720032\n",
      "\t\t\t0 = <class:Socket> @140570596720088\n",
      "\t\t\t1 = <class:IP> @140570596719976\n",
      "\t\t\t2 = <class:Port> @140570596719864\n",
      "\t\t\t3 = <class:Web> @140570596719192\n"
     ]
    },
    {
     "data": {
      "image/svg+xml": [
       "<?xml version=\"1.0\" encoding=\"UTF-8\" standalone=\"no\"?>\n",
       "<!DOCTYPE svg PUBLIC \"-//W3C//DTD SVG 1.1//EN\"\n",
       " \"http://www.w3.org/Graphics/SVG/1.1/DTD/svg11.dtd\">\n",
       "<!-- Generated by graphviz version 2.40.1 (20161225.0304)\n",
       " -->\n",
       "<!-- Title: %3 Pages: 1 -->\n",
       "<svg width=\"648pt\" height=\"122pt\"\n",
       " viewBox=\"0.00 0.00 648.00 121.64\" xmlns=\"http://www.w3.org/2000/svg\" xmlns:xlink=\"http://www.w3.org/1999/xlink\">\n",
       "<g id=\"graph0\" class=\"graph\" transform=\"scale(.3103 .3103) rotate(0) translate(4 388)\">\n",
       "<title>%3</title>\n",
       "<polygon fill=\"#ffffff\" stroke=\"transparent\" points=\"-4,4 -4,-388 2084.2907,-388 2084.2907,4 -4,4\"/>\n",
       "<!-- 140570596657528 -->\n",
       "<g id=\"node1\" class=\"node\">\n",
       "<title>140570596657528</title>\n",
       "<ellipse fill=\"none\" stroke=\"#000000\" cx=\"1003.8449\" cy=\"-366\" rx=\"53.8905\" ry=\"18\"/>\n",
       "<text text-anchor=\"middle\" x=\"1003.8449\" y=\"-362.3\" font-family=\"Times,serif\" font-size=\"14.00\" fill=\"#000000\">class:Object</text>\n",
       "</g>\n",
       "<!-- 140570596717960 -->\n",
       "<g id=\"node2\" class=\"node\">\n",
       "<title>140570596717960</title>\n",
       "<ellipse fill=\"none\" stroke=\"#000000\" cx=\"226.8449\" cy=\"-279\" rx=\"63.8893\" ry=\"18\"/>\n",
       "<text text-anchor=\"middle\" x=\"226.8449\" y=\"-275.3\" font-family=\"Times,serif\" font-size=\"14.00\" fill=\"#000000\">class:Primitive</text>\n",
       "</g>\n",
       "<!-- 140570596657528&#45;&gt;140570596717960 -->\n",
       "<g id=\"edge1\" class=\"edge\">\n",
       "<title>140570596657528&#45;&gt;140570596717960</title>\n",
       "<path fill=\"none\" stroke=\"#ff0000\" d=\"M952.5632,-360.258C817.2302,-345.1049 450.3141,-304.0217 296.3405,-286.7814\"/>\n",
       "<polygon fill=\"#ff0000\" stroke=\"#ff0000\" points=\"296.397,-283.2659 286.0696,-285.6313 295.618,-290.2224 296.397,-283.2659\"/>\n",
       "<text text-anchor=\"middle\" x=\"668.3449\" y=\"-318.8\" font-family=\"Times,serif\" font-size=\"14.00\" fill=\"#000000\">/0</text>\n",
       "</g>\n",
       "<!-- 140570596719304 -->\n",
       "<g id=\"node9\" class=\"node\">\n",
       "<title>140570596719304</title>\n",
       "<ellipse fill=\"none\" stroke=\"#000000\" cx=\"678.8449\" cy=\"-279\" rx=\"64.9885\" ry=\"18\"/>\n",
       "<text text-anchor=\"middle\" x=\"678.8449\" y=\"-275.3\" font-family=\"Times,serif\" font-size=\"14.00\" fill=\"#000000\">class:Container</text>\n",
       "</g>\n",
       "<!-- 140570596657528&#45;&gt;140570596719304 -->\n",
       "<g id=\"edge8\" class=\"edge\">\n",
       "<title>140570596657528&#45;&gt;140570596719304</title>\n",
       "<path fill=\"none\" stroke=\"#ff0000\" d=\"M961.69,-354.7155C903.9773,-339.2662 800.1896,-311.483 735.6628,-294.2097\"/>\n",
       "<polygon fill=\"#ff0000\" stroke=\"#ff0000\" points=\"736.2217,-290.7362 725.6568,-291.5312 734.4116,-297.4981 736.2217,-290.7362\"/>\n",
       "<text text-anchor=\"middle\" x=\"866.3449\" y=\"-318.8\" font-family=\"Times,serif\" font-size=\"14.00\" fill=\"#000000\">/1</text>\n",
       "</g>\n",
       "<!-- 140570596720368 -->\n",
       "<g id=\"node14\" class=\"node\">\n",
       "<title>140570596720368</title>\n",
       "<ellipse fill=\"none\" stroke=\"#000000\" cx=\"1003.8449\" cy=\"-279\" rx=\"53.8905\" ry=\"18\"/>\n",
       "<text text-anchor=\"middle\" x=\"1003.8449\" y=\"-275.3\" font-family=\"Times,serif\" font-size=\"14.00\" fill=\"#000000\">class:Active</text>\n",
       "</g>\n",
       "<!-- 140570596657528&#45;&gt;140570596720368 -->\n",
       "<g id=\"edge13\" class=\"edge\">\n",
       "<title>140570596657528&#45;&gt;140570596720368</title>\n",
       "<path fill=\"none\" stroke=\"#ff0000\" d=\"M1003.8449,-347.9735C1003.8449,-336.1918 1003.8449,-320.5607 1003.8449,-307.1581\"/>\n",
       "<polygon fill=\"#ff0000\" stroke=\"#ff0000\" points=\"1007.345,-307.0033 1003.8449,-297.0034 1000.345,-307.0034 1007.345,-307.0033\"/>\n",
       "<text text-anchor=\"middle\" x=\"1009.3449\" y=\"-318.8\" font-family=\"Times,serif\" font-size=\"14.00\" fill=\"#000000\">/2</text>\n",
       "</g>\n",
       "<!-- 140570597188720 -->\n",
       "<g id=\"node17\" class=\"node\">\n",
       "<title>140570597188720</title>\n",
       "<ellipse fill=\"none\" stroke=\"#000000\" cx=\"1315.8449\" cy=\"-279\" rx=\"48.9926\" ry=\"18\"/>\n",
       "<text text-anchor=\"middle\" x=\"1315.8449\" y=\"-275.3\" font-family=\"Times,serif\" font-size=\"14.00\" fill=\"#000000\">class:Meta</text>\n",
       "</g>\n",
       "<!-- 140570596657528&#45;&gt;140570597188720 -->\n",
       "<g id=\"edge16\" class=\"edge\">\n",
       "<title>140570596657528&#45;&gt;140570597188720</title>\n",
       "<path fill=\"none\" stroke=\"#ff0000\" d=\"M1045.2761,-354.4471C1102.5886,-338.4657 1205.8815,-309.6629 1266.918,-292.6431\"/>\n",
       "<polygon fill=\"#ff0000\" stroke=\"#ff0000\" points=\"1268.0113,-295.9718 1276.7037,-289.9144 1266.131,-289.2291 1268.0113,-295.9718\"/>\n",
       "<text text-anchor=\"middle\" x=\"1184.3449\" y=\"-318.8\" font-family=\"Times,serif\" font-size=\"14.00\" fill=\"#000000\">/3</text>\n",
       "</g>\n",
       "<!-- 140570596718296 -->\n",
       "<g id=\"node27\" class=\"node\">\n",
       "<title>140570596718296</title>\n",
       "<ellipse fill=\"none\" stroke=\"#000000\" cx=\"1699.8449\" cy=\"-279\" rx=\"39.7935\" ry=\"18\"/>\n",
       "<text text-anchor=\"middle\" x=\"1699.8449\" y=\"-275.3\" font-family=\"Times,serif\" font-size=\"14.00\" fill=\"#000000\">class:IO</text>\n",
       "</g>\n",
       "<!-- 140570596657528&#45;&gt;140570596718296 -->\n",
       "<g id=\"edge26\" class=\"edge\">\n",
       "<title>140570596657528&#45;&gt;140570596718296</title>\n",
       "<path fill=\"none\" stroke=\"#ff0000\" d=\"M1054.4601,-359.6731C1183.6193,-343.5282 1524.1761,-300.9586 1651.1792,-285.0832\"/>\n",
       "<polygon fill=\"#ff0000\" stroke=\"#ff0000\" points=\"1651.8859,-288.5222 1661.3746,-283.8088 1651.0176,-281.5762 1651.8859,-288.5222\"/>\n",
       "<text text-anchor=\"middle\" x=\"1399.3449\" y=\"-318.8\" font-family=\"Times,serif\" font-size=\"14.00\" fill=\"#000000\">/4</text>\n",
       "</g>\n",
       "<!-- 140570596718072 -->\n",
       "<g id=\"node3\" class=\"node\">\n",
       "<title>140570596718072</title>\n",
       "<ellipse fill=\"none\" stroke=\"#000000\" cx=\"57.8449\" cy=\"-192\" rx=\"57.6901\" ry=\"18\"/>\n",
       "<text text-anchor=\"middle\" x=\"57.8449\" y=\"-188.3\" font-family=\"Times,serif\" font-size=\"14.00\" fill=\"#000000\">class:Symbol</text>\n",
       "</g>\n",
       "<!-- 140570596717960&#45;&gt;140570596718072 -->\n",
       "<g id=\"edge2\" class=\"edge\">\n",
       "<title>140570596717960&#45;&gt;140570596718072</title>\n",
       "<path fill=\"none\" stroke=\"#ff0000\" d=\"M195.8477,-263.0429C167.9543,-248.6835 126.8476,-227.5221 96.7533,-212.0298\"/>\n",
       "<polygon fill=\"#ff0000\" stroke=\"#ff0000\" points=\"98.2871,-208.8829 87.7941,-207.4176 95.0831,-215.1066 98.2871,-208.8829\"/>\n",
       "<text text-anchor=\"middle\" x=\"158.3449\" y=\"-231.8\" font-family=\"Times,serif\" font-size=\"14.00\" fill=\"#000000\">/0</text>\n",
       "</g>\n",
       "<!-- 140570596718184 -->\n",
       "<g id=\"node4\" class=\"node\">\n",
       "<title>140570596718184</title>\n",
       "<ellipse fill=\"none\" stroke=\"#000000\" cx=\"185.8449\" cy=\"-192\" rx=\"51.9908\" ry=\"18\"/>\n",
       "<text text-anchor=\"middle\" x=\"185.8449\" y=\"-188.3\" font-family=\"Times,serif\" font-size=\"14.00\" fill=\"#000000\">class:String</text>\n",
       "</g>\n",
       "<!-- 140570596717960&#45;&gt;140570596718184 -->\n",
       "<g id=\"edge3\" class=\"edge\">\n",
       "<title>140570596717960&#45;&gt;140570596718184</title>\n",
       "<path fill=\"none\" stroke=\"#ff0000\" d=\"M218.3496,-260.9735C212.6874,-248.9585 205.1385,-232.9401 198.7408,-219.3646\"/>\n",
       "<polygon fill=\"#ff0000\" stroke=\"#ff0000\" points=\"201.7583,-217.5571 194.3292,-210.0034 195.4262,-220.5413 201.7583,-217.5571\"/>\n",
       "<text text-anchor=\"middle\" x=\"214.3449\" y=\"-231.8\" font-family=\"Times,serif\" font-size=\"14.00\" fill=\"#000000\">/1</text>\n",
       "</g>\n",
       "<!-- 140570596717904 -->\n",
       "<g id=\"node5\" class=\"node\">\n",
       "<title>140570596717904</title>\n",
       "<ellipse fill=\"none\" stroke=\"#000000\" cx=\"315.8449\" cy=\"-192\" rx=\"59.5901\" ry=\"18\"/>\n",
       "<text text-anchor=\"middle\" x=\"315.8449\" y=\"-188.3\" font-family=\"Times,serif\" font-size=\"14.00\" fill=\"#000000\">class:Number</text>\n",
       "</g>\n",
       "<!-- 140570596717960&#45;&gt;140570596717904 -->\n",
       "<g id=\"edge4\" class=\"edge\">\n",
       "<title>140570596717960&#45;&gt;140570596717904</title>\n",
       "<path fill=\"none\" stroke=\"#ff0000\" d=\"M244.8553,-261.3943C258.0909,-248.4561 276.242,-230.7129 290.877,-216.4068\"/>\n",
       "<polygon fill=\"#ff0000\" stroke=\"#ff0000\" points=\"293.4605,-218.7758 298.1649,-209.2827 288.5673,-213.7701 293.4605,-218.7758\"/>\n",
       "<text text-anchor=\"middle\" x=\"282.3449\" y=\"-231.8\" font-family=\"Times,serif\" font-size=\"14.00\" fill=\"#000000\">/2</text>\n",
       "</g>\n",
       "<!-- 140570596718408 -->\n",
       "<g id=\"node6\" class=\"node\">\n",
       "<title>140570596718408</title>\n",
       "<ellipse fill=\"none\" stroke=\"#000000\" cx=\"315.8449\" cy=\"-105\" rx=\"55.4913\" ry=\"18\"/>\n",
       "<text text-anchor=\"middle\" x=\"315.8449\" y=\"-101.3\" font-family=\"Times,serif\" font-size=\"14.00\" fill=\"#000000\">class:Integer</text>\n",
       "</g>\n",
       "<!-- 140570596717904&#45;&gt;140570596718408 -->\n",
       "<g id=\"edge5\" class=\"edge\">\n",
       "<title>140570596717904&#45;&gt;140570596718408</title>\n",
       "<path fill=\"none\" stroke=\"#ff0000\" d=\"M315.8449,-173.9735C315.8449,-162.1918 315.8449,-146.5607 315.8449,-133.1581\"/>\n",
       "<polygon fill=\"#ff0000\" stroke=\"#ff0000\" points=\"319.345,-133.0033 315.8449,-123.0034 312.345,-133.0034 319.345,-133.0033\"/>\n",
       "<text text-anchor=\"middle\" x=\"321.3449\" y=\"-144.8\" font-family=\"Times,serif\" font-size=\"14.00\" fill=\"#000000\">/0</text>\n",
       "</g>\n",
       "<!-- 140570596718520 -->\n",
       "<g id=\"node7\" class=\"node\">\n",
       "<title>140570596718520</title>\n",
       "<ellipse fill=\"none\" stroke=\"#000000\" cx=\"262.8449\" cy=\"-18\" rx=\"44.6926\" ry=\"18\"/>\n",
       "<text text-anchor=\"middle\" x=\"262.8449\" y=\"-14.3\" font-family=\"Times,serif\" font-size=\"14.00\" fill=\"#000000\">class:Hex</text>\n",
       "</g>\n",
       "<!-- 140570596718408&#45;&gt;140570596718520 -->\n",
       "<g id=\"edge6\" class=\"edge\">\n",
       "<title>140570596718408&#45;&gt;140570596718520</title>\n",
       "<path fill=\"none\" stroke=\"#ff0000\" d=\"M304.8632,-86.9735C297.3518,-74.6435 287.2721,-58.0975 278.868,-44.3021\"/>\n",
       "<polygon fill=\"#ff0000\" stroke=\"#ff0000\" points=\"281.8228,-42.4249 273.6311,-35.7057 275.8447,-46.0667 281.8228,-42.4249\"/>\n",
       "<text text-anchor=\"middle\" x=\"298.3449\" y=\"-57.8\" font-family=\"Times,serif\" font-size=\"14.00\" fill=\"#000000\">/0</text>\n",
       "</g>\n",
       "<!-- 140570596718632 -->\n",
       "<g id=\"node8\" class=\"node\">\n",
       "<title>140570596718632</title>\n",
       "<ellipse fill=\"none\" stroke=\"#000000\" cx=\"368.8449\" cy=\"-18\" rx=\"42.7926\" ry=\"18\"/>\n",
       "<text text-anchor=\"middle\" x=\"368.8449\" y=\"-14.3\" font-family=\"Times,serif\" font-size=\"14.00\" fill=\"#000000\">class:Bin</text>\n",
       "</g>\n",
       "<!-- 140570596718408&#45;&gt;140570596718632 -->\n",
       "<g id=\"edge7\" class=\"edge\">\n",
       "<title>140570596718408&#45;&gt;140570596718632</title>\n",
       "<path fill=\"none\" stroke=\"#ff0000\" d=\"M326.8265,-86.9735C334.3379,-74.6435 344.4176,-58.0975 352.8217,-44.3021\"/>\n",
       "<polygon fill=\"#ff0000\" stroke=\"#ff0000\" points=\"355.845,-46.0667 358.0586,-35.7057 349.867,-42.4249 355.845,-46.0667\"/>\n",
       "<text text-anchor=\"middle\" x=\"351.3449\" y=\"-57.8\" font-family=\"Times,serif\" font-size=\"14.00\" fill=\"#000000\">/1</text>\n",
       "</g>\n",
       "<!-- 140570596719416 -->\n",
       "<g id=\"node10\" class=\"node\">\n",
       "<title>140570596719416</title>\n",
       "<ellipse fill=\"none\" stroke=\"#000000\" cx=\"447.8449\" cy=\"-192\" rx=\"53.8905\" ry=\"18\"/>\n",
       "<text text-anchor=\"middle\" x=\"447.8449\" y=\"-188.3\" font-family=\"Times,serif\" font-size=\"14.00\" fill=\"#000000\">class:Vector</text>\n",
       "</g>\n",
       "<!-- 140570596719304&#45;&gt;140570596719416 -->\n",
       "<g id=\"edge9\" class=\"edge\">\n",
       "<title>140570596719304&#45;&gt;140570596719416</title>\n",
       "<path fill=\"none\" stroke=\"#ff0000\" d=\"M640.1807,-264.4382C599.7868,-249.2249 536.4461,-225.3693 493.5906,-209.2289\"/>\n",
       "<polygon fill=\"#ff0000\" stroke=\"#ff0000\" points=\"494.5613,-205.8545 483.9694,-205.6053 492.094,-212.4053 494.5613,-205.8545\"/>\n",
       "<text text-anchor=\"middle\" x=\"583.3449\" y=\"-231.8\" font-family=\"Times,serif\" font-size=\"14.00\" fill=\"#000000\">/0</text>\n",
       "</g>\n",
       "<!-- 140570596719528 -->\n",
       "<g id=\"node11\" class=\"node\">\n",
       "<title>140570596719528</title>\n",
       "<ellipse fill=\"none\" stroke=\"#000000\" cx=\"564.8449\" cy=\"-192\" rx=\"45.4919\" ry=\"18\"/>\n",
       "<text text-anchor=\"middle\" x=\"564.8449\" y=\"-188.3\" font-family=\"Times,serif\" font-size=\"14.00\" fill=\"#000000\">class:Dict</text>\n",
       "</g>\n",
       "<!-- 140570596719304&#45;&gt;140570596719528 -->\n",
       "<g id=\"edge10\" class=\"edge\">\n",
       "<title>140570596719304&#45;&gt;140570596719528</title>\n",
       "<path fill=\"none\" stroke=\"#ff0000\" d=\"M656.5939,-262.019C638.6775,-248.346 613.3543,-229.0204 593.8495,-214.1351\"/>\n",
       "<polygon fill=\"#ff0000\" stroke=\"#ff0000\" points=\"595.9579,-211.3414 585.885,-208.0569 591.7112,-216.9061 595.9579,-211.3414\"/>\n",
       "<text text-anchor=\"middle\" x=\"634.3449\" y=\"-231.8\" font-family=\"Times,serif\" font-size=\"14.00\" fill=\"#000000\">/1</text>\n",
       "</g>\n",
       "<!-- 140570596719640 -->\n",
       "<g id=\"node12\" class=\"node\">\n",
       "<title>140570596719640</title>\n",
       "<ellipse fill=\"none\" stroke=\"#000000\" cx=\"678.8449\" cy=\"-192\" rx=\"50.0912\" ry=\"18\"/>\n",
       "<text text-anchor=\"middle\" x=\"678.8449\" y=\"-188.3\" font-family=\"Times,serif\" font-size=\"14.00\" fill=\"#000000\">class:Stack</text>\n",
       "</g>\n",
       "<!-- 140570596719304&#45;&gt;140570596719640 -->\n",
       "<g id=\"edge11\" class=\"edge\">\n",
       "<title>140570596719304&#45;&gt;140570596719640</title>\n",
       "<path fill=\"none\" stroke=\"#ff0000\" d=\"M678.8449,-260.9735C678.8449,-249.1918 678.8449,-233.5607 678.8449,-220.1581\"/>\n",
       "<polygon fill=\"#ff0000\" stroke=\"#ff0000\" points=\"682.345,-220.0033 678.8449,-210.0034 675.345,-220.0034 682.345,-220.0033\"/>\n",
       "<text text-anchor=\"middle\" x=\"684.3449\" y=\"-231.8\" font-family=\"Times,serif\" font-size=\"14.00\" fill=\"#000000\">/2</text>\n",
       "</g>\n",
       "<!-- 140570596719752 -->\n",
       "<g id=\"node13\" class=\"node\">\n",
       "<title>140570596719752</title>\n",
       "<ellipse fill=\"none\" stroke=\"#000000\" cx=\"799.8449\" cy=\"-192\" rx=\"53.0913\" ry=\"18\"/>\n",
       "<text text-anchor=\"middle\" x=\"799.8449\" y=\"-188.3\" font-family=\"Times,serif\" font-size=\"14.00\" fill=\"#000000\">class:Queue</text>\n",
       "</g>\n",
       "<!-- 140570596719304&#45;&gt;140570596719752 -->\n",
       "<g id=\"edge12\" class=\"edge\">\n",
       "<title>140570596719304&#45;&gt;140570596719752</title>\n",
       "<path fill=\"none\" stroke=\"#ff0000\" d=\"M702.4621,-262.019C721.4426,-248.3719 748.255,-229.0935 768.9417,-214.2197\"/>\n",
       "<polygon fill=\"#ff0000\" stroke=\"#ff0000\" points=\"771.0308,-217.0284 777.1068,-208.3489 766.9444,-211.3449 771.0308,-217.0284\"/>\n",
       "<text text-anchor=\"middle\" x=\"752.3449\" y=\"-231.8\" font-family=\"Times,serif\" font-size=\"14.00\" fill=\"#000000\">/3</text>\n",
       "</g>\n",
       "<!-- 140570596720480 -->\n",
       "<g id=\"node15\" class=\"node\">\n",
       "<title>140570596720480</title>\n",
       "<ellipse fill=\"none\" stroke=\"#000000\" cx=\"938.8449\" cy=\"-192\" rx=\"67.6881\" ry=\"18\"/>\n",
       "<text text-anchor=\"middle\" x=\"938.8449\" y=\"-188.3\" font-family=\"Times,serif\" font-size=\"14.00\" fill=\"#000000\">class:Command</text>\n",
       "</g>\n",
       "<!-- 140570596720368&#45;&gt;140570596720480 -->\n",
       "<g id=\"edge14\" class=\"edge\">\n",
       "<title>140570596720368&#45;&gt;140570596720480</title>\n",
       "<path fill=\"none\" stroke=\"#ff0000\" d=\"M990.6911,-261.3943C981.4137,-248.9767 968.8292,-232.1329 958.3821,-218.1498\"/>\n",
       "<polygon fill=\"#ff0000\" stroke=\"#ff0000\" points=\"960.9913,-215.7944 952.2021,-209.8782 955.3835,-219.9841 960.9913,-215.7944\"/>\n",
       "<text text-anchor=\"middle\" x=\"981.3449\" y=\"-231.8\" font-family=\"Times,serif\" font-size=\"14.00\" fill=\"#000000\">/0</text>\n",
       "</g>\n",
       "<!-- 140570596720592 -->\n",
       "<g id=\"node16\" class=\"node\">\n",
       "<title>140570596720592</title>\n",
       "<ellipse fill=\"none\" stroke=\"#000000\" cx=\"1068.8449\" cy=\"-192\" rx=\"44.6926\" ry=\"18\"/>\n",
       "<text text-anchor=\"middle\" x=\"1068.8449\" y=\"-188.3\" font-family=\"Times,serif\" font-size=\"14.00\" fill=\"#000000\">class:VM</text>\n",
       "</g>\n",
       "<!-- 140570596720368&#45;&gt;140570596720592 -->\n",
       "<g id=\"edge15\" class=\"edge\">\n",
       "<title>140570596720368&#45;&gt;140570596720592</title>\n",
       "<path fill=\"none\" stroke=\"#ff0000\" d=\"M1016.9986,-261.3943C1026.399,-248.8122 1039.1945,-231.6859 1049.7216,-217.5957\"/>\n",
       "<polygon fill=\"#ff0000\" stroke=\"#ff0000\" points=\"1052.7511,-219.3886 1055.9325,-209.2827 1047.1434,-215.1989 1052.7511,-219.3886\"/>\n",
       "<text text-anchor=\"middle\" x=\"1046.3449\" y=\"-231.8\" font-family=\"Times,serif\" font-size=\"14.00\" fill=\"#000000\">/1</text>\n",
       "</g>\n",
       "<!-- 140570597191408 -->\n",
       "<g id=\"node18\" class=\"node\">\n",
       "<title>140570597191408</title>\n",
       "<ellipse fill=\"none\" stroke=\"#000000\" cx=\"1185.8449\" cy=\"-192\" rx=\"54.6905\" ry=\"18\"/>\n",
       "<text text-anchor=\"middle\" x=\"1185.8449\" y=\"-188.3\" font-family=\"Times,serif\" font-size=\"14.00\" fill=\"#000000\">class:Syntax</text>\n",
       "</g>\n",
       "<!-- 140570597188720&#45;&gt;140570597191408 -->\n",
       "<g id=\"edge17\" class=\"edge\">\n",
       "<title>140570597188720&#45;&gt;140570597191408</title>\n",
       "<path fill=\"none\" stroke=\"#ff0000\" d=\"M1292.0009,-263.0429C1271.3318,-249.2105 1241.231,-229.0661 1218.3563,-213.7577\"/>\n",
       "<polygon fill=\"#ff0000\" stroke=\"#ff0000\" points=\"1220.2353,-210.8037 1209.978,-208.1506 1216.342,-216.6211 1220.2353,-210.8037\"/>\n",
       "<text text-anchor=\"middle\" x=\"1264.3449\" y=\"-231.8\" font-family=\"Times,serif\" font-size=\"14.00\" fill=\"#000000\">/0</text>\n",
       "</g>\n",
       "<!-- 140570597191184 -->\n",
       "<g id=\"node21\" class=\"node\">\n",
       "<title>140570597191184</title>\n",
       "<ellipse fill=\"none\" stroke=\"#000000\" cx=\"1315.8449\" cy=\"-192\" rx=\"57.6901\" ry=\"18\"/>\n",
       "<text text-anchor=\"middle\" x=\"1315.8449\" y=\"-188.3\" font-family=\"Times,serif\" font-size=\"14.00\" fill=\"#000000\">class:Module</text>\n",
       "</g>\n",
       "<!-- 140570597188720&#45;&gt;140570597191184 -->\n",
       "<g id=\"edge20\" class=\"edge\">\n",
       "<title>140570597188720&#45;&gt;140570597191184</title>\n",
       "<path fill=\"none\" stroke=\"#ff0000\" d=\"M1315.8449,-260.9735C1315.8449,-249.1918 1315.8449,-233.5607 1315.8449,-220.1581\"/>\n",
       "<polygon fill=\"#ff0000\" stroke=\"#ff0000\" points=\"1319.345,-220.0033 1315.8449,-210.0034 1312.345,-220.0034 1319.345,-220.0033\"/>\n",
       "<text text-anchor=\"middle\" x=\"1321.3449\" y=\"-231.8\" font-family=\"Times,serif\" font-size=\"14.00\" fill=\"#000000\">/1</text>\n",
       "</g>\n",
       "<!-- 140570597157296 -->\n",
       "<g id=\"node24\" class=\"node\">\n",
       "<title>140570597157296</title>\n",
       "<ellipse fill=\"none\" stroke=\"#000000\" cx=\"1440.8449\" cy=\"-192\" rx=\"49.2915\" ry=\"18\"/>\n",
       "<text text-anchor=\"middle\" x=\"1440.8449\" y=\"-188.3\" font-family=\"Times,serif\" font-size=\"14.00\" fill=\"#000000\">class:Class</text>\n",
       "</g>\n",
       "<!-- 140570597188720&#45;&gt;140570597157296 -->\n",
       "<g id=\"edge23\" class=\"edge\">\n",
       "<title>140570597188720&#45;&gt;140570597157296</title>\n",
       "<path fill=\"none\" stroke=\"#ff0000\" d=\"M1338.7718,-263.0429C1358.5583,-249.2714 1387.3341,-229.2435 1409.2927,-213.9603\"/>\n",
       "<polygon fill=\"#ff0000\" stroke=\"#ff0000\" points=\"1411.4317,-216.7359 1417.64,-208.1506 1407.4328,-210.9905 1411.4317,-216.7359\"/>\n",
       "<text text-anchor=\"middle\" x=\"1391.3449\" y=\"-231.8\" font-family=\"Times,serif\" font-size=\"14.00\" fill=\"#000000\">/2</text>\n",
       "</g>\n",
       "<!-- 140570597606456 -->\n",
       "<g id=\"node25\" class=\"node\">\n",
       "<title>140570597606456</title>\n",
       "<ellipse fill=\"none\" stroke=\"#000000\" cx=\"1547.8449\" cy=\"-192\" rx=\"39.7935\" ry=\"18\"/>\n",
       "<text text-anchor=\"middle\" x=\"1547.8449\" y=\"-188.3\" font-family=\"Times,serif\" font-size=\"14.00\" fill=\"#000000\">class:Fn</text>\n",
       "</g>\n",
       "<!-- 140570597188720&#45;&gt;140570597606456 -->\n",
       "<g id=\"edge24\" class=\"edge\">\n",
       "<title>140570597188720&#45;&gt;140570597606456</title>\n",
       "<path fill=\"none\" stroke=\"#ff0000\" d=\"M1350.0773,-266.1629C1392.0284,-250.4312 1463.0094,-223.8133 1507.5509,-207.1103\"/>\n",
       "<polygon fill=\"#ff0000\" stroke=\"#ff0000\" points=\"1509.0449,-210.2881 1517.1792,-203.4996 1506.587,-203.7338 1509.0449,-210.2881\"/>\n",
       "<text text-anchor=\"middle\" x=\"1451.3449\" y=\"-231.8\" font-family=\"Times,serif\" font-size=\"14.00\" fill=\"#000000\">/3</text>\n",
       "</g>\n",
       "<!-- 140570597155056 -->\n",
       "<g id=\"node19\" class=\"node\">\n",
       "<title>140570597155056</title>\n",
       "<ellipse fill=\"none\" stroke=\"#000000\" cx=\"1069.8449\" cy=\"-105\" rx=\"50.8918\" ry=\"18\"/>\n",
       "<text text-anchor=\"middle\" x=\"1069.8449\" y=\"-101.3\" font-family=\"Times,serif\" font-size=\"14.00\" fill=\"#000000\">class:Lexer</text>\n",
       "</g>\n",
       "<!-- 140570597191408&#45;&gt;140570597155056 -->\n",
       "<g id=\"edge18\" class=\"edge\">\n",
       "<title>140570597191408&#45;&gt;140570597155056</title>\n",
       "<path fill=\"none\" stroke=\"#ff0000\" d=\"M1163.7531,-175.4312C1145.6924,-161.8857 1119.9732,-142.5962 1100.0157,-127.6281\"/>\n",
       "<polygon fill=\"#ff0000\" stroke=\"#ff0000\" points=\"1101.9544,-124.7072 1091.8544,-121.5071 1097.7544,-130.3072 1101.9544,-124.7072\"/>\n",
       "<text text-anchor=\"middle\" x=\"1140.3449\" y=\"-144.8\" font-family=\"Times,serif\" font-size=\"14.00\" fill=\"#000000\">/0</text>\n",
       "</g>\n",
       "<!-- 140570597158584 -->\n",
       "<g id=\"node20\" class=\"node\">\n",
       "<title>140570597158584</title>\n",
       "<ellipse fill=\"none\" stroke=\"#000000\" cx=\"1190.8449\" cy=\"-105\" rx=\"51.9908\" ry=\"18\"/>\n",
       "<text text-anchor=\"middle\" x=\"1190.8449\" y=\"-101.3\" font-family=\"Times,serif\" font-size=\"14.00\" fill=\"#000000\">class:Parser</text>\n",
       "</g>\n",
       "<!-- 140570597191408&#45;&gt;140570597158584 -->\n",
       "<g id=\"edge19\" class=\"edge\">\n",
       "<title>140570597191408&#45;&gt;140570597158584</title>\n",
       "<path fill=\"none\" stroke=\"#ff0000\" d=\"M1186.8809,-173.9735C1187.558,-162.1918 1188.4563,-146.5607 1189.2266,-133.1581\"/>\n",
       "<polygon fill=\"#ff0000\" stroke=\"#ff0000\" points=\"1192.7306,-133.1877 1189.8102,-123.0034 1185.7421,-132.786 1192.7306,-133.1877\"/>\n",
       "<text text-anchor=\"middle\" x=\"1194.3449\" y=\"-144.8\" font-family=\"Times,serif\" font-size=\"14.00\" fill=\"#000000\">/1</text>\n",
       "</g>\n",
       "<!-- 140570597155616 -->\n",
       "<g id=\"node22\" class=\"node\">\n",
       "<title>140570597155616</title>\n",
       "<ellipse fill=\"none\" stroke=\"#000000\" cx=\"1311.8449\" cy=\"-105\" rx=\"42.4939\" ry=\"18\"/>\n",
       "<text text-anchor=\"middle\" x=\"1311.8449\" y=\"-101.3\" font-family=\"Times,serif\" font-size=\"14.00\" fill=\"#000000\">class:Lib</text>\n",
       "</g>\n",
       "<!-- 140570597191184&#45;&gt;140570597155616 -->\n",
       "<g id=\"edge21\" class=\"edge\">\n",
       "<title>140570597191184&#45;&gt;140570597155616</title>\n",
       "<path fill=\"none\" stroke=\"#ff0000\" d=\"M1315.0161,-173.9735C1314.4744,-162.1918 1313.7557,-146.5607 1313.1395,-133.1581\"/>\n",
       "<polygon fill=\"#ff0000\" stroke=\"#ff0000\" points=\"1316.6283,-132.832 1312.6726,-123.0034 1309.6357,-133.1536 1316.6283,-132.832\"/>\n",
       "<text text-anchor=\"middle\" x=\"1320.3449\" y=\"-144.8\" font-family=\"Times,serif\" font-size=\"14.00\" fill=\"#000000\">/0</text>\n",
       "</g>\n",
       "<!-- 140570597608976 -->\n",
       "<g id=\"node23\" class=\"node\">\n",
       "<title>140570597608976</title>\n",
       "<ellipse fill=\"none\" stroke=\"#000000\" cx=\"1415.8449\" cy=\"-105\" rx=\"44.393\" ry=\"18\"/>\n",
       "<text text-anchor=\"middle\" x=\"1415.8449\" y=\"-101.3\" font-family=\"Times,serif\" font-size=\"14.00\" fill=\"#000000\">class:Exe</text>\n",
       "</g>\n",
       "<!-- 140570597191184&#45;&gt;140570597608976 -->\n",
       "<g id=\"edge22\" class=\"edge\">\n",
       "<title>140570597191184&#45;&gt;140570597608976</title>\n",
       "<path fill=\"none\" stroke=\"#ff0000\" d=\"M1335.6016,-174.8116C1350.8633,-161.5339 1372.1466,-143.0175 1388.9592,-128.3905\"/>\n",
       "<polygon fill=\"#ff0000\" stroke=\"#ff0000\" points=\"1391.5605,-130.7666 1396.8076,-121.5624 1386.9659,-125.4855 1391.5605,-130.7666\"/>\n",
       "<text text-anchor=\"middle\" x=\"1377.3449\" y=\"-144.8\" font-family=\"Times,serif\" font-size=\"14.00\" fill=\"#000000\">/1</text>\n",
       "</g>\n",
       "<!-- 140570597451368 -->\n",
       "<g id=\"node26\" class=\"node\">\n",
       "<title>140570597451368</title>\n",
       "<ellipse fill=\"none\" stroke=\"#000000\" cx=\"1547.8449\" cy=\"-105\" rx=\"57.6901\" ry=\"18\"/>\n",
       "<text text-anchor=\"middle\" x=\"1547.8449\" y=\"-101.3\" font-family=\"Times,serif\" font-size=\"14.00\" fill=\"#000000\">class:Method</text>\n",
       "</g>\n",
       "<!-- 140570597606456&#45;&gt;140570597451368 -->\n",
       "<g id=\"edge25\" class=\"edge\">\n",
       "<title>140570597606456&#45;&gt;140570597451368</title>\n",
       "<path fill=\"none\" stroke=\"#ff0000\" d=\"M1547.8449,-173.9735C1547.8449,-162.1918 1547.8449,-146.5607 1547.8449,-133.1581\"/>\n",
       "<polygon fill=\"#ff0000\" stroke=\"#ff0000\" points=\"1551.345,-133.0033 1547.8449,-123.0034 1544.345,-133.0034 1551.345,-133.0033\"/>\n",
       "<text text-anchor=\"middle\" x=\"1553.3449\" y=\"-144.8\" font-family=\"Times,serif\" font-size=\"14.00\" fill=\"#000000\">/0</text>\n",
       "</g>\n",
       "<!-- 140570596718744 -->\n",
       "<g id=\"node28\" class=\"node\">\n",
       "<title>140570596718744</title>\n",
       "<ellipse fill=\"none\" stroke=\"#000000\" cx=\"1647.8449\" cy=\"-192\" rx=\"42.4939\" ry=\"18\"/>\n",
       "<text text-anchor=\"middle\" x=\"1647.8449\" y=\"-188.3\" font-family=\"Times,serif\" font-size=\"14.00\" fill=\"#000000\">class:Dir</text>\n",
       "</g>\n",
       "<!-- 140570596718296&#45;&gt;140570596718744 -->\n",
       "<g id=\"edge27\" class=\"edge\">\n",
       "<title>140570596718296&#45;&gt;140570596718744</title>\n",
       "<path fill=\"none\" stroke=\"#ff0000\" d=\"M1689.3219,-261.3943C1681.9212,-249.0124 1671.8902,-232.2297 1663.5467,-218.2704\"/>\n",
       "<polygon fill=\"#ff0000\" stroke=\"#ff0000\" points=\"1666.487,-216.3675 1658.3522,-209.5796 1660.4784,-219.9589 1666.487,-216.3675\"/>\n",
       "<text text-anchor=\"middle\" x=\"1683.3449\" y=\"-231.8\" font-family=\"Times,serif\" font-size=\"14.00\" fill=\"#000000\">/0</text>\n",
       "</g>\n",
       "<!-- 140570596717120 -->\n",
       "<g id=\"node29\" class=\"node\">\n",
       "<title>140570596717120</title>\n",
       "<ellipse fill=\"none\" stroke=\"#000000\" cx=\"1751.8449\" cy=\"-192\" rx=\"44.393\" ry=\"18\"/>\n",
       "<text text-anchor=\"middle\" x=\"1751.8449\" y=\"-188.3\" font-family=\"Times,serif\" font-size=\"14.00\" fill=\"#000000\">class:File</text>\n",
       "</g>\n",
       "<!-- 140570596718296&#45;&gt;140570596717120 -->\n",
       "<g id=\"edge28\" class=\"edge\">\n",
       "<title>140570596718296&#45;&gt;140570596717120</title>\n",
       "<path fill=\"none\" stroke=\"#ff0000\" d=\"M1710.3678,-261.3943C1717.7685,-249.0124 1727.7995,-232.2297 1736.143,-218.2704\"/>\n",
       "<polygon fill=\"#ff0000\" stroke=\"#ff0000\" points=\"1739.2113,-219.9589 1741.3375,-209.5796 1733.2028,-216.3675 1739.2113,-219.9589\"/>\n",
       "<text text-anchor=\"middle\" x=\"1735.3449\" y=\"-231.8\" font-family=\"Times,serif\" font-size=\"14.00\" fill=\"#000000\">/1</text>\n",
       "</g>\n",
       "<!-- 140570596720032 -->\n",
       "<g id=\"node30\" class=\"node\">\n",
       "<title>140570596720032</title>\n",
       "<ellipse fill=\"none\" stroke=\"#000000\" cx=\"1856.8449\" cy=\"-192\" rx=\"42.7926\" ry=\"18\"/>\n",
       "<text text-anchor=\"middle\" x=\"1856.8449\" y=\"-188.3\" font-family=\"Times,serif\" font-size=\"14.00\" fill=\"#000000\">class:Net</text>\n",
       "</g>\n",
       "<!-- 140570596718296&#45;&gt;140570596720032 -->\n",
       "<g id=\"edge29\" class=\"edge\">\n",
       "<title>140570596718296&#45;&gt;140570596720032</title>\n",
       "<path fill=\"none\" stroke=\"#ff0000\" d=\"M1725.0696,-265.0219C1751.2718,-250.5023 1792.4677,-227.674 1821.8193,-211.4091\"/>\n",
       "<polygon fill=\"#ff0000\" stroke=\"#ff0000\" points=\"1823.8485,-214.2861 1830.8989,-206.3777 1820.4556,-208.1633 1823.8485,-214.2861\"/>\n",
       "<text text-anchor=\"middle\" x=\"1793.3449\" y=\"-231.8\" font-family=\"Times,serif\" font-size=\"14.00\" fill=\"#000000\">/2</text>\n",
       "</g>\n",
       "<!-- 140570596720088 -->\n",
       "<g id=\"node31\" class=\"node\">\n",
       "<title>140570596720088</title>\n",
       "<ellipse fill=\"none\" stroke=\"#000000\" cx=\"1711.8449\" cy=\"-105\" rx=\"53.8905\" ry=\"18\"/>\n",
       "<text text-anchor=\"middle\" x=\"1711.8449\" y=\"-101.3\" font-family=\"Times,serif\" font-size=\"14.00\" fill=\"#000000\">class:Socket</text>\n",
       "</g>\n",
       "<!-- 140570596720032&#45;&gt;140570596720088 -->\n",
       "<g id=\"edge30\" class=\"edge\">\n",
       "<title>140570596720032&#45;&gt;140570596720088</title>\n",
       "<path fill=\"none\" stroke=\"#ff0000\" d=\"M1832.2476,-177.2416C1808.9743,-163.2777 1773.7805,-142.1614 1747.4444,-126.3597\"/>\n",
       "<polygon fill=\"#ff0000\" stroke=\"#ff0000\" points=\"1748.9082,-123.1563 1738.5325,-121.0126 1745.3067,-129.1588 1748.9082,-123.1563\"/>\n",
       "<text text-anchor=\"middle\" x=\"1799.3449\" y=\"-144.8\" font-family=\"Times,serif\" font-size=\"14.00\" fill=\"#000000\">/0</text>\n",
       "</g>\n",
       "<!-- 140570596719976 -->\n",
       "<g id=\"node32\" class=\"node\">\n",
       "<title>140570596719976</title>\n",
       "<ellipse fill=\"none\" stroke=\"#000000\" cx=\"1821.8449\" cy=\"-105\" rx=\"38.1938\" ry=\"18\"/>\n",
       "<text text-anchor=\"middle\" x=\"1821.8449\" y=\"-101.3\" font-family=\"Times,serif\" font-size=\"14.00\" fill=\"#000000\">class:IP</text>\n",
       "</g>\n",
       "<!-- 140570596720032&#45;&gt;140570596719976 -->\n",
       "<g id=\"edge31\" class=\"edge\">\n",
       "<title>140570596720032&#45;&gt;140570596719976</title>\n",
       "<path fill=\"none\" stroke=\"#ff0000\" d=\"M1849.5928,-173.9735C1844.727,-161.8784 1838.229,-145.7263 1832.7445,-132.0934\"/>\n",
       "<polygon fill=\"#ff0000\" stroke=\"#ff0000\" points=\"1835.9473,-130.6768 1828.9678,-122.7057 1829.4531,-133.2894 1835.9473,-130.6768\"/>\n",
       "<text text-anchor=\"middle\" x=\"1847.3449\" y=\"-144.8\" font-family=\"Times,serif\" font-size=\"14.00\" fill=\"#000000\">/1</text>\n",
       "</g>\n",
       "<!-- 140570596719864 -->\n",
       "<g id=\"node33\" class=\"node\">\n",
       "<title>140570596719864</title>\n",
       "<ellipse fill=\"none\" stroke=\"#000000\" cx=\"1922.8449\" cy=\"-105\" rx=\"44.6926\" ry=\"18\"/>\n",
       "<text text-anchor=\"middle\" x=\"1922.8449\" y=\"-101.3\" font-family=\"Times,serif\" font-size=\"14.00\" fill=\"#000000\">class:Port</text>\n",
       "</g>\n",
       "<!-- 140570596720032&#45;&gt;140570596719864 -->\n",
       "<g id=\"edge32\" class=\"edge\">\n",
       "<title>140570596720032&#45;&gt;140570596719864</title>\n",
       "<path fill=\"none\" stroke=\"#ff0000\" d=\"M1869.8843,-174.8116C1879.4939,-162.1444 1892.7207,-144.7092 1903.5517,-130.4319\"/>\n",
       "<polygon fill=\"#ff0000\" stroke=\"#ff0000\" points=\"1906.3511,-132.5328 1909.6066,-122.4505 1900.7742,-128.302 1906.3511,-132.5328\"/>\n",
       "<text text-anchor=\"middle\" x=\"1899.3449\" y=\"-144.8\" font-family=\"Times,serif\" font-size=\"14.00\" fill=\"#000000\">/2</text>\n",
       "</g>\n",
       "<!-- 140570596719192 -->\n",
       "<g id=\"node34\" class=\"node\">\n",
       "<title>140570596719192</title>\n",
       "<ellipse fill=\"none\" stroke=\"#000000\" cx=\"2032.8449\" cy=\"-105\" rx=\"47.3916\" ry=\"18\"/>\n",
       "<text text-anchor=\"middle\" x=\"2032.8449\" y=\"-101.3\" font-family=\"Times,serif\" font-size=\"14.00\" fill=\"#000000\">class:Web</text>\n",
       "</g>\n",
       "<!-- 140570596720032&#45;&gt;140570596719192 -->\n",
       "<g id=\"edge33\" class=\"edge\">\n",
       "<title>140570596720032&#45;&gt;140570596719192</title>\n",
       "<path fill=\"none\" stroke=\"#ff0000\" d=\"M1884.7326,-178.2146C1914.3744,-163.5621 1961.4466,-140.2935 1994.5522,-123.9287\"/>\n",
       "<polygon fill=\"#ff0000\" stroke=\"#ff0000\" points=\"1996.504,-126.8683 2003.9176,-119.2993 1993.402,-120.5931 1996.504,-126.8683\"/>\n",
       "<text text-anchor=\"middle\" x=\"1961.3449\" y=\"-144.8\" font-family=\"Times,serif\" font-size=\"14.00\" fill=\"#000000\">/3</text>\n",
       "</g>\n",
       "</g>\n",
       "</svg>\n"
      ],
      "text/plain": [
       "<graphviz.dot.Digraph at 0x7fd92484e358>"
      ]
     },
     "execution_count": 57,
     "metadata": {},
     "output_type": "execute_result"
    }
   ],
   "source": [
    "print(cObject) ; cObject.plot()"
   ]
  },
  {
   "cell_type": "markdown",
   "metadata": {},
   "source": [
    "## Унификация и pattern matching"
   ]
  },
  {
   "cell_type": "markdown",
   "metadata": {},
   "source": [
    "Для работы с графами удобно использовать методику **сопоставления с шаблонами**, использование которой позволяет *применять к графам наборы правил преобразования* (декларативное программирование). Для реализации **структурной унификации** используется методика, описанная в \n",
    "* [YieldProlog](http://yieldprolog.sourceforge.net/)\n",
    "\n",
    "Второй необходимый компонент -- **backtracking**, поиск решений в глубину с возвратами. Используется рекурсивный обход дерева возможных вариантов, до тех пор пока не находится одно из решений, или становится ясно что текущая ветка поиска решений не имеет.\n",
    "* https://www.geeksforgeeks.org/backtracking-algorithms/"
   ]
  },
  {
   "cell_type": "markdown",
   "metadata": {},
   "source": [
    "### Введение в использование генераторов"
   ]
  },
  {
   "cell_type": "markdown",
   "metadata": {},
   "source": [
    "Использование ключевого слова `yield` в любом месте обычной функции превращает её в особый вид: при вызове функции вместо ее исполнения возвращется объект типа `generator`, который используется для управления.\n",
    "* https://webdevblog.ru/vvedenie-v-generatory-python/\n",
    "\n",
    "Функция, обернутая в генератор, может прерываться в любом месте в т.ч. с возвратом некоторого значения, а затем возобновляться с того же места:"
   ]
  },
  {
   "cell_type": "code",
   "execution_count": 58,
   "metadata": {},
   "outputs": [
    {
     "name": "stdout",
     "output_type": "stream",
     "text": [
      "<generator object iterCounter at 0x7fd9248219a8>\n",
      "begin loop\n",
      "0\n",
      "1\n",
      "2\n",
      "end loop\n",
      "<generator object iterCounter at 0x7fd9248219a8>\n"
     ]
    }
   ],
   "source": [
    "def iterCounter():\n",
    "    n = 0\n",
    "    yield 'begin loop'\n",
    "    while n < 3:\n",
    "        yield n\n",
    "        n += 1\n",
    "    yield 'end loop'\n",
    "    return 'done' # возвращается как параметр исключения StopIteration\n",
    "\n",
    "iterator = iterCounter() ; print(iterator)\n",
    "for i in iterator: print(i)\n",
    "print(iterator)"
   ]
  },
  {
   "cell_type": "markdown",
   "metadata": {},
   "source": [
    "Также возможно пошаговое выполнение генератора через встроенную функцию `next()`. При вызове `next()` для завершенного итератора возникает исключение `StopIteration`."
   ]
  },
  {
   "cell_type": "code",
   "execution_count": 59,
   "metadata": {},
   "outputs": [
    {
     "name": "stdout",
     "output_type": "stream",
     "text": [
      "begin loop\n",
      "0\n",
      "1\n",
      "2\n",
      "end loop\n",
      "StopIteration:done\n"
     ]
    }
   ],
   "source": [
    "iterator = iterCounter()\n",
    "try:\n",
    "    print(next(iterator)) ; print(next(iterator)) ; print(next(iterator))\n",
    "    print(next(iterator)) ; print(next(iterator)) ; print(next(iterator))\n",
    "except StopIteration as e:\n",
    "    print('StopIteration:%s' % e)"
   ]
  },
  {
   "cell_type": "markdown",
   "metadata": {},
   "source": [
    "Свойство генераторов прерывать исполнение в середине функции, и продолжать выполнение при следующем вызове позволяет реализовать механизм backtracking из языка Пролог (обход дерева состояний в глубину).\n",
    "* http://yieldprolog.sourceforge.net/tutorial1.html"
   ]
  },
  {
   "cell_type": "code",
   "execution_count": 60,
   "metadata": {},
   "outputs": [
    {
     "name": "stdout",
     "output_type": "stream",
     "text": [
      "<function ValuesGenerator at 0x7fd924886a60>\n",
      "<generator object ValuesGenerator at 0x7fd924821930>\n"
     ]
    }
   ],
   "source": [
    "def ValuesGenerator():\n",
    "    yield \"Chelsea\"\n",
    "    yield \"Hillary\"\n",
    "    yield \"Bill\"\n",
    "print(ValuesGenerator)\n",
    "print(ValuesGenerator())"
   ]
  },
  {
   "cell_type": "code",
   "execution_count": 61,
   "metadata": {},
   "outputs": [
    {
     "name": "stdout",
     "output_type": "stream",
     "text": [
      "Names using a return value:\n",
      "Chelsea\n",
      "Hillary\n",
      "Bill\n"
     ]
    }
   ],
   "source": [
    "def main():\n",
    "    print(\"Names using a return value:\")\n",
    "    for p in ValuesGenerator(): print(p)\n",
    "main()"
   ]
  },
  {
   "cell_type": "markdown",
   "metadata": {},
   "source": [
    "Цикл `for` выполняет обход вариантов (несколько имен) вызывая генератор:"
   ]
  },
  {
   "cell_type": "code",
   "execution_count": 62,
   "metadata": {},
   "outputs": [
    {
     "data": {
      "image/svg+xml": [
       "<?xml version=\"1.0\" encoding=\"UTF-8\" standalone=\"no\"?>\n",
       "<!DOCTYPE svg PUBLIC \"-//W3C//DTD SVG 1.1//EN\"\n",
       " \"http://www.w3.org/Graphics/SVG/1.1/DTD/svg11.dtd\">\n",
       "<!-- Generated by graphviz version 2.40.1 (20161225.0304)\n",
       " -->\n",
       "<!-- Title: %3 Pages: 1 -->\n",
       "<svg width=\"374pt\" height=\"218pt\"\n",
       " viewBox=\"0.00 0.00 374.24 218.00\" xmlns=\"http://www.w3.org/2000/svg\" xmlns:xlink=\"http://www.w3.org/1999/xlink\">\n",
       "<g id=\"graph0\" class=\"graph\" transform=\"scale(1 1) rotate(0) translate(4 214)\">\n",
       "<title>%3</title>\n",
       "<polygon fill=\"#ffffff\" stroke=\"transparent\" points=\"-4,4 -4,-214 370.2405,-214 370.2405,4 -4,4\"/>\n",
       "<!-- 140570597265024 -->\n",
       "<g id=\"node1\" class=\"node\">\n",
       "<title>140570597265024</title>\n",
       "<ellipse fill=\"none\" stroke=\"#000000\" cx=\"198.0946\" cy=\"-192\" rx=\"27.8951\" ry=\"18\"/>\n",
       "<text text-anchor=\"middle\" x=\"198.0946\" y=\"-188.3\" font-family=\"Times,serif\" font-size=\"14.00\" fill=\"#000000\">for:p</text>\n",
       "</g>\n",
       "<!-- 140570597264968 -->\n",
       "<g id=\"node2\" class=\"node\">\n",
       "<title>140570597264968</title>\n",
       "<ellipse fill=\"none\" stroke=\"#000000\" cx=\"198.0946\" cy=\"-105\" rx=\"105.8812\" ry=\"18\"/>\n",
       "<text text-anchor=\"middle\" x=\"198.0946\" y=\"-101.3\" font-family=\"Times,serif\" font-size=\"14.00\" fill=\"#000000\">generator:ValuesGenerator</text>\n",
       "</g>\n",
       "<!-- 140570597265024&#45;&gt;140570597264968 -->\n",
       "<g id=\"edge1\" class=\"edge\">\n",
       "<title>140570597265024&#45;&gt;140570597264968</title>\n",
       "<path fill=\"none\" stroke=\"#0000ff\" d=\"M198.0946,-173.9735C198.0946,-162.1918 198.0946,-146.5607 198.0946,-133.1581\"/>\n",
       "<polygon fill=\"#0000ff\" stroke=\"#0000ff\" points=\"201.5947,-133.0033 198.0946,-123.0034 194.5947,-133.0034 201.5947,-133.0033\"/>\n",
       "<text text-anchor=\"middle\" x=\"203.5946\" y=\"-144.8\" font-family=\"Times,serif\" font-size=\"14.00\" fill=\"#000000\">in</text>\n",
       "</g>\n",
       "<!-- 140570597339992 -->\n",
       "<g id=\"node3\" class=\"node\">\n",
       "<title>140570597339992</title>\n",
       "<ellipse fill=\"none\" stroke=\"#000000\" cx=\"61.0946\" cy=\"-18\" rx=\"61.1893\" ry=\"18\"/>\n",
       "<text text-anchor=\"middle\" x=\"61.0946\" y=\"-14.3\" font-family=\"Times,serif\" font-size=\"14.00\" fill=\"#000000\">string:Chelsea</text>\n",
       "</g>\n",
       "<!-- 140570597264968&#45;&gt;140570597339992 -->\n",
       "<g id=\"edge2\" class=\"edge\">\n",
       "<title>140570597264968&#45;&gt;140570597339992</title>\n",
       "<path fill=\"none\" stroke=\"#ff0000\" d=\"M170.6999,-87.6033C149.0968,-73.8846 118.8383,-54.6694 95.5856,-39.9031\"/>\n",
       "<polygon fill=\"#ff0000\" stroke=\"#ff0000\" points=\"97.3675,-36.8885 87.0495,-34.4823 93.6149,-42.7977 97.3675,-36.8885\"/>\n",
       "<text text-anchor=\"middle\" x=\"143.5946\" y=\"-57.8\" font-family=\"Times,serif\" font-size=\"14.00\" fill=\"#000000\">/0</text>\n",
       "</g>\n",
       "<!-- 140570597265136 -->\n",
       "<g id=\"node4\" class=\"node\">\n",
       "<title>140570597265136</title>\n",
       "<ellipse fill=\"none\" stroke=\"#000000\" cx=\"198.0946\" cy=\"-18\" rx=\"57.6901\" ry=\"18\"/>\n",
       "<text text-anchor=\"middle\" x=\"198.0946\" y=\"-14.3\" font-family=\"Times,serif\" font-size=\"14.00\" fill=\"#000000\">string:Hillary</text>\n",
       "</g>\n",
       "<!-- 140570597264968&#45;&gt;140570597265136 -->\n",
       "<g id=\"edge3\" class=\"edge\">\n",
       "<title>140570597264968&#45;&gt;140570597265136</title>\n",
       "<path fill=\"none\" stroke=\"#ff0000\" d=\"M198.0946,-86.9735C198.0946,-75.1918 198.0946,-59.5607 198.0946,-46.1581\"/>\n",
       "<polygon fill=\"#ff0000\" stroke=\"#ff0000\" points=\"201.5947,-46.0033 198.0946,-36.0034 194.5947,-46.0034 201.5947,-46.0033\"/>\n",
       "<text text-anchor=\"middle\" x=\"203.5946\" y=\"-57.8\" font-family=\"Times,serif\" font-size=\"14.00\" fill=\"#000000\">/1</text>\n",
       "</g>\n",
       "<!-- 140570597265080 -->\n",
       "<g id=\"node5\" class=\"node\">\n",
       "<title>140570597265080</title>\n",
       "<ellipse fill=\"none\" stroke=\"#000000\" cx=\"320.0946\" cy=\"-18\" rx=\"46.2923\" ry=\"18\"/>\n",
       "<text text-anchor=\"middle\" x=\"320.0946\" y=\"-14.3\" font-family=\"Times,serif\" font-size=\"14.00\" fill=\"#000000\">string:Bill</text>\n",
       "</g>\n",
       "<!-- 140570597264968&#45;&gt;140570597265080 -->\n",
       "<g id=\"edge4\" class=\"edge\">\n",
       "<title>140570597264968&#45;&gt;140570597265080</title>\n",
       "<path fill=\"none\" stroke=\"#ff0000\" d=\"M222.7831,-87.3943C242.0348,-73.6656 268.8733,-54.5266 289.4897,-39.8248\"/>\n",
       "<polygon fill=\"#ff0000\" stroke=\"#ff0000\" points=\"291.7943,-42.4802 297.904,-33.8244 287.73,-36.7809 291.7943,-42.4802\"/>\n",
       "<text text-anchor=\"middle\" x=\"272.5946\" y=\"-57.8\" font-family=\"Times,serif\" font-size=\"14.00\" fill=\"#000000\">/2</text>\n",
       "</g>\n",
       "</g>\n",
       "</svg>\n"
      ],
      "text/plain": [
       "<graphviz.dot.Digraph at 0x7fd924840f98>"
      ]
     },
     "execution_count": 62,
     "metadata": {},
     "output_type": "execute_result"
    }
   ],
   "source": [
    "class For(Meta): pass\n",
    "class Generator(Meta): pass\n",
    "forloop = For('p')\n",
    "ValuesGenerator = Generator('ValuesGenerator')\n",
    "ValuesGenerator // String('Chelsea') // String('Hillary') // String('Bill')\n",
    "forloop['in'] = ValuesGenerator\n",
    "forloop.plot()"
   ]
  },
  {
   "cell_type": "markdown",
   "metadata": {},
   "source": [
    "Для реализации аналогичной схемы в модели EDS можно использовать возможность Python работать с любым объектом как с генератором, если у него определен метод `__next__()`."
   ]
  },
  {
   "cell_type": "code",
   "execution_count": 63,
   "metadata": {},
   "outputs": [
    {
     "name": "stdout",
     "output_type": "stream",
     "text": [
      "\n",
      "<string:Chelsea> @140570596763128\n",
      "\n",
      "<string:Hillary> @140570597262728\n",
      "\n",
      "<string:Bill> @140570596763408\n"
     ]
    }
   ],
   "source": [
    "def __iter__(self):\n",
    "    return self.__next__()\n",
    "def __next__(self):\n",
    "    for j in self.nest: yield j\n",
    "\n",
    "setattr(Object, '__iter__', __iter__)\n",
    "setattr(Object, '__next__', __next__)\n",
    "\n",
    "ValuesGenerator = Generator('ValuesGenerator')\n",
    "ValuesGenerator // String('Chelsea') // String('Hillary') // String('Bill')\n",
    "for p in ValuesGenerator:\n",
    "    print(p)"
   ]
  },
  {
   "cell_type": "code",
   "execution_count": null,
   "metadata": {},
   "outputs": [],
   "source": []
  }
 ],
 "metadata": {
  "kernelspec": {
   "display_name": "Python 3",
   "language": "python",
   "name": "python3"
  },
  "language_info": {
   "codemirror_mode": {
    "name": "ipython",
    "version": 3
   },
   "file_extension": ".py",
   "mimetype": "text/x-python",
   "name": "python",
   "nbconvert_exporter": "python",
   "pygments_lexer": "ipython3",
   "version": "3.7.3"
  },
  "toc-autonumbering": true,
  "toc-showcode": false,
  "toc-showmarkdowntxt": false,
  "toc-showtags": false
 },
 "nbformat": 4,
 "nbformat_minor": 4
}
