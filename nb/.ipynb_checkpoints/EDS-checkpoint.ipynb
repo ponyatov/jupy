{
 "cells": [
  {
   "cell_type": "markdown",
   "metadata": {},
   "source": [
    "# EDS: Executable Data Structures\n",
    "## вычисления на объектных графах\n",
    "#### краткое описание метода использованного в *meteo.kit*"
   ]
  },
  {
   "cell_type": "markdown",
   "metadata": {},
   "source": [
    "(c) Dmitry Ponyatov <<dponyatov@gmail.com>>"
   ]
  },
  {
   "cell_type": "markdown",
   "metadata": {},
   "source": [
    "## Объектный граф"
   ]
  },
  {
   "cell_type": "markdown",
   "metadata": {},
   "source": [
    "[Объектный граф](https://en.wikipedia.org/wiki/Object_graph) -- структура данных, состоящая из объектов, связанных между собой направленными связями (ссылками). Каждый узел графа может иметь \n",
    "* `val` одиночное значение: имя объекта, значение числа/строки\n",
    "* `nest[]` набор *упорядоченных* ссылок на другие узлы, и \n",
    "* `slot{}` набор *атрибутов* адресуемых по их именам\n",
    "* `sid` уникальный идентификатор объекта, уникальный для хранилища или глобально (**s**torage id)"
   ]
  },
  {
   "cell_type": "markdown",
   "metadata": {},
   "source": [
    "Направленный объектный граф формируется в памяти через ссылки между объектами. При сериализации в хранинилищах данных (Redis, DBMS,..) или передаче в распределенных системах возникает необходимость использовать уникальные идентификаторы для каждого объекта, так как необходимо универсальное представление ссылок, переносимое между любыми форматами."
   ]
  },
  {
   "cell_type": "markdown",
   "metadata": {},
   "source": [
    "### Универсальная структура представления знаний"
   ]
  },
  {
   "cell_type": "markdown",
   "metadata": {},
   "source": [
    "Структуры данных, составленные из групп объектов, *отнаследованных* от базового класса `Object`, являются формой *универсального* **представления знаний** ([KR&R](https://en.wikipedia.org/wiki/Knowledge_representation_and_reasoning)). В виде графа могут быть не только данные, но и программы для их обработки, поэтому такая форма *исполняемых данных* позволяет использовать мощную технику *метапрограммирования*, когда программы могут создавать и изменять другие программы."
   ]
  },
  {
   "cell_type": "markdown",
   "metadata": {},
   "source": [
    "* [Атрибутные транслирующие грамматики](https://neerc.ifmo.ru/wiki/index.php?title=%D0%90%D1%82%D1%80%D0%B8%D0%B1%D1%83%D1%82%D0%BD%D1%8B%D0%B5_%D1%82%D1%80%D0%B0%D0%BD%D1%81%D0%BB%D0%B8%D1%80%D1%83%D1%8E%D1%89%D0%B8%D0%B5_%D0%B3%D1%80%D0%B0%D0%BC%D0%BC%D0%B0%D1%82%D0%B8%D0%BA%D0%B8)\n",
    "* Метапрограммирование\n",
    "  * https://habr.com/ru/post/137446/"
   ]
  },
  {
   "cell_type": "markdown",
   "metadata": {},
   "source": [
    "Данные не только могут хранить информацию, и обрабатываться внешними программами. Если написать **интерпретатор данных**, и включить в состав хранимых типов классы для описания алгоритмов, процедур и потоков обработки, возможно реализовать мощные вычислительные системы на уровне базы данных (знаний)."
   ]
  },
  {
   "cell_type": "markdown",
   "metadata": {},
   "source": [
    "## Базовый класс узлов объектного графа"
   ]
  },
  {
   "cell_type": "code",
   "execution_count": 1,
   "metadata": {},
   "outputs": [],
   "source": [
    "# базовый класс узлов объектного графа\n",
    "class Object:\n",
    "\n",
    "    def __init__(self, V, sid=None):\n",
    "        # № метка типа/класса\n",
    "        self.type = self.__class__.__name__.lower()\n",
    "        # № скалярное значение узла (имя, строка, число)\n",
    "        self.val = V\n",
    "        # № атрибуты = ассоциативный массив\n",
    "        self.slot = {}\n",
    "        # упорядоченный набор ссылок = вектор = стек\n",
    "        self.nest = []\n",
    "        # уникальный идентификатор объекта (глобальный или в пределах хранилища)\n",
    "        if not sid:\n",
    "            self.sid = id(self)\n",
    "        else:\n",
    "            self.sid = sid"
   ]
  },
  {
   "cell_type": "markdown",
   "metadata": {},
   "source": [
    "### Визуализация графа"
   ]
  },
  {
   "cell_type": "markdown",
   "metadata": {},
   "source": [
    "#### Текстовый дамп"
   ]
  },
  {
   "cell_type": "markdown",
   "metadata": {},
   "source": [
    "Для работы с графом или отдельными объектами необходимы средства просмотра его содержимого в человеко-читаемом виде. В простейшем случае это может быть текстовое представление:"
   ]
  },
  {
   "cell_type": "code",
   "execution_count": 2,
   "metadata": {},
   "outputs": [
    {
     "name": "stdout",
     "output_type": "stream",
     "text": [
      "<__main__.Object object at 0x7f9fe448b438>\n"
     ]
    }
   ],
   "source": [
    "print(Object(\"Hello\"))"
   ]
  },
  {
   "cell_type": "code",
   "execution_count": 3,
   "metadata": {},
   "outputs": [],
   "source": [
    "class Object(Object):  # наследование от самого себя - способ расширения класса в Jupyter\n",
    "\n",
    "    # служебный метод вызывается из `print()`\n",
    "    def __repr__(self):\n",
    "        return self.dump()\n",
    "\n",
    "    # вывод дампа в виде текстового дерева\n",
    "    def dump(self, depth=0, prefix=''):\n",
    "        # заголовок\n",
    "        tree = self.pad(depth) + self.head(prefix)\n",
    "        # останов бесконечной рекурсии на циклических ссылках\n",
    "        if not depth:\n",
    "            Object._dumped = []\n",
    "        if self in Object._dumped:\n",
    "            return tree + ' _/'\n",
    "        else:\n",
    "            Object._dumped.append(self)\n",
    "        # slot{}ы\n",
    "        for i in self.slot:\n",
    "            tree += self.slot[i].dump(depth + 1, prefix='%s = ' % i)\n",
    "        # nest[]ы\n",
    "        idx = 0\n",
    "        for j in self.nest:\n",
    "            tree += j.dump(depth + 1, prefix='%s = ' % idx)\n",
    "            idx += 1\n",
    "        # дамп подграфа\n",
    "        return tree\n",
    "\n",
    "    # короткий дамп: только <T:V> заголовок\n",
    "    def head(self, prefix=''):\n",
    "        return '%s<%s:%s> @%s' % (prefix, self.type, self._val(), self.sid)\n",
    "\n",
    "    # отбивка пробелами в зависимости от уровня вложенности\n",
    "    def pad(self, depth):\n",
    "        return '\\n' + '\\t' * depth\n",
    "    # метод форматирует поле .val специально для дампа\n",
    "\n",
    "    def _val(self):\n",
    "        return '%s' % self.val"
   ]
  },
  {
   "cell_type": "code",
   "execution_count": 4,
   "metadata": {},
   "outputs": [
    {
     "name": "stdout",
     "output_type": "stream",
     "text": [
      "\n",
      "<object:Hello> @140324706499608\n"
     ]
    }
   ],
   "source": [
    "print( Object(\"Hello\") )"
   ]
  },
  {
   "cell_type": "markdown",
   "metadata": {},
   "source": [
    "#### Графическое представление / graphviz /"
   ]
  },
  {
   "cell_type": "code",
   "execution_count": 5,
   "metadata": {},
   "outputs": [],
   "source": [
    "from graphviz import Digraph"
   ]
  },
  {
   "cell_type": "markdown",
   "metadata": {},
   "source": [
    "* http://diginal.ru/python/narisovat-graf-s-graphviz-v-jupyter-notebook/"
   ]
  },
  {
   "cell_type": "code",
   "execution_count": 6,
   "metadata": {},
   "outputs": [],
   "source": [
    "class Object(Object):\n",
    "\n",
    "    # визуализация графа через библиотеку graphviz\n",
    "    def plot(self, plot=None, parent=None, label='', color='black'):\n",
    "        # инициализация или ветвь рекурсии\n",
    "        if not plot:\n",
    "            plot = Digraph(comment=self.head())\n",
    "            plot.graph_attr.update(size=\"9,9\")\n",
    "            Object.plotted = []\n",
    "        # остановка рекурсии на циклических графах\n",
    "        if self in Object.plotted:\n",
    "            return plot\n",
    "        else:\n",
    "            Object.plotted.append(self)\n",
    "        # вывод узла графа\n",
    "        plot.node('%s' % self.sid, '%s:%s' % (self.type, self._val()))\n",
    "        # вывод ребра графа с меткой\n",
    "        if parent:\n",
    "            plot.edge('%s' % parent.sid, '%s' % self.sid, label=label, color=color)\n",
    "        # рекурсия по slot{}\n",
    "        for i in self.slot:\n",
    "            plot = self.slot[i].plot(plot, parent=self, label='%s' % i, color='blue')\n",
    "        # рекурсия по nest[]\n",
    "        idx = 0\n",
    "        for j in self.nest:\n",
    "            plot = j.plot(plot, parent=self, label='/%s' % idx, color='red')\n",
    "            idx += 1\n",
    "        # возврат подграфа из рекурсии\n",
    "        return plot"
   ]
  },
  {
   "cell_type": "markdown",
   "metadata": {},
   "source": [
    "### Операторы для построения структуры графа"
   ]
  },
  {
   "cell_type": "code",
   "execution_count": 7,
   "metadata": {},
   "outputs": [],
   "source": [
    "class Object(Object):\n",
    "\n",
    "    # A[key] получить подграф из слота по имени\n",
    "    def __getitem__(self, key):\n",
    "        return self.slot[key]\n",
    "\n",
    "    # A[key] = B присвоить подграф слотупо имени\n",
    "    def __setitem__(self, key, that):\n",
    "        self.slot[key] = that\n",
    "        return self\n",
    "\n",
    "    # A << B -> A[B.type] = B присвоить слот по имени типа B\n",
    "    def __lshift__(self, that):\n",
    "        return self.__setitem__(that.type, that)\n",
    "\n",
    "    # A >> B -> A[B.val] = B присвоить слот по значению B\n",
    "    def __rshift__(self, that):\n",
    "        return self.__setitem__(that.val, that)\n",
    "\n",
    "    # A // B -> A.push(B) втолкнуть B как в стек\n",
    "    def __floordiv__(self, that):\n",
    "        self.nest.append(that)\n",
    "        return self"
   ]
  },
  {
   "cell_type": "code",
   "execution_count": 8,
   "metadata": {},
   "outputs": [
    {
     "data": {
      "text/plain": [
       "\n",
       "<object:Hello> @140324706104936\n",
       "\t0 = <object:World> @140324706105272"
      ]
     },
     "execution_count": 8,
     "metadata": {},
     "output_type": "execute_result"
    }
   ],
   "source": [
    "hello = Object('Hello') // Object('World') ; hello"
   ]
  },
  {
   "cell_type": "code",
   "execution_count": 9,
   "metadata": {},
   "outputs": [
    {
     "data": {
      "text/plain": [
       "\n",
       "<object:Hello> @140324706104936\n",
       "\tsome = <object:slot> @140324706499664\n",
       "\t0 = <object:World> @140324706105272"
      ]
     },
     "execution_count": 9,
     "metadata": {},
     "output_type": "execute_result"
    }
   ],
   "source": [
    "hello['some'] = Object('slot') ; hello"
   ]
  },
  {
   "cell_type": "code",
   "execution_count": 10,
   "metadata": {},
   "outputs": [
    {
     "data": {
      "text/plain": [
       "\n",
       "<object:Hello> @140324706104936\n",
       "\tsome = <object:slot> @140324706499664\n",
       "\tobject = <object:left> @140324706235560\n",
       "\tright = <object:right> @140324706235504\n",
       "\t0 = <object:World> @140324706105272"
      ]
     },
     "execution_count": 10,
     "metadata": {},
     "output_type": "execute_result"
    }
   ],
   "source": [
    "hello << Object('left')\n",
    "hello >> Object('right')\n",
    "hello"
   ]
  },
  {
   "cell_type": "code",
   "execution_count": 11,
   "metadata": {},
   "outputs": [
    {
     "data": {
      "image/svg+xml": [
       "<?xml version=\"1.0\" encoding=\"UTF-8\" standalone=\"no\"?>\n",
       "<!DOCTYPE svg PUBLIC \"-//W3C//DTD SVG 1.1//EN\"\n",
       " \"http://www.w3.org/Graphics/SVG/1.1/DTD/svg11.dtd\">\n",
       "<!-- Generated by graphviz version 2.40.1 (20161225.0304)\n",
       " -->\n",
       "<!-- Title: %3 Pages: 1 -->\n",
       "<svg width=\"467pt\" height=\"131pt\"\n",
       " viewBox=\"0.00 0.00 467.29 131.00\" xmlns=\"http://www.w3.org/2000/svg\" xmlns:xlink=\"http://www.w3.org/1999/xlink\">\n",
       "<g id=\"graph0\" class=\"graph\" transform=\"scale(1 1) rotate(0) translate(4 127)\">\n",
       "<title>%3</title>\n",
       "<polygon fill=\"#ffffff\" stroke=\"transparent\" points=\"-4,4 -4,-127 463.2907,-127 463.2907,4 -4,4\"/>\n",
       "<!-- 140324706104936 -->\n",
       "<g id=\"node1\" class=\"node\">\n",
       "<title>140324706104936</title>\n",
       "<ellipse fill=\"none\" stroke=\"#000000\" cx=\"216.4458\" cy=\"-105\" rx=\"53.8905\" ry=\"18\"/>\n",
       "<text text-anchor=\"middle\" x=\"216.4458\" y=\"-101.3\" font-family=\"Times,serif\" font-size=\"14.00\" fill=\"#000000\">object:Hello</text>\n",
       "</g>\n",
       "<!-- 140324706499664 -->\n",
       "<g id=\"node2\" class=\"node\">\n",
       "<title>140324706499664</title>\n",
       "<ellipse fill=\"none\" stroke=\"#000000\" cx=\"47.4458\" cy=\"-18\" rx=\"47.3916\" ry=\"18\"/>\n",
       "<text text-anchor=\"middle\" x=\"47.4458\" y=\"-14.3\" font-family=\"Times,serif\" font-size=\"14.00\" fill=\"#000000\">object:slot</text>\n",
       "</g>\n",
       "<!-- 140324706104936&#45;&gt;140324706499664 -->\n",
       "<g id=\"edge1\" class=\"edge\">\n",
       "<title>140324706104936&#45;&gt;140324706499664</title>\n",
       "<path fill=\"none\" stroke=\"#0000ff\" d=\"M187.0082,-89.8458C158.6403,-75.2422 115.6076,-53.0892 84.8309,-37.2456\"/>\n",
       "<polygon fill=\"#0000ff\" stroke=\"#0000ff\" points=\"86.1959,-34.0118 75.7028,-32.5465 82.9919,-40.2355 86.1959,-34.0118\"/>\n",
       "<text text-anchor=\"middle\" x=\"157.4458\" y=\"-57.8\" font-family=\"Times,serif\" font-size=\"14.00\" fill=\"#000000\">some</text>\n",
       "</g>\n",
       "<!-- 140324706235560 -->\n",
       "<g id=\"node3\" class=\"node\">\n",
       "<title>140324706235560</title>\n",
       "<ellipse fill=\"none\" stroke=\"#000000\" cx=\"159.4458\" cy=\"-18\" rx=\"46.2923\" ry=\"18\"/>\n",
       "<text text-anchor=\"middle\" x=\"159.4458\" y=\"-14.3\" font-family=\"Times,serif\" font-size=\"14.00\" fill=\"#000000\">object:left</text>\n",
       "</g>\n",
       "<!-- 140324706104936&#45;&gt;140324706235560 -->\n",
       "<g id=\"edge2\" class=\"edge\">\n",
       "<title>140324706104936&#45;&gt;140324706235560</title>\n",
       "<path fill=\"none\" stroke=\"#0000ff\" d=\"M204.911,-87.3943C196.7987,-75.0124 185.8032,-58.2297 176.6575,-44.2704\"/>\n",
       "<polygon fill=\"#0000ff\" stroke=\"#0000ff\" points=\"179.3714,-42.0261 170.9634,-35.5796 173.5161,-45.8623 179.3714,-42.0261\"/>\n",
       "<text text-anchor=\"middle\" x=\"208.4458\" y=\"-57.8\" font-family=\"Times,serif\" font-size=\"14.00\" fill=\"#000000\">object</text>\n",
       "</g>\n",
       "<!-- 140324706235504 -->\n",
       "<g id=\"node4\" class=\"node\">\n",
       "<title>140324706235504</title>\n",
       "<ellipse fill=\"none\" stroke=\"#000000\" cx=\"274.4458\" cy=\"-18\" rx=\"51.1914\" ry=\"18\"/>\n",
       "<text text-anchor=\"middle\" x=\"274.4458\" y=\"-14.3\" font-family=\"Times,serif\" font-size=\"14.00\" fill=\"#000000\">object:right</text>\n",
       "</g>\n",
       "<!-- 140324706104936&#45;&gt;140324706235504 -->\n",
       "<g id=\"edge3\" class=\"edge\">\n",
       "<title>140324706104936&#45;&gt;140324706235504</title>\n",
       "<path fill=\"none\" stroke=\"#0000ff\" d=\"M228.183,-87.3943C236.4375,-75.0124 247.626,-58.2297 256.9322,-44.2704\"/>\n",
       "<polygon fill=\"#0000ff\" stroke=\"#0000ff\" points=\"260.0912,-45.8415 262.7261,-35.5796 254.2669,-41.9586 260.0912,-45.8415\"/>\n",
       "<text text-anchor=\"middle\" x=\"262.4458\" y=\"-57.8\" font-family=\"Times,serif\" font-size=\"14.00\" fill=\"#000000\">right</text>\n",
       "</g>\n",
       "<!-- 140324706105272 -->\n",
       "<g id=\"node5\" class=\"node\">\n",
       "<title>140324706105272</title>\n",
       "<ellipse fill=\"none\" stroke=\"#000000\" cx=\"401.4458\" cy=\"-18\" rx=\"57.6901\" ry=\"18\"/>\n",
       "<text text-anchor=\"middle\" x=\"401.4458\" y=\"-14.3\" font-family=\"Times,serif\" font-size=\"14.00\" fill=\"#000000\">object:World</text>\n",
       "</g>\n",
       "<!-- 140324706104936&#45;&gt;140324706105272 -->\n",
       "<g id=\"edge4\" class=\"edge\">\n",
       "<title>140324706104936&#45;&gt;140324706105272</title>\n",
       "<path fill=\"none\" stroke=\"#ff0000\" d=\"M247.8285,-90.2416C278.7357,-75.7069 326.1206,-53.4232 360.0875,-37.4496\"/>\n",
       "<polygon fill=\"#ff0000\" stroke=\"#ff0000\" points=\"361.7275,-40.5461 369.2873,-33.1232 358.7485,-34.2116 361.7275,-40.5461\"/>\n",
       "<text text-anchor=\"middle\" x=\"325.9458\" y=\"-57.8\" font-family=\"Times,serif\" font-size=\"14.00\" fill=\"#000000\">/0</text>\n",
       "</g>\n",
       "</g>\n",
       "</svg>\n"
      ],
      "text/plain": [
       "<graphviz.dot.Digraph at 0x7f9fe444b6d8>"
      ]
     },
     "execution_count": 11,
     "metadata": {},
     "output_type": "execute_result"
    }
   ],
   "source": [
    "hello.plot()"
   ]
  },
  {
   "cell_type": "markdown",
   "metadata": {},
   "source": [
    "### Стековые операции"
   ]
  },
  {
   "cell_type": "markdown",
   "metadata": {},
   "source": [
    "При реализации языков программирования очень широко используется такой подход как [стековая виртуальная машина](https://tech.badoo.com/ru/article/579/interpretatory-bajt-kodov-svoimi-rukami/). Несмотря на то, что почти все современные процессоры являются регистровыми машинами, при реализации интерпреторов наоборот в основном используется стековая архитектура. Как пример, JVM и .NET являются стековыми машинами."
   ]
  },
  {
   "cell_type": "code",
   "execution_count": 12,
   "metadata": {},
   "outputs": [],
   "source": [
    "class Object(Object):\n",
    "    # ( 1 2 3 -- 1 2 4 ) -> 3\n",
    "    def top(self): return self.nest[-1]\n",
    "    # ( 1 2 3 -- 1 2 3 ) -> 2\n",
    "    def tip(self): return self.nest[-2]\n",
    "    # ( 1 2 3 -- 1 2 ) -> 3\n",
    "    def pop(self): return self.nest.pop(-1)\n",
    "    # ( 1 2 3 -- 1 3 ) -> 2\n",
    "    def pip(self): return self.nest.pop(-2)\n",
    "\n",
    "    # ( 1 2 3 -- )\n",
    "    def dropall(self):\n",
    "        self.nest = []\n",
    "        return self\n",
    "\n",
    "    # ( 1 2 3 -- 1 2 3 3 )\n",
    "    def dup(self): return self\n",
    "    # ( 1 2 3 -- 1 2 )\n",
    "    def drop(self): return self\n",
    "    # ( 1 2 3 -- 1 3 2 )\n",
    "    def swap(self): return self\n",
    "    # ( 1 2 3 -- 1 2 3 2 )\n",
    "    def over(self): return self\n",
    "    # ( 1 2 3 -- 1 3 )\n",
    "    def press(self): return self"
   ]
  },
  {
   "cell_type": "markdown",
   "metadata": {},
   "source": [
    "Выше приведен код, для описания которого в комментариях применялась стековая нотацая:\n",
    "* стек растет слева направо, вершина стека самый правый элемент\n",
    "* запись `--` разделяет состояния стека до и после операции\n",
    "* скобки используются т.к. в языке Форт они выделяют inline-комментарии в коде\n",
    "* `->` показывает что возвращается из Python-метода"
   ]
  },
  {
   "cell_type": "code",
   "execution_count": 13,
   "metadata": {},
   "outputs": [],
   "source": [
    "def stack123(): return Object('stack') // Object(1) // Object(2) // Object(3)"
   ]
  },
  {
   "cell_type": "markdown",
   "metadata": {},
   "source": [
    "Стековые операции изменяют состояние объекта, а не возвращают новый измененный объект, как это происходит в функциональных языках. Для примеров пришлось завести служебную функцию `stack123()`."
   ]
  },
  {
   "cell_type": "code",
   "execution_count": 14,
   "metadata": {},
   "outputs": [
    {
     "data": {
      "text/plain": [
       "\n",
       "<object:stack> @140324705735288\n",
       "\t0 = <object:1> @140324705735400\n",
       "\t1 = <object:2> @140324705735512\n",
       "\t2 = <object:3> @140324705735624"
      ]
     },
     "execution_count": 14,
     "metadata": {},
     "output_type": "execute_result"
    }
   ],
   "source": [
    "stack = stack123() ; stack"
   ]
  },
  {
   "cell_type": "markdown",
   "metadata": {},
   "source": [
    "Поле объектов `nest[]` работает и как стек, на дампе вершина стека находится внизу, с максимальным целочисленным индексом."
   ]
  },
  {
   "cell_type": "code",
   "execution_count": 15,
   "metadata": {},
   "outputs": [
    {
     "name": "stdout",
     "output_type": "stream",
     "text": [
      "top \n",
      "<object:3> @140324705735624\n",
      "tip \n",
      "<object:2> @140324705735512\n"
     ]
    }
   ],
   "source": [
    "print('top',stack.top()) ; print('tip',stack.tip())"
   ]
  },
  {
   "cell_type": "code",
   "execution_count": 16,
   "metadata": {},
   "outputs": [
    {
     "name": "stdout",
     "output_type": "stream",
     "text": [
      "pop \n",
      "<object:3> @140324705735624 \n",
      "<object:stack> @140324705735288\n",
      "\t0 = <object:1> @140324705735400\n",
      "\t1 = <object:2> @140324705735512\n"
     ]
    }
   ],
   "source": [
    "print('pop',stack.pop(),stack)"
   ]
  },
  {
   "cell_type": "code",
   "execution_count": 17,
   "metadata": {},
   "outputs": [
    {
     "name": "stdout",
     "output_type": "stream",
     "text": [
      "pip \n",
      "<object:1> @140324705735400 \n",
      "<object:stack> @140324705735288\n",
      "\t0 = <object:2> @140324705735512\n"
     ]
    }
   ],
   "source": [
    "print('pip',stack.pip(),stack)"
   ]
  },
  {
   "cell_type": "markdown",
   "metadata": {},
   "source": [
    "## Контейнеры"
   ]
  },
  {
   "cell_type": "code",
   "execution_count": 18,
   "metadata": {},
   "outputs": [],
   "source": [
    "class Container(Object): pass\n",
    "class Vector(Container): pass\n",
    "class Array(Container): pass"
   ]
  },
  {
   "cell_type": "markdown",
   "metadata": {},
   "source": [
    "## Реализация примитивного ЯП\n",
    "### на базе графовой машины"
   ]
  },
  {
   "cell_type": "markdown",
   "metadata": {},
   "source": [
    "Вырожденным случаем языка программирования является [язык Форт](http://www.nncron.ru/book/sf/) /[.pdf](http://www.nncron.ru/download/sf.pdf)/, который имеет самый минимально возможный синтаксис и реализацию интерпретатора:\n",
    "* **любая непробельная группа символов** является командой, или (числовой) константой\n",
    "* все команды получают параметры и возвращают результат на **стеке**\n",
    "* привязка значений к именам (команды) выполняется через **словарь**"
   ]
  },
  {
   "cell_type": "code",
   "execution_count": 19,
   "metadata": {},
   "outputs": [],
   "source": [
    "# использяемые данные\n",
    "class Active(Object):\n",
    "    pass\n",
    "\n",
    "# команда ВМ (обертка для функций написанных на Python)\n",
    "class Command(Active):\n",
    "    pass\n",
    "\n",
    "# виртуальная (форт-)машина\n",
    "class VM(Active):\n",
    "    pass"
   ]
  },
  {
   "cell_type": "markdown",
   "metadata": {},
   "source": [
    "## Представление программ"
   ]
  },
  {
   "cell_type": "markdown",
   "metadata": {},
   "source": [
    "Рассмотрим примитивную программу на Си, и построим ее аналог в виде графа:\n",
    "```\n",
    "#include <stdio.h>\n",
    "\n",
    "int main(int argc, char *argv[]) {\n",
    "    printf(\"Hello World\");\n",
    "    return 0;\n",
    "}\n",
    "```"
   ]
  },
  {
   "cell_type": "code",
   "execution_count": 20,
   "metadata": {},
   "outputs": [],
   "source": [
    "class Meta(Object): pass\n",
    "class Fn(Meta): pass"
   ]
  },
  {
   "cell_type": "code",
   "execution_count": 21,
   "metadata": {},
   "outputs": [],
   "source": [
    "class Type(Meta): pass\n",
    "\n",
    "class VarArgs(Type):\n",
    "    def __init__(self,V='...'):\n",
    "        Type.__init__(self,V)\n",
    "\n",
    "class Ptr(Type):\n",
    "    def __init__(self, V):\n",
    "        Type.__init__(self, '')\n",
    "        self // V\n",
    "\n",
    "class Int(Type): pass\n",
    "class Char(Type): pass\n",
    "\n",
    "i32 = Type('i32')"
   ]
  },
  {
   "cell_type": "markdown",
   "metadata": {},
   "source": [
    "Строим функцию `main()`:"
   ]
  },
  {
   "cell_type": "code",
   "execution_count": 22,
   "metadata": {},
   "outputs": [
    {
     "name": "stdout",
     "output_type": "stream",
     "text": [
      "\n",
      "<fn:main> @140324705799584\n",
      "\tret = <type:i32> @140324705734328\n"
     ]
    },
    {
     "data": {
      "image/svg+xml": [
       "<?xml version=\"1.0\" encoding=\"UTF-8\" standalone=\"no\"?>\n",
       "<!DOCTYPE svg PUBLIC \"-//W3C//DTD SVG 1.1//EN\"\n",
       " \"http://www.w3.org/Graphics/SVG/1.1/DTD/svg11.dtd\">\n",
       "<!-- Generated by graphviz version 2.40.1 (20161225.0304)\n",
       " -->\n",
       "<!-- Title: %3 Pages: 1 -->\n",
       "<svg width=\"87pt\" height=\"131pt\"\n",
       " viewBox=\"0.00 0.00 87.29 131.00\" xmlns=\"http://www.w3.org/2000/svg\" xmlns:xlink=\"http://www.w3.org/1999/xlink\">\n",
       "<g id=\"graph0\" class=\"graph\" transform=\"scale(1 1) rotate(0) translate(4 127)\">\n",
       "<title>%3</title>\n",
       "<polygon fill=\"#ffffff\" stroke=\"transparent\" points=\"-4,4 -4,-127 83.293,-127 83.293,4 -4,4\"/>\n",
       "<!-- 140324705799584 -->\n",
       "<g id=\"node1\" class=\"node\">\n",
       "<title>140324705799584</title>\n",
       "<ellipse fill=\"none\" stroke=\"#000000\" cx=\"39.6465\" cy=\"-105\" rx=\"38.1938\" ry=\"18\"/>\n",
       "<text text-anchor=\"middle\" x=\"39.6465\" y=\"-101.3\" font-family=\"Times,serif\" font-size=\"14.00\" fill=\"#000000\">fn:main</text>\n",
       "</g>\n",
       "<!-- 140324705734328 -->\n",
       "<g id=\"node2\" class=\"node\">\n",
       "<title>140324705734328</title>\n",
       "<ellipse fill=\"none\" stroke=\"#000000\" cx=\"39.6465\" cy=\"-18\" rx=\"39.7935\" ry=\"18\"/>\n",
       "<text text-anchor=\"middle\" x=\"39.6465\" y=\"-14.3\" font-family=\"Times,serif\" font-size=\"14.00\" fill=\"#000000\">type:i32</text>\n",
       "</g>\n",
       "<!-- 140324705799584&#45;&gt;140324705734328 -->\n",
       "<g id=\"edge1\" class=\"edge\">\n",
       "<title>140324705799584&#45;&gt;140324705734328</title>\n",
       "<path fill=\"none\" stroke=\"#0000ff\" d=\"M39.6465,-86.9735C39.6465,-75.1918 39.6465,-59.5607 39.6465,-46.1581\"/>\n",
       "<polygon fill=\"#0000ff\" stroke=\"#0000ff\" points=\"43.1466,-46.0033 39.6465,-36.0034 36.1466,-46.0034 43.1466,-46.0033\"/>\n",
       "<text text-anchor=\"middle\" x=\"47.1465\" y=\"-57.8\" font-family=\"Times,serif\" font-size=\"14.00\" fill=\"#000000\">ret</text>\n",
       "</g>\n",
       "</g>\n",
       "</svg>\n"
      ],
      "text/plain": [
       "<graphviz.dot.Digraph at 0x7f9fe43e0588>"
      ]
     },
     "execution_count": 22,
     "metadata": {},
     "output_type": "execute_result"
    }
   ],
   "source": [
    "main = Fn('main') ; main['ret'] = i32\n",
    "print(main) ; main.plot()"
   ]
  },
  {
   "cell_type": "markdown",
   "metadata": {},
   "source": [
    "Задаем набор параметров функции:"
   ]
  },
  {
   "cell_type": "code",
   "execution_count": 23,
   "metadata": {},
   "outputs": [
    {
     "name": "stdout",
     "output_type": "stream",
     "text": [
      "\n",
      "<int:argc> @140324705731472\n",
      "\n",
      "<array:argv> @140324705731360\n",
      "\t0 = <ptr:> @140324705738368\n",
      "\t\t0 = <type:char> @140324705736632\n",
      "\n",
      "<fn:main> @140324705799584\n",
      "\tret = <type:i32> @140324705734328\n",
      "\targs = <vector:> @140324705737528\n",
      "\t\t0 = <int:argc> @140324705731472\n",
      "\t\t1 = <array:argv> @140324705731360\n",
      "\t\t\t0 = <ptr:> @140324705738368\n",
      "\t\t\t\t0 = <type:char> @140324705736632\n"
     ]
    },
    {
     "data": {
      "image/svg+xml": [
       "<?xml version=\"1.0\" encoding=\"UTF-8\" standalone=\"no\"?>\n",
       "<!DOCTYPE svg PUBLIC \"-//W3C//DTD SVG 1.1//EN\"\n",
       " \"http://www.w3.org/Graphics/SVG/1.1/DTD/svg11.dtd\">\n",
       "<!-- Generated by graphviz version 2.40.1 (20161225.0304)\n",
       " -->\n",
       "<!-- Title: %3 Pages: 1 -->\n",
       "<svg width=\"255pt\" height=\"392pt\"\n",
       " viewBox=\"0.00 0.00 255.44 392.00\" xmlns=\"http://www.w3.org/2000/svg\" xmlns:xlink=\"http://www.w3.org/1999/xlink\">\n",
       "<g id=\"graph0\" class=\"graph\" transform=\"scale(1 1) rotate(0) translate(4 388)\">\n",
       "<title>%3</title>\n",
       "<polygon fill=\"#ffffff\" stroke=\"transparent\" points=\"-4,4 -4,-388 251.4423,-388 251.4423,4 -4,4\"/>\n",
       "<!-- 140324705799584 -->\n",
       "<g id=\"node1\" class=\"node\">\n",
       "<title>140324705799584</title>\n",
       "<ellipse fill=\"none\" stroke=\"#000000\" cx=\"58.6465\" cy=\"-366\" rx=\"38.1938\" ry=\"18\"/>\n",
       "<text text-anchor=\"middle\" x=\"58.6465\" y=\"-362.3\" font-family=\"Times,serif\" font-size=\"14.00\" fill=\"#000000\">fn:main</text>\n",
       "</g>\n",
       "<!-- 140324705734328 -->\n",
       "<g id=\"node2\" class=\"node\">\n",
       "<title>140324705734328</title>\n",
       "<ellipse fill=\"none\" stroke=\"#000000\" cx=\"39.6465\" cy=\"-279\" rx=\"39.7935\" ry=\"18\"/>\n",
       "<text text-anchor=\"middle\" x=\"39.6465\" y=\"-275.3\" font-family=\"Times,serif\" font-size=\"14.00\" fill=\"#000000\">type:i32</text>\n",
       "</g>\n",
       "<!-- 140324705799584&#45;&gt;140324705734328 -->\n",
       "<g id=\"edge1\" class=\"edge\">\n",
       "<title>140324705799584&#45;&gt;140324705734328</title>\n",
       "<path fill=\"none\" stroke=\"#0000ff\" d=\"M54.7097,-347.9735C52.1366,-336.1918 48.7229,-320.5607 45.7959,-307.1581\"/>\n",
       "<polygon fill=\"#0000ff\" stroke=\"#0000ff\" points=\"49.1314,-306.0263 43.5783,-297.0034 42.2925,-307.5199 49.1314,-306.0263\"/>\n",
       "<text text-anchor=\"middle\" x=\"58.1465\" y=\"-318.8\" font-family=\"Times,serif\" font-size=\"14.00\" fill=\"#000000\">ret</text>\n",
       "</g>\n",
       "<!-- 140324705737528 -->\n",
       "<g id=\"node3\" class=\"node\">\n",
       "<title>140324705737528</title>\n",
       "<ellipse fill=\"none\" stroke=\"#000000\" cx=\"132.6465\" cy=\"-279\" rx=\"35.194\" ry=\"18\"/>\n",
       "<text text-anchor=\"middle\" x=\"132.6465\" y=\"-275.3\" font-family=\"Times,serif\" font-size=\"14.00\" fill=\"#000000\">vector:</text>\n",
       "</g>\n",
       "<!-- 140324705799584&#45;&gt;140324705737528 -->\n",
       "<g id=\"edge2\" class=\"edge\">\n",
       "<title>140324705799584&#45;&gt;140324705737528</title>\n",
       "<path fill=\"none\" stroke=\"#0000ff\" d=\"M72.9144,-349.2255C83.9707,-336.2269 99.4484,-318.0302 111.878,-303.417\"/>\n",
       "<polygon fill=\"#0000ff\" stroke=\"#0000ff\" points=\"114.6093,-305.6079 118.4223,-295.723 109.2772,-301.0726 114.6093,-305.6079\"/>\n",
       "<text text-anchor=\"middle\" x=\"112.1465\" y=\"-318.8\" font-family=\"Times,serif\" font-size=\"14.00\" fill=\"#000000\">args</text>\n",
       "</g>\n",
       "<!-- 140324705731472 -->\n",
       "<g id=\"node4\" class=\"node\">\n",
       "<title>140324705731472</title>\n",
       "<ellipse fill=\"none\" stroke=\"#000000\" cx=\"98.6465\" cy=\"-192\" rx=\"37.8943\" ry=\"18\"/>\n",
       "<text text-anchor=\"middle\" x=\"98.6465\" y=\"-188.3\" font-family=\"Times,serif\" font-size=\"14.00\" fill=\"#000000\">int:argc</text>\n",
       "</g>\n",
       "<!-- 140324705737528&#45;&gt;140324705731472 -->\n",
       "<g id=\"edge3\" class=\"edge\">\n",
       "<title>140324705737528&#45;&gt;140324705731472</title>\n",
       "<path fill=\"none\" stroke=\"#ff0000\" d=\"M125.6017,-260.9735C120.8748,-248.8784 114.5625,-232.7263 109.2347,-219.0934\"/>\n",
       "<polygon fill=\"#ff0000\" stroke=\"#ff0000\" points=\"112.4659,-217.7457 105.5659,-209.7057 105.9461,-220.2937 112.4659,-217.7457\"/>\n",
       "<text text-anchor=\"middle\" x=\"124.1465\" y=\"-231.8\" font-family=\"Times,serif\" font-size=\"14.00\" fill=\"#000000\">/0</text>\n",
       "</g>\n",
       "<!-- 140324705731360 -->\n",
       "<g id=\"node5\" class=\"node\">\n",
       "<title>140324705731360</title>\n",
       "<ellipse fill=\"none\" stroke=\"#000000\" cx=\"200.6465\" cy=\"-192\" rx=\"46.5926\" ry=\"18\"/>\n",
       "<text text-anchor=\"middle\" x=\"200.6465\" y=\"-188.3\" font-family=\"Times,serif\" font-size=\"14.00\" fill=\"#000000\">array:argv</text>\n",
       "</g>\n",
       "<!-- 140324705737528&#45;&gt;140324705731360 -->\n",
       "<g id=\"edge4\" class=\"edge\">\n",
       "<title>140324705737528&#45;&gt;140324705731360</title>\n",
       "<path fill=\"none\" stroke=\"#ff0000\" d=\"M145.7576,-262.2255C155.6943,-249.5124 169.5174,-231.8269 180.8055,-217.3848\"/>\n",
       "<polygon fill=\"#ff0000\" stroke=\"#ff0000\" points=\"183.7096,-219.3527 187.1102,-209.3185 178.1944,-215.042 183.7096,-219.3527\"/>\n",
       "<text text-anchor=\"middle\" x=\"176.1465\" y=\"-231.8\" font-family=\"Times,serif\" font-size=\"14.00\" fill=\"#000000\">/1</text>\n",
       "</g>\n",
       "<!-- 140324705738368 -->\n",
       "<g id=\"node6\" class=\"node\">\n",
       "<title>140324705738368</title>\n",
       "<ellipse fill=\"none\" stroke=\"#000000\" cx=\"200.6465\" cy=\"-105\" rx=\"27\" ry=\"18\"/>\n",
       "<text text-anchor=\"middle\" x=\"200.6465\" y=\"-101.3\" font-family=\"Times,serif\" font-size=\"14.00\" fill=\"#000000\">ptr:</text>\n",
       "</g>\n",
       "<!-- 140324705731360&#45;&gt;140324705738368 -->\n",
       "<g id=\"edge5\" class=\"edge\">\n",
       "<title>140324705731360&#45;&gt;140324705738368</title>\n",
       "<path fill=\"none\" stroke=\"#ff0000\" d=\"M200.6465,-173.9735C200.6465,-162.1918 200.6465,-146.5607 200.6465,-133.1581\"/>\n",
       "<polygon fill=\"#ff0000\" stroke=\"#ff0000\" points=\"204.1466,-133.0033 200.6465,-123.0034 197.1466,-133.0034 204.1466,-133.0033\"/>\n",
       "<text text-anchor=\"middle\" x=\"206.1465\" y=\"-144.8\" font-family=\"Times,serif\" font-size=\"14.00\" fill=\"#000000\">/0</text>\n",
       "</g>\n",
       "<!-- 140324705736632 -->\n",
       "<g id=\"node7\" class=\"node\">\n",
       "<title>140324705736632</title>\n",
       "<ellipse fill=\"none\" stroke=\"#000000\" cx=\"200.6465\" cy=\"-18\" rx=\"43.5923\" ry=\"18\"/>\n",
       "<text text-anchor=\"middle\" x=\"200.6465\" y=\"-14.3\" font-family=\"Times,serif\" font-size=\"14.00\" fill=\"#000000\">type:char</text>\n",
       "</g>\n",
       "<!-- 140324705738368&#45;&gt;140324705736632 -->\n",
       "<g id=\"edge6\" class=\"edge\">\n",
       "<title>140324705738368&#45;&gt;140324705736632</title>\n",
       "<path fill=\"none\" stroke=\"#ff0000\" d=\"M200.6465,-86.9735C200.6465,-75.1918 200.6465,-59.5607 200.6465,-46.1581\"/>\n",
       "<polygon fill=\"#ff0000\" stroke=\"#ff0000\" points=\"204.1466,-46.0033 200.6465,-36.0034 197.1466,-46.0034 204.1466,-46.0033\"/>\n",
       "<text text-anchor=\"middle\" x=\"206.1465\" y=\"-57.8\" font-family=\"Times,serif\" font-size=\"14.00\" fill=\"#000000\">/0</text>\n",
       "</g>\n",
       "</g>\n",
       "</svg>\n"
      ],
      "text/plain": [
       "<graphviz.dot.Digraph at 0x7f9fe43d1b00>"
      ]
     },
     "execution_count": 23,
     "metadata": {},
     "output_type": "execute_result"
    }
   ],
   "source": [
    "argc = Int('argc') ; print(argc)\n",
    "argv = Array('argv') // Ptr(Type('char')) ; print(argv)\n",
    "main['args'] = Vector('') // argc // argv\n",
    "print(main) ; main.plot()"
   ]
  },
  {
   "cell_type": "markdown",
   "metadata": {},
   "source": [
    "Вызов внешней функции:"
   ]
  },
  {
   "cell_type": "code",
   "execution_count": 24,
   "metadata": {},
   "outputs": [
    {
     "name": "stdout",
     "output_type": "stream",
     "text": [
      "\n",
      "<include:stdlib.h> @140324705798576\n"
     ]
    }
   ],
   "source": [
    "class Include(Meta): pass\n",
    "stdlib = Include('stdlib.h') ; print(stdlib)"
   ]
  },
  {
   "cell_type": "code",
   "execution_count": 25,
   "metadata": {},
   "outputs": [
    {
     "name": "stdout",
     "output_type": "stream",
     "text": [
      "\n",
      "<include:stdlib.h> @140324705798576\n",
      "\tprintf = <fn:printf> @140324705734840\n",
      "\t\tret = <type:i32> @140324705734328\n",
      "\t\targs = <vector:> @140324706236176\n",
      "\t\t\t0 = <ptr:> @140324706235000\n",
      "\t\t\t\t0 = <char:format> @140324705735064\n",
      "\t\t\t1 = <varargs:...> @140324706238136\n"
     ]
    }
   ],
   "source": [
    "printf = Fn('printf') ; stdlib >> printf\n",
    "printf['ret'] = i32\n",
    "format = Ptr(Char('format'))\n",
    "printf['args'] = Vector('') // format // VarArgs()\n",
    "print(stdlib)"
   ]
  },
  {
   "cell_type": "markdown",
   "metadata": {},
   "source": [
    "Добавляем вызов `printf()`:"
   ]
  },
  {
   "cell_type": "code",
   "execution_count": 26,
   "metadata": {},
   "outputs": [
    {
     "data": {
      "text/plain": [
       "\n",
       "<fn:main> @140324705799584\n",
       "\tret = <type:i32> @140324705734328\n",
       "\targs = <vector:> @140324705737528\n",
       "\t\t0 = <int:argc> @140324705731472\n",
       "\t\t1 = <array:argv> @140324705731360\n",
       "\t\t\t0 = <ptr:> @140324705738368\n",
       "\t\t\t\t0 = <type:char> @140324705736632\n",
       "\t0 = <call:printf> @140324705737304\n",
       "\t\t0 = <fn:printf> @140324705734840\n",
       "\t\t\tret = <type:i32> @140324705734328 _/\n",
       "\t\t\targs = <vector:> @140324706236176\n",
       "\t\t\t\t0 = <ptr:> @140324706235000\n",
       "\t\t\t\t\t0 = <char:format> @140324705735064\n",
       "\t\t\t\t1 = <varargs:...> @140324706238136"
      ]
     },
     "execution_count": 26,
     "metadata": {},
     "output_type": "execute_result"
    }
   ],
   "source": [
    "class Call(Meta):\n",
    "    def __init__(self,F):\n",
    "        Meta.__init__(self,F.val) ; self // F\n",
    "\n",
    "main // Call(printf)"
   ]
  },
  {
   "cell_type": "code",
   "execution_count": 27,
   "metadata": {},
   "outputs": [
    {
     "name": "stdout",
     "output_type": "stream",
     "text": [
      "\n",
      "<fn:main> @140324705799584\n",
      "\tret = <type:i32> @140324705734328\n",
      "\targs = <vector:> @140324705737528\n",
      "\t\t0 = <int:argc> @140324705731472\n",
      "\t\t1 = <array:argv> @140324705731360\n",
      "\t\t\t0 = <ptr:> @140324705738368\n",
      "\t\t\t\t0 = <type:char> @140324705736632\n",
      "\t0 = <call:printf> @140324705737304\n",
      "\t\t0 = <fn:printf> @140324705734840\n",
      "\t\t\tret = <type:i32> @140324705734328 _/\n",
      "\t\t\targs = <vector:> @140324706236176\n",
      "\t\t\t\t0 = <ptr:> @140324706235000\n",
      "\t\t\t\t\t0 = <char:format> @140324705735064\n",
      "\t\t\t\t1 = <varargs:...> @140324706238136\n",
      "\t1 = <return:0> @140324706236848\n",
      "\t\t0 = <int:0> @140324706237520\n"
     ]
    },
    {
     "data": {
      "image/svg+xml": [
       "<?xml version=\"1.0\" encoding=\"UTF-8\" standalone=\"no\"?>\n",
       "<!DOCTYPE svg PUBLIC \"-//W3C//DTD SVG 1.1//EN\"\n",
       " \"http://www.w3.org/Graphics/SVG/1.1/DTD/svg11.dtd\">\n",
       "<!-- Generated by graphviz version 2.40.1 (20161225.0304)\n",
       " -->\n",
       "<!-- Title: %3 Pages: 1 -->\n",
       "<svg width=\"387pt\" height=\"479pt\"\n",
       " viewBox=\"0.00 0.00 387.04 479.00\" xmlns=\"http://www.w3.org/2000/svg\" xmlns:xlink=\"http://www.w3.org/1999/xlink\">\n",
       "<g id=\"graph0\" class=\"graph\" transform=\"scale(1 1) rotate(0) translate(4 475)\">\n",
       "<title>%3</title>\n",
       "<polygon fill=\"#ffffff\" stroke=\"transparent\" points=\"-4,4 -4,-475 383.0433,-475 383.0433,4 -4,4\"/>\n",
       "<!-- 140324705799584 -->\n",
       "<g id=\"node1\" class=\"node\">\n",
       "<title>140324705799584</title>\n",
       "<ellipse fill=\"none\" stroke=\"#000000\" cx=\"175.6967\" cy=\"-453\" rx=\"38.1938\" ry=\"18\"/>\n",
       "<text text-anchor=\"middle\" x=\"175.6967\" y=\"-449.3\" font-family=\"Times,serif\" font-size=\"14.00\" fill=\"#000000\">fn:main</text>\n",
       "</g>\n",
       "<!-- 140324705734328 -->\n",
       "<g id=\"node2\" class=\"node\">\n",
       "<title>140324705734328</title>\n",
       "<ellipse fill=\"none\" stroke=\"#000000\" cx=\"46.6967\" cy=\"-366\" rx=\"39.7935\" ry=\"18\"/>\n",
       "<text text-anchor=\"middle\" x=\"46.6967\" y=\"-362.3\" font-family=\"Times,serif\" font-size=\"14.00\" fill=\"#000000\">type:i32</text>\n",
       "</g>\n",
       "<!-- 140324705799584&#45;&gt;140324705734328 -->\n",
       "<g id=\"edge1\" class=\"edge\">\n",
       "<title>140324705799584&#45;&gt;140324705734328</title>\n",
       "<path fill=\"none\" stroke=\"#0000ff\" d=\"M153.5208,-438.0442C132.5692,-423.9141 100.9503,-402.5897 77.5441,-386.8041\"/>\n",
       "<polygon fill=\"#0000ff\" stroke=\"#0000ff\" points=\"79.2626,-383.7415 69.0149,-381.0518 75.3486,-389.545 79.2626,-383.7415\"/>\n",
       "<text text-anchor=\"middle\" x=\"127.1967\" y=\"-405.8\" font-family=\"Times,serif\" font-size=\"14.00\" fill=\"#000000\">ret</text>\n",
       "</g>\n",
       "<!-- 140324705737528 -->\n",
       "<g id=\"node3\" class=\"node\">\n",
       "<title>140324705737528</title>\n",
       "<ellipse fill=\"none\" stroke=\"#000000\" cx=\"139.6967\" cy=\"-366\" rx=\"35.194\" ry=\"18\"/>\n",
       "<text text-anchor=\"middle\" x=\"139.6967\" y=\"-362.3\" font-family=\"Times,serif\" font-size=\"14.00\" fill=\"#000000\">vector:</text>\n",
       "</g>\n",
       "<!-- 140324705799584&#45;&gt;140324705737528 -->\n",
       "<g id=\"edge2\" class=\"edge\">\n",
       "<title>140324705799584&#45;&gt;140324705737528</title>\n",
       "<path fill=\"none\" stroke=\"#0000ff\" d=\"M168.2374,-434.9735C163.2325,-422.8784 156.5489,-406.7263 150.9077,-393.0934\"/>\n",
       "<polygon fill=\"#0000ff\" stroke=\"#0000ff\" points=\"154.0808,-391.6076 147.0231,-383.7057 147.6127,-394.2841 154.0808,-391.6076\"/>\n",
       "<text text-anchor=\"middle\" x=\"172.1967\" y=\"-405.8\" font-family=\"Times,serif\" font-size=\"14.00\" fill=\"#000000\">args</text>\n",
       "</g>\n",
       "<!-- 140324705737304 -->\n",
       "<g id=\"node8\" class=\"node\">\n",
       "<title>140324705737304</title>\n",
       "<ellipse fill=\"none\" stroke=\"#000000\" cx=\"238.6967\" cy=\"-366\" rx=\"45.4919\" ry=\"18\"/>\n",
       "<text text-anchor=\"middle\" x=\"238.6967\" y=\"-362.3\" font-family=\"Times,serif\" font-size=\"14.00\" fill=\"#000000\">call:printf</text>\n",
       "</g>\n",
       "<!-- 140324705799584&#45;&gt;140324705737304 -->\n",
       "<g id=\"edge7\" class=\"edge\">\n",
       "<title>140324705799584&#45;&gt;140324705737304</title>\n",
       "<path fill=\"none\" stroke=\"#ff0000\" d=\"M188.1434,-435.8116C197.2305,-423.2628 209.7061,-406.0346 219.99,-391.833\"/>\n",
       "<polygon fill=\"#ff0000\" stroke=\"#ff0000\" points=\"223.0298,-393.6027 226.0601,-383.4505 217.3602,-389.4971 223.0298,-393.6027\"/>\n",
       "<text text-anchor=\"middle\" x=\"217.1967\" y=\"-405.8\" font-family=\"Times,serif\" font-size=\"14.00\" fill=\"#000000\">/0</text>\n",
       "</g>\n",
       "<!-- 140324706236848 -->\n",
       "<g id=\"node14\" class=\"node\">\n",
       "<title>140324706236848</title>\n",
       "<ellipse fill=\"none\" stroke=\"#000000\" cx=\"340.6967\" cy=\"-366\" rx=\"38.1938\" ry=\"18\"/>\n",
       "<text text-anchor=\"middle\" x=\"340.6967\" y=\"-362.3\" font-family=\"Times,serif\" font-size=\"14.00\" fill=\"#000000\">return:0</text>\n",
       "</g>\n",
       "<!-- 140324705799584&#45;&gt;140324706236848 -->\n",
       "<g id=\"edge13\" class=\"edge\">\n",
       "<title>140324705799584&#45;&gt;140324706236848</title>\n",
       "<path fill=\"none\" stroke=\"#ff0000\" d=\"M201.4779,-439.4063C229.5698,-424.5942 274.667,-400.8157 305.8871,-384.3541\"/>\n",
       "<polygon fill=\"#ff0000\" stroke=\"#ff0000\" points=\"307.8832,-387.2584 315.0964,-379.4983 304.6183,-381.0664 307.8832,-387.2584\"/>\n",
       "<text text-anchor=\"middle\" x=\"274.1967\" y=\"-405.8\" font-family=\"Times,serif\" font-size=\"14.00\" fill=\"#000000\">/1</text>\n",
       "</g>\n",
       "<!-- 140324705731472 -->\n",
       "<g id=\"node4\" class=\"node\">\n",
       "<title>140324705731472</title>\n",
       "<ellipse fill=\"none\" stroke=\"#000000\" cx=\"37.6967\" cy=\"-279\" rx=\"37.8943\" ry=\"18\"/>\n",
       "<text text-anchor=\"middle\" x=\"37.6967\" y=\"-275.3\" font-family=\"Times,serif\" font-size=\"14.00\" fill=\"#000000\">int:argc</text>\n",
       "</g>\n",
       "<!-- 140324705737528&#45;&gt;140324705731472 -->\n",
       "<g id=\"edge3\" class=\"edge\">\n",
       "<title>140324705737528&#45;&gt;140324705731472</title>\n",
       "<path fill=\"none\" stroke=\"#ff0000\" d=\"M121.4611,-350.4461C105.4603,-336.7984 81.9977,-316.7862 63.9716,-301.411\"/>\n",
       "<polygon fill=\"#ff0000\" stroke=\"#ff0000\" points=\"65.9979,-298.5391 56.1182,-294.7125 61.4553,-303.865 65.9979,-298.5391\"/>\n",
       "<text text-anchor=\"middle\" x=\"101.1967\" y=\"-318.8\" font-family=\"Times,serif\" font-size=\"14.00\" fill=\"#000000\">/0</text>\n",
       "</g>\n",
       "<!-- 140324705731360 -->\n",
       "<g id=\"node5\" class=\"node\">\n",
       "<title>140324705731360</title>\n",
       "<ellipse fill=\"none\" stroke=\"#000000\" cx=\"139.6967\" cy=\"-279\" rx=\"46.5926\" ry=\"18\"/>\n",
       "<text text-anchor=\"middle\" x=\"139.6967\" y=\"-275.3\" font-family=\"Times,serif\" font-size=\"14.00\" fill=\"#000000\">array:argv</text>\n",
       "</g>\n",
       "<!-- 140324705737528&#45;&gt;140324705731360 -->\n",
       "<g id=\"edge4\" class=\"edge\">\n",
       "<title>140324705737528&#45;&gt;140324705731360</title>\n",
       "<path fill=\"none\" stroke=\"#ff0000\" d=\"M139.6967,-347.9735C139.6967,-336.1918 139.6967,-320.5607 139.6967,-307.1581\"/>\n",
       "<polygon fill=\"#ff0000\" stroke=\"#ff0000\" points=\"143.1968,-307.0033 139.6967,-297.0034 136.1968,-307.0034 143.1968,-307.0033\"/>\n",
       "<text text-anchor=\"middle\" x=\"145.1967\" y=\"-318.8\" font-family=\"Times,serif\" font-size=\"14.00\" fill=\"#000000\">/1</text>\n",
       "</g>\n",
       "<!-- 140324705738368 -->\n",
       "<g id=\"node6\" class=\"node\">\n",
       "<title>140324705738368</title>\n",
       "<ellipse fill=\"none\" stroke=\"#000000\" cx=\"139.6967\" cy=\"-192\" rx=\"27\" ry=\"18\"/>\n",
       "<text text-anchor=\"middle\" x=\"139.6967\" y=\"-188.3\" font-family=\"Times,serif\" font-size=\"14.00\" fill=\"#000000\">ptr:</text>\n",
       "</g>\n",
       "<!-- 140324705731360&#45;&gt;140324705738368 -->\n",
       "<g id=\"edge5\" class=\"edge\">\n",
       "<title>140324705731360&#45;&gt;140324705738368</title>\n",
       "<path fill=\"none\" stroke=\"#ff0000\" d=\"M139.6967,-260.9735C139.6967,-249.1918 139.6967,-233.5607 139.6967,-220.1581\"/>\n",
       "<polygon fill=\"#ff0000\" stroke=\"#ff0000\" points=\"143.1968,-220.0033 139.6967,-210.0034 136.1968,-220.0034 143.1968,-220.0033\"/>\n",
       "<text text-anchor=\"middle\" x=\"145.1967\" y=\"-231.8\" font-family=\"Times,serif\" font-size=\"14.00\" fill=\"#000000\">/0</text>\n",
       "</g>\n",
       "<!-- 140324705736632 -->\n",
       "<g id=\"node7\" class=\"node\">\n",
       "<title>140324705736632</title>\n",
       "<ellipse fill=\"none\" stroke=\"#000000\" cx=\"139.6967\" cy=\"-105\" rx=\"43.5923\" ry=\"18\"/>\n",
       "<text text-anchor=\"middle\" x=\"139.6967\" y=\"-101.3\" font-family=\"Times,serif\" font-size=\"14.00\" fill=\"#000000\">type:char</text>\n",
       "</g>\n",
       "<!-- 140324705738368&#45;&gt;140324705736632 -->\n",
       "<g id=\"edge6\" class=\"edge\">\n",
       "<title>140324705738368&#45;&gt;140324705736632</title>\n",
       "<path fill=\"none\" stroke=\"#ff0000\" d=\"M139.6967,-173.9735C139.6967,-162.1918 139.6967,-146.5607 139.6967,-133.1581\"/>\n",
       "<polygon fill=\"#ff0000\" stroke=\"#ff0000\" points=\"143.1968,-133.0033 139.6967,-123.0034 136.1968,-133.0034 143.1968,-133.0033\"/>\n",
       "<text text-anchor=\"middle\" x=\"145.1967\" y=\"-144.8\" font-family=\"Times,serif\" font-size=\"14.00\" fill=\"#000000\">/0</text>\n",
       "</g>\n",
       "<!-- 140324705734840 -->\n",
       "<g id=\"node9\" class=\"node\">\n",
       "<title>140324705734840</title>\n",
       "<ellipse fill=\"none\" stroke=\"#000000\" cx=\"244.6967\" cy=\"-279\" rx=\"40.0939\" ry=\"18\"/>\n",
       "<text text-anchor=\"middle\" x=\"244.6967\" y=\"-275.3\" font-family=\"Times,serif\" font-size=\"14.00\" fill=\"#000000\">fn:printf</text>\n",
       "</g>\n",
       "<!-- 140324705737304&#45;&gt;140324705734840 -->\n",
       "<g id=\"edge8\" class=\"edge\">\n",
       "<title>140324705737304&#45;&gt;140324705734840</title>\n",
       "<path fill=\"none\" stroke=\"#ff0000\" d=\"M239.9399,-347.9735C240.7524,-336.1918 241.8304,-320.5607 242.7547,-307.1581\"/>\n",
       "<polygon fill=\"#ff0000\" stroke=\"#ff0000\" points=\"246.2586,-307.2205 243.455,-297.0034 239.2752,-306.7388 246.2586,-307.2205\"/>\n",
       "<text text-anchor=\"middle\" x=\"248.1967\" y=\"-318.8\" font-family=\"Times,serif\" font-size=\"14.00\" fill=\"#000000\">/0</text>\n",
       "</g>\n",
       "<!-- 140324706236176 -->\n",
       "<g id=\"node10\" class=\"node\">\n",
       "<title>140324706236176</title>\n",
       "<ellipse fill=\"none\" stroke=\"#000000\" cx=\"244.6967\" cy=\"-192\" rx=\"35.194\" ry=\"18\"/>\n",
       "<text text-anchor=\"middle\" x=\"244.6967\" y=\"-188.3\" font-family=\"Times,serif\" font-size=\"14.00\" fill=\"#000000\">vector:</text>\n",
       "</g>\n",
       "<!-- 140324705734840&#45;&gt;140324706236176 -->\n",
       "<g id=\"edge9\" class=\"edge\">\n",
       "<title>140324705734840&#45;&gt;140324706236176</title>\n",
       "<path fill=\"none\" stroke=\"#0000ff\" d=\"M244.6967,-260.9735C244.6967,-249.1918 244.6967,-233.5607 244.6967,-220.1581\"/>\n",
       "<polygon fill=\"#0000ff\" stroke=\"#0000ff\" points=\"248.1968,-220.0033 244.6967,-210.0034 241.1968,-220.0034 248.1968,-220.0033\"/>\n",
       "<text text-anchor=\"middle\" x=\"256.1967\" y=\"-231.8\" font-family=\"Times,serif\" font-size=\"14.00\" fill=\"#000000\">args</text>\n",
       "</g>\n",
       "<!-- 140324706235000 -->\n",
       "<g id=\"node11\" class=\"node\">\n",
       "<title>140324706235000</title>\n",
       "<ellipse fill=\"none\" stroke=\"#000000\" cx=\"236.6967\" cy=\"-105\" rx=\"27\" ry=\"18\"/>\n",
       "<text text-anchor=\"middle\" x=\"236.6967\" y=\"-101.3\" font-family=\"Times,serif\" font-size=\"14.00\" fill=\"#000000\">ptr:</text>\n",
       "</g>\n",
       "<!-- 140324706236176&#45;&gt;140324706235000 -->\n",
       "<g id=\"edge10\" class=\"edge\">\n",
       "<title>140324706236176&#45;&gt;140324706235000</title>\n",
       "<path fill=\"none\" stroke=\"#ff0000\" d=\"M243.039,-173.9735C241.9557,-162.1918 240.5183,-146.5607 239.2859,-133.1581\"/>\n",
       "<polygon fill=\"#ff0000\" stroke=\"#ff0000\" points=\"242.7532,-132.6408 238.3521,-123.0034 235.7826,-133.2819 242.7532,-132.6408\"/>\n",
       "<text text-anchor=\"middle\" x=\"247.1967\" y=\"-144.8\" font-family=\"Times,serif\" font-size=\"14.00\" fill=\"#000000\">/0</text>\n",
       "</g>\n",
       "<!-- 140324706238136 -->\n",
       "<g id=\"node13\" class=\"node\">\n",
       "<title>140324706238136</title>\n",
       "<ellipse fill=\"none\" stroke=\"#000000\" cx=\"327.6967\" cy=\"-105\" rx=\"46.2923\" ry=\"18\"/>\n",
       "<text text-anchor=\"middle\" x=\"327.6967\" y=\"-101.3\" font-family=\"Times,serif\" font-size=\"14.00\" fill=\"#000000\">varargs:...</text>\n",
       "</g>\n",
       "<!-- 140324706236176&#45;&gt;140324706238136 -->\n",
       "<g id=\"edge12\" class=\"edge\">\n",
       "<title>140324706236176&#45;&gt;140324706238136</title>\n",
       "<path fill=\"none\" stroke=\"#ff0000\" d=\"M260.3083,-175.636C272.7848,-162.5582 290.4589,-144.0323 304.5767,-129.2342\"/>\n",
       "<polygon fill=\"#ff0000\" stroke=\"#ff0000\" points=\"307.2185,-131.5355 311.5888,-121.8841 302.1536,-126.7036 307.2185,-131.5355\"/>\n",
       "<text text-anchor=\"middle\" x=\"297.1967\" y=\"-144.8\" font-family=\"Times,serif\" font-size=\"14.00\" fill=\"#000000\">/1</text>\n",
       "</g>\n",
       "<!-- 140324705735064 -->\n",
       "<g id=\"node12\" class=\"node\">\n",
       "<title>140324705735064</title>\n",
       "<ellipse fill=\"none\" stroke=\"#000000\" cx=\"236.6967\" cy=\"-18\" rx=\"51.9908\" ry=\"18\"/>\n",
       "<text text-anchor=\"middle\" x=\"236.6967\" y=\"-14.3\" font-family=\"Times,serif\" font-size=\"14.00\" fill=\"#000000\">char:format</text>\n",
       "</g>\n",
       "<!-- 140324706235000&#45;&gt;140324705735064 -->\n",
       "<g id=\"edge11\" class=\"edge\">\n",
       "<title>140324706235000&#45;&gt;140324705735064</title>\n",
       "<path fill=\"none\" stroke=\"#ff0000\" d=\"M236.6967,-86.9735C236.6967,-75.1918 236.6967,-59.5607 236.6967,-46.1581\"/>\n",
       "<polygon fill=\"#ff0000\" stroke=\"#ff0000\" points=\"240.1968,-46.0033 236.6967,-36.0034 233.1968,-46.0034 240.1968,-46.0033\"/>\n",
       "<text text-anchor=\"middle\" x=\"242.1967\" y=\"-57.8\" font-family=\"Times,serif\" font-size=\"14.00\" fill=\"#000000\">/0</text>\n",
       "</g>\n",
       "<!-- 140324706237520 -->\n",
       "<g id=\"node15\" class=\"node\">\n",
       "<title>140324706237520</title>\n",
       "<ellipse fill=\"none\" stroke=\"#000000\" cx=\"340.6967\" cy=\"-279\" rx=\"27\" ry=\"18\"/>\n",
       "<text text-anchor=\"middle\" x=\"340.6967\" y=\"-275.3\" font-family=\"Times,serif\" font-size=\"14.00\" fill=\"#000000\">int:0</text>\n",
       "</g>\n",
       "<!-- 140324706236848&#45;&gt;140324706237520 -->\n",
       "<g id=\"edge14\" class=\"edge\">\n",
       "<title>140324706236848&#45;&gt;140324706237520</title>\n",
       "<path fill=\"none\" stroke=\"#ff0000\" d=\"M340.6967,-347.9735C340.6967,-336.1918 340.6967,-320.5607 340.6967,-307.1581\"/>\n",
       "<polygon fill=\"#ff0000\" stroke=\"#ff0000\" points=\"344.1968,-307.0033 340.6967,-297.0034 337.1968,-307.0034 344.1968,-307.0033\"/>\n",
       "<text text-anchor=\"middle\" x=\"346.1967\" y=\"-318.8\" font-family=\"Times,serif\" font-size=\"14.00\" fill=\"#000000\">/0</text>\n",
       "</g>\n",
       "</g>\n",
       "</svg>\n"
      ],
      "text/plain": [
       "<graphviz.dot.Digraph at 0x7f9fe444b550>"
      ]
     },
     "execution_count": 27,
     "metadata": {},
     "output_type": "execute_result"
    }
   ],
   "source": [
    "class Return(Meta):\n",
    "    def __init__(self,Arg):\n",
    "        Meta.__init__(self,Arg.val) ; self // Arg\n",
    "\n",
    "main // Return(Int(0))\n",
    "print(main) ; main.plot()"
   ]
  },
  {
   "cell_type": "markdown",
   "metadata": {},
   "source": [
    "## Библиотека meteo.kit"
   ]
  },
  {
   "cell_type": "code",
   "execution_count": 28,
   "metadata": {},
   "outputs": [
    {
     "name": "stdout",
     "output_type": "stream",
     "text": [
      "-rw-r--r-- 1 ponyatov ponyatov    0 апр  4 13:53 meteo/__init__.py\r\n",
      "-rw-r--r-- 1 ponyatov ponyatov 1938 мар 28 15:33 meteo/.ipynb_checkpoints/kit-checkpoint.py\r\n",
      "-rw-r--r-- 1 ponyatov ponyatov 2873 апр  4 13:53 meteo/kit.py\r\n"
     ]
    }
   ],
   "source": [
    "! mkdir -p meteo\n",
    "! touch meteo/__init__.py meteo/kit.py\n",
    "! find meteo -type f -regex .+.py -exec ls -la {} +"
   ]
  },
  {
   "cell_type": "markdown",
   "metadata": {},
   "source": [
    "Для использования в блокнотах реализация метода вычислений на графах вынесена во внешний Python-модуль. Для использования в вашем блоконоте ее нужно импортировать."
   ]
  },
  {
   "cell_type": "code",
   "execution_count": 29,
   "metadata": {},
   "outputs": [
    {
     "name": "stdout",
     "output_type": "stream",
     "text": [
      "<class '__main__.Object'>\n"
     ]
    }
   ],
   "source": [
    "print(Object)  # определение класса Object из блокнота"
   ]
  },
  {
   "cell_type": "code",
   "execution_count": 30,
   "metadata": {},
   "outputs": [
    {
     "name": "stdout",
     "output_type": "stream",
     "text": [
      "<class 'meteo.kit.Object'>\n"
     ]
    }
   ],
   "source": [
    "from meteo.kit import *  # импорт модуля\n",
    "print(Object)  # после подгрузки модуля используются библиотечные классы"
   ]
  },
  {
   "cell_type": "markdown",
   "metadata": {},
   "source": [
    "## Низкоуровневый (кросс-)компилятор / LLVM /"
   ]
  },
  {
   "cell_type": "markdown",
   "metadata": {},
   "source": [
    "* обработка больших объемов данных, для которой недостаточно скорости Python\n",
    "* создание самостоятельных программ, не требующих для работы интерпретатора"
   ]
  },
  {
   "cell_type": "markdown",
   "metadata": {},
   "source": [
    "https://habr.com/ru/post/47878/"
   ]
  },
  {
   "cell_type": "markdown",
   "metadata": {},
   "source": [
    "В состав `meteo.kit` в качестве примера включен функционал очень ограниченного низкоуровневого компилятора, который использует библиотеку LLVM в качестве backendа. Он генерирует платформенно-независимый код в формате LLVM IR, который затем может быть скомпилирован в машинный код для любой из десятка+ поддерживаемых платформ:\n",
    "* `x86_64`, `i386`, win32/linux\n",
    "* `arm9/11`, Raspberry Pi, мобильные телефоны\n",
    "* `arm-none-eabi`, любые микроконтроллеры архитектуры Cortex-M (STM32, Миландр ВМ1986ВЕ,..)\n",
    "* `mipsel32`, массово доступные дешевые SOHO-роутеры на SoC RT5350F\n",
    "* `avr8` поделки на Arduino для автоматизации"
   ]
  },
  {
   "cell_type": "code",
   "execution_count": null,
   "metadata": {},
   "outputs": [],
   "source": []
  }
 ],
 "metadata": {
  "kernelspec": {
   "display_name": "Python 3",
   "language": "python",
   "name": "python3"
  },
  "language_info": {
   "codemirror_mode": {
    "name": "ipython",
    "version": 3
   },
   "file_extension": ".py",
   "mimetype": "text/x-python",
   "name": "python",
   "nbconvert_exporter": "python",
   "pygments_lexer": "ipython3",
   "version": "3.7.3"
  },
  "toc-autonumbering": true,
  "toc-showcode": false,
  "toc-showmarkdowntxt": false,
  "toc-showtags": false
 },
 "nbformat": 4,
 "nbformat_minor": 4
}
