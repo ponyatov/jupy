{
 "cells": [
  {
   "cell_type": "markdown",
   "metadata": {},
   "source": [
    "# Метеорологический бюллетень\n",
    "#### интерактивная форма подготовки"
   ]
  },
  {
   "cell_type": "markdown",
   "metadata": {},
   "source": [
    "### управление\n",
    "\n",
    "|||\n",
    "-|-\n",
    "клавиатурные стрелки|перемещение по блокноту, выбор текущей ячейки\n",
    "`[Ctrl]+[Enter]` | **вычисление текущей ячейки**\n",
    "`[Shift]+[Enter]`| вычисление ячейки **с автоматическим переходом к следующей**\n",
    "`[Ctrl]+[Shift]+[-]`|разделение ячейки на две по текущей строке курсора в редакторе\n",
    "`[Ctrl]+[/]`|(раз)коммектирование выделенного Python-кода в редакторе\n",
    "`[Ctrl]+[L]`|переформатирование кода по стандарту (`autopep8`)\n",
    "`[M]`|сменить тип ячейки на **M**arkdown (язык разметки текста)\n",
    "`[Y]`|сменить тип ячейки на P**y**thon\n",
    "`[A]`|вставить новую ячейку *выше* (**a**bove)\n",
    "`[B]`|вставить новую ячейку *ниже* (**b**elow)\n",
    "`[Enter]`|вход в редактор текущей ячейки\n",
    "`[Esc]`| выход из редактора (без пересчета ячейки)"
   ]
  },
  {
   "cell_type": "markdown",
   "metadata": {},
   "source": [
    "#### метка текущего времени"
   ]
  },
  {
   "cell_type": "code",
   "execution_count": 1,
   "metadata": {},
   "outputs": [
    {
     "data": {
      "text/plain": [
       "'29.03.2020 10:26'"
      ]
     },
     "execution_count": 1,
     "metadata": {},
     "output_type": "execute_result"
    }
   ],
   "source": [
    "import datetime as dtime\n",
    "# значение переменной выставляется на момент выполнения этой ячейки [Ctrl]+[Enter]\n",
    "now = dtime.datetime.now()\n",
    "now.strftime('%d.%m.%Y %H:%M')"
   ]
  },
  {
   "cell_type": "markdown",
   "metadata": {},
   "source": [
    "#### подключение к СУБД (PostgreSQL/PostGIS)"
   ]
  },
  {
   "cell_type": "markdown",
   "metadata": {},
   "source": [
    "* [Работа с PostgreSQL в Python](https://khashtamov.com/ru/postgresql-python-psycopg2/)"
   ]
  },
  {
   "cell_type": "code",
   "execution_count": 2,
   "metadata": {},
   "outputs": [
    {
     "data": {
      "text/plain": [
       "<connection object at 0x7f6fec736048; dsn: 'user=jupy password=xxx dbname=bully host=127.0.0.1', closed: 0>"
      ]
     },
     "execution_count": 2,
     "metadata": {},
     "output_type": "execute_result"
    }
   ],
   "source": [
    "import psycopg2\n",
    "db = psycopg2.connect(\n",
    "    dbname='bully', host='127.0.0.1',\n",
    "    user='jupy', password='passwd')\n",
    "db"
   ]
  },
  {
   "cell_type": "markdown",
   "metadata": {},
   "source": [
    "### получение данных пользователя"
   ]
  },
  {
   "cell_type": "code",
   "execution_count": 3,
   "metadata": {},
   "outputs": [
    {
     "name": "stdout",
     "output_type": "stream",
     "text": [
      "login: ponyatov\n"
     ]
    }
   ],
   "source": [
    "import getpass\n",
    "# получение данных пользователя, заполняющего бюллетень\n",
    "login = getpass.getuser()\n",
    "print('login:', login)"
   ]
  },
  {
   "cell_type": "code",
   "execution_count": null,
   "metadata": {},
   "outputs": [],
   "source": [
    "1 + 2/3"
   ]
  }
 ],
 "metadata": {
  "kernelspec": {
   "display_name": "Python 3",
   "language": "python",
   "name": "python3"
  },
  "language_info": {
   "codemirror_mode": {
    "name": "ipython",
    "version": 3
   },
   "file_extension": ".py",
   "mimetype": "text/x-python",
   "name": "python",
   "nbconvert_exporter": "python",
   "pygments_lexer": "ipython3",
   "version": "3.7.3"
  }
 },
 "nbformat": 4,
 "nbformat_minor": 4
}
